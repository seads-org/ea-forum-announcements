{
 "cells": [
  {
   "cell_type": "code",
   "execution_count": 1,
   "id": "6ed63e92",
   "metadata": {},
   "outputs": [
    {
     "name": "stderr",
     "output_type": "stream",
     "text": [
      "[nltk_data] Downloading package punkt to /home/justy/nltk_data...\n",
      "[nltk_data]   Package punkt is already up-to-date!\n"
     ]
    }
   ],
   "source": [
    "import project_path\n",
    "\n",
    "%load_ext autoreload\n",
    "%autoreload 2\n",
    "\n",
    "import numpy as np\n",
    "import pandas as pd\n",
    "from tqdm.auto import tqdm\n",
    "from sklearn.metrics import confusion_matrix\n",
    "import matplotlib.pyplot as plt\n",
    "\n",
    "import nltk\n",
    "nltk.download('punkt')\n",
    "\n",
    "from src.text_split import extract_paragraphs, split_long_paragraphs, collapse_paragraphs_iteratively\n",
    "from src.paths import datap"
   ]
  },
  {
   "cell_type": "code",
   "execution_count": 2,
   "id": "4fba0843",
   "metadata": {},
   "outputs": [],
   "source": [
    "tqdm.pandas()"
   ]
  },
  {
   "cell_type": "code",
   "execution_count": 3,
   "id": "19563276",
   "metadata": {},
   "outputs": [],
   "source": [
    "dataset = pd.read_csv(datap(\"labeled_posts.csv\"))"
   ]
  },
  {
   "cell_type": "code",
   "execution_count": 4,
   "id": "dd2c4dd3",
   "metadata": {},
   "outputs": [
    {
     "data": {
      "text/html": [
       "<div>\n",
       "<style scoped>\n",
       "    .dataframe tbody tr th:only-of-type {\n",
       "        vertical-align: middle;\n",
       "    }\n",
       "\n",
       "    .dataframe tbody tr th {\n",
       "        vertical-align: top;\n",
       "    }\n",
       "\n",
       "    .dataframe thead th {\n",
       "        text-align: right;\n",
       "    }\n",
       "</style>\n",
       "<table border=\"1\" class=\"dataframe\">\n",
       "  <thead>\n",
       "    <tr style=\"text-align: right;\">\n",
       "      <th></th>\n",
       "      <th>_id</th>\n",
       "      <th>body</th>\n",
       "      <th>label</th>\n",
       "    </tr>\n",
       "  </thead>\n",
       "  <tbody>\n",
       "    <tr>\n",
       "      <th>0</th>\n",
       "      <td>W5taETbarXR9CQnEQ</td>\n",
       "      <td>\\n\\nOur programs exist to have a positive impa...</td>\n",
       "      <td>2.0</td>\n",
       "    </tr>\n",
       "    <tr>\n",
       "      <th>1</th>\n",
       "      <td>H8RrdDHGBLQHHopMj</td>\n",
       "      <td>\\n\\n## The most important century is the one w...</td>\n",
       "      <td>2.0</td>\n",
       "    </tr>\n",
       "    <tr>\n",
       "      <th>2</th>\n",
       "      <td>toDKgyu3HdzKyQHPb</td>\n",
       "      <td>\\n\\nMeet us at the Karbach Biergarten for an I...</td>\n",
       "      <td>2.0</td>\n",
       "    </tr>\n",
       "    <tr>\n",
       "      <th>3</th>\n",
       "      <td>Nb2HnrqG4nkjCqmRg</td>\n",
       "      <td>\\n\\nDisclaimer: We (Sam Nolan, Hannah Rokebran...</td>\n",
       "      <td>2.0</td>\n",
       "    </tr>\n",
       "    <tr>\n",
       "      <th>4</th>\n",
       "      <td>ZJpPvxXdimPgxFp2j</td>\n",
       "      <td>\\n\\nAt Founders Pledge, we just launched a new...</td>\n",
       "      <td>0.0</td>\n",
       "    </tr>\n",
       "  </tbody>\n",
       "</table>\n",
       "</div>"
      ],
      "text/plain": [
       "                 _id                                               body  label\n",
       "0  W5taETbarXR9CQnEQ  \\n\\nOur programs exist to have a positive impa...    2.0\n",
       "1  H8RrdDHGBLQHHopMj  \\n\\n## The most important century is the one w...    2.0\n",
       "2  toDKgyu3HdzKyQHPb  \\n\\nMeet us at the Karbach Biergarten for an I...    2.0\n",
       "3  Nb2HnrqG4nkjCqmRg  \\n\\nDisclaimer: We (Sam Nolan, Hannah Rokebran...    2.0\n",
       "4  ZJpPvxXdimPgxFp2j  \\n\\nAt Founders Pledge, we just launched a new...    0.0"
      ]
     },
     "execution_count": 4,
     "metadata": {},
     "output_type": "execute_result"
    }
   ],
   "source": [
    "dataset.head()"
   ]
  },
  {
   "cell_type": "code",
   "execution_count": 5,
   "id": "25ecaa7e",
   "metadata": {},
   "outputs": [
    {
     "data": {
      "application/vnd.jupyter.widget-view+json": {
       "model_id": "25d90987e42e4a40817488a6ac439d16",
       "version_major": 2,
       "version_minor": 0
      },
      "text/plain": [
       "  0%|          | 0/320 [00:00<?, ?it/s]"
      ]
     },
     "metadata": {},
     "output_type": "display_data"
    },
    {
     "data": {
      "application/vnd.jupyter.widget-view+json": {
       "model_id": "5d5bdcff5b3a489e99eb97e6a17c031e",
       "version_major": 2,
       "version_minor": 0
      },
      "text/plain": [
       "  0%|          | 0/320 [00:00<?, ?it/s]"
      ]
     },
     "metadata": {},
     "output_type": "display_data"
    },
    {
     "data": {
      "application/vnd.jupyter.widget-view+json": {
       "model_id": "d031db00a50b4923b4b7f9a279502bc5",
       "version_major": 2,
       "version_minor": 0
      },
      "text/plain": [
       "  0%|          | 0/313 [00:00<?, ?it/s]"
      ]
     },
     "metadata": {},
     "output_type": "display_data"
    }
   ],
   "source": [
    "max_n_words = 400\n",
    "dataset['paragraphs'] = dataset.body.progress_map(extract_paragraphs)\n",
    "dataset['paragraphs'] = dataset.paragraphs.progress_map(lambda p: split_long_paragraphs(p, max_n_words=max_n_words))\n",
    "dataset = dataset[~dataset.apply(lambda x: x.paragraphs.empty, axis=1)]\n",
    "dataset['paragraphs_split'] = dataset.paragraphs.progress_map(lambda x: collapse_paragraphs_iteratively(x, max_n_words=max_n_words))"
   ]
  },
  {
   "cell_type": "code",
   "execution_count": 6,
   "id": "1cc28759",
   "metadata": {},
   "outputs": [
    {
     "data": {
      "text/plain": [
       "(2051, 3)"
      ]
     },
     "execution_count": 6,
     "metadata": {},
     "output_type": "execute_result"
    }
   ],
   "source": [
    "paragraph_split = pd.concat([\n",
    "    pd.DataFrame({\"postId\": r._id, \"text\": r.paragraphs_split.text.values, \"label\": r.label})\n",
    "    for pid,r in dataset.iterrows()\n",
    "], ignore_index=True)\n",
    "paragraph_split.shape"
   ]
  },
  {
   "cell_type": "code",
   "execution_count": 7,
   "id": "cbdc6907",
   "metadata": {},
   "outputs": [],
   "source": [
    "label_map = {\"organization\": 0, \"project\": 1, \"other\": 2}\n",
    "class_map = {id_: class_ for class_, id_ in label_map.items()}"
   ]
  },
  {
   "cell_type": "code",
   "execution_count": 8,
   "id": "8682890c",
   "metadata": {},
   "outputs": [
    {
     "data": {
      "text/html": [
       "<div>\n",
       "<style scoped>\n",
       "    .dataframe tbody tr th:only-of-type {\n",
       "        vertical-align: middle;\n",
       "    }\n",
       "\n",
       "    .dataframe tbody tr th {\n",
       "        vertical-align: top;\n",
       "    }\n",
       "\n",
       "    .dataframe thead th {\n",
       "        text-align: right;\n",
       "    }\n",
       "</style>\n",
       "<table border=\"1\" class=\"dataframe\">\n",
       "  <thead>\n",
       "    <tr style=\"text-align: right;\">\n",
       "      <th></th>\n",
       "      <th>postId</th>\n",
       "      <th>text</th>\n",
       "      <th>label</th>\n",
       "    </tr>\n",
       "  </thead>\n",
       "  <tbody>\n",
       "    <tr>\n",
       "      <th>0</th>\n",
       "      <td>W5taETbarXR9CQnEQ</td>\n",
       "      <td>Our programs exist to have a positive impact o...</td>\n",
       "      <td>2.0</td>\n",
       "    </tr>\n",
       "    <tr>\n",
       "      <th>3</th>\n",
       "      <td>H8RrdDHGBLQHHopMj</td>\n",
       "      <td>The most important century is the one we are l...</td>\n",
       "      <td>2.0</td>\n",
       "    </tr>\n",
       "    <tr>\n",
       "      <th>8</th>\n",
       "      <td>toDKgyu3HdzKyQHPb</td>\n",
       "      <td>Meet us at the Karbach Biergarten for an Intro...</td>\n",
       "      <td>2.0</td>\n",
       "    </tr>\n",
       "    <tr>\n",
       "      <th>9</th>\n",
       "      <td>Nb2HnrqG4nkjCqmRg</td>\n",
       "      <td>Disclaimer: We (Sam Nolan, Hannah Rokebrand an...</td>\n",
       "      <td>2.0</td>\n",
       "    </tr>\n",
       "    <tr>\n",
       "      <th>31</th>\n",
       "      <td>ZJpPvxXdimPgxFp2j</td>\n",
       "      <td>At Founders Pledge, we just launched a new add...</td>\n",
       "      <td>0.0</td>\n",
       "    </tr>\n",
       "    <tr>\n",
       "      <th>...</th>\n",
       "      <td>...</td>\n",
       "      <td>...</td>\n",
       "      <td>...</td>\n",
       "    </tr>\n",
       "    <tr>\n",
       "      <th>2038</th>\n",
       "      <td>5kFwcwDawAHZx6Tqd</td>\n",
       "      <td>We're excited to announce EA Profiles, a new c...</td>\n",
       "      <td>2.0</td>\n",
       "    </tr>\n",
       "    <tr>\n",
       "      <th>2040</th>\n",
       "      <td>TYEt3ZN8KwcAqQ8Nf</td>\n",
       "      <td>Hi readers,\\nIt's great to have you on the for...</td>\n",
       "      <td>2.0</td>\n",
       "    </tr>\n",
       "    <tr>\n",
       "      <th>2041</th>\n",
       "      <td>XB7uvweiLLcQzxvMh</td>\n",
       "      <td>The Centre for Effective Altruism\\--the umbrel...</td>\n",
       "      <td>2.0</td>\n",
       "    </tr>\n",
       "    <tr>\n",
       "      <th>2042</th>\n",
       "      <td>4kqiHGrZh6Rj7EmEW</td>\n",
       "      <td>When I was younger, I was extremely struck by ...</td>\n",
       "      <td>2.0</td>\n",
       "    </tr>\n",
       "    <tr>\n",
       "      <th>2044</th>\n",
       "      <td>NZao4Am9AAj4ZbBok</td>\n",
       "      <td>Over the coming weeks, I intend to write up a ...</td>\n",
       "      <td>2.0</td>\n",
       "    </tr>\n",
       "  </tbody>\n",
       "</table>\n",
       "<p>312 rows × 3 columns</p>\n",
       "</div>"
      ],
      "text/plain": [
       "                 postId                                               text  \\\n",
       "0     W5taETbarXR9CQnEQ  Our programs exist to have a positive impact o...   \n",
       "3     H8RrdDHGBLQHHopMj  The most important century is the one we are l...   \n",
       "8     toDKgyu3HdzKyQHPb  Meet us at the Karbach Biergarten for an Intro...   \n",
       "9     Nb2HnrqG4nkjCqmRg  Disclaimer: We (Sam Nolan, Hannah Rokebrand an...   \n",
       "31    ZJpPvxXdimPgxFp2j  At Founders Pledge, we just launched a new add...   \n",
       "...                 ...                                                ...   \n",
       "2038  5kFwcwDawAHZx6Tqd  We're excited to announce EA Profiles, a new c...   \n",
       "2040  TYEt3ZN8KwcAqQ8Nf  Hi readers,\\nIt's great to have you on the for...   \n",
       "2041  XB7uvweiLLcQzxvMh  The Centre for Effective Altruism\\--the umbrel...   \n",
       "2042  4kqiHGrZh6Rj7EmEW  When I was younger, I was extremely struck by ...   \n",
       "2044  NZao4Am9AAj4ZbBok  Over the coming weeks, I intend to write up a ...   \n",
       "\n",
       "      label  \n",
       "0       2.0  \n",
       "3       2.0  \n",
       "8       2.0  \n",
       "9       2.0  \n",
       "31      0.0  \n",
       "...     ...  \n",
       "2038    2.0  \n",
       "2040    2.0  \n",
       "2041    2.0  \n",
       "2042    2.0  \n",
       "2044    2.0  \n",
       "\n",
       "[312 rows x 3 columns]"
      ]
     },
     "execution_count": 8,
     "metadata": {},
     "output_type": "execute_result"
    }
   ],
   "source": [
    "first_paragraphs = paragraph_split.drop_duplicates(subset=\"postId\", keep=\"first\")\n",
    "first_paragraphs"
   ]
  },
  {
   "cell_type": "code",
   "execution_count": 9,
   "id": "f0330e42",
   "metadata": {},
   "outputs": [],
   "source": [
    "def classifier(text):\n",
    "    if \"organisation\" in text or \"organization\" in text:\n",
    "        return label_map[\"organization\"]\n",
    "    elif \"project\" in text:\n",
    "        return label_map[\"project\"]\n",
    "    else:\n",
    "        return label_map[\"other\"]"
   ]
  },
  {
   "cell_type": "code",
   "execution_count": 10,
   "id": "223cb2a6",
   "metadata": {},
   "outputs": [
    {
     "name": "stderr",
     "output_type": "stream",
     "text": [
      "/tmp/ipykernel_4809/178068051.py:1: SettingWithCopyWarning: \n",
      "A value is trying to be set on a copy of a slice from a DataFrame.\n",
      "Try using .loc[row_indexer,col_indexer] = value instead\n",
      "\n",
      "See the caveats in the documentation: https://pandas.pydata.org/pandas-docs/stable/user_guide/indexing.html#returning-a-view-versus-a-copy\n",
      "  first_paragraphs[\"prediction\"] = first_paragraphs.text.apply(classifier)\n"
     ]
    }
   ],
   "source": [
    "first_paragraphs[\"prediction\"] = first_paragraphs.text.apply(classifier)\n",
    "first_paragraphs = first_paragraphs.reset_index(drop=True)"
   ]
  },
  {
   "cell_type": "code",
   "execution_count": 11,
   "id": "48c37074",
   "metadata": {},
   "outputs": [],
   "source": [
    "test_indices = [18,\n",
    " 98,\n",
    " 135,\n",
    " 237,\n",
    " 183,\n",
    " 130,\n",
    " 85,\n",
    " 214,\n",
    " 200,\n",
    " 187,\n",
    " 301,\n",
    " 15,\n",
    " 103,\n",
    " 13,\n",
    " 211,\n",
    " 298,\n",
    " 34,\n",
    " 2,\n",
    " 249,\n",
    " 289,\n",
    " 29,\n",
    " 137,\n",
    " 87,\n",
    " 49,\n",
    " 198,\n",
    " 164,\n",
    " 151,\n",
    " 63,\n",
    " 168,\n",
    " 217,\n",
    " 162,\n",
    " 221,\n",
    " 190,\n",
    " 254,\n",
    " 41,\n",
    " 53,\n",
    " 245,\n",
    " 100,\n",
    " 22,\n",
    " 285,\n",
    " 101,\n",
    " 152,\n",
    " 208,\n",
    " 140,\n",
    " 55,\n",
    " 189,\n",
    " 62,\n",
    " 23,\n",
    " 26,\n",
    " 174,\n",
    " 17,\n",
    " 266,\n",
    " 128,\n",
    " 236,\n",
    " 268,\n",
    " 278,\n",
    " 295,\n",
    " 311,\n",
    " 116,\n",
    " 263,\n",
    " 117,\n",
    " 145,\n",
    " 199,\n",
    " 288,\n",
    " 46,\n",
    " 155,\n",
    " 51,\n",
    " 134,\n",
    " 172,\n",
    " 283,\n",
    " 229,\n",
    " 252,\n",
    " 235,\n",
    " 154,\n",
    " 227,\n",
    " 191,\n",
    " 92,\n",
    " 16,\n",
    " 210,\n",
    " 9,\n",
    " 70,\n",
    " 195,\n",
    " 286,\n",
    " 224,\n",
    " 267,\n",
    " 150,\n",
    " 77,\n",
    " 185,\n",
    " 265,\n",
    " 4,\n",
    " 270,\n",
    " 276,\n",
    " 281,\n",
    " 157,\n",
    " 114,\n",
    " 35,\n",
    " 147,\n",
    " 122,\n",
    " 113,\n",
    " 79,\n",
    " 175,\n",
    " 204,\n",
    " 131,\n",
    " 158,\n",
    " 106,\n",
    " 40,\n",
    " 127,\n",
    " 80,\n",
    " 108,\n",
    " 56,\n",
    " 124,\n",
    " 222,\n",
    " 38,\n",
    " 119,\n",
    " 163,\n",
    " 279,\n",
    " 42,\n",
    " 269,\n",
    " 307,\n",
    " 299,\n",
    " 102,\n",
    " 274,\n",
    " 165,\n",
    " 11]"
   ]
  },
  {
   "cell_type": "code",
   "execution_count": 12,
   "id": "71452ae3",
   "metadata": {},
   "outputs": [
    {
     "data": {
      "text/plain": [
       "array([[14,  3,  4],\n",
       "       [ 7,  5,  5],\n",
       "       [ 7, 11, 68]])"
      ]
     },
     "execution_count": 12,
     "metadata": {},
     "output_type": "execute_result"
    }
   ],
   "source": [
    "conf_mat = confusion_matrix(first_paragraphs.loc[test_indices][\"label\"], first_paragraphs.loc[test_indices][\"prediction\"])\n",
    "conf_mat"
   ]
  },
  {
   "cell_type": "code",
   "execution_count": 13,
   "id": "cb96513d",
   "metadata": {},
   "outputs": [
    {
     "data": {
      "image/png": "[encoded data removed]",
      "text/plain": [
       "<Figure size 640x480 with 1 Axes>"
      ]
     },
     "metadata": {},
     "output_type": "display_data"
    }
   ],
   "source": [
    "classes = [\"organization\", \"project\", \"other\"]\n",
    "\n",
    "fig, ax = plt.subplots()\n",
    "im = ax.imshow(conf_mat)\n",
    "\n",
    "ax.set_xticks(np.arange(len(classes)), labels=classes)\n",
    "ax.set_yticks(np.arange(len(classes)), labels=classes)\n",
    "ax.set_xlabel(\"Predicted\")\n",
    "ax.set_ylabel(\"Actual\")\n",
    "\n",
    "# Rotate the tick labels and set their alignment.\n",
    "plt.setp(ax.get_xticklabels(), rotation=45, ha=\"right\", rotation_mode=\"anchor\")\n",
    "\n",
    "# Loop over data dimensions and create text annotations.\n",
    "for i in range(len(classes)):\n",
    "    for j in range(len(classes)):\n",
    "        text = ax.text(j, i, conf_mat[i, j],\n",
    "                       ha=\"center\", va=\"center\", color=\"w\")"
   ]
  },
  {
   "cell_type": "code",
   "execution_count": 14,
   "id": "42bc5baa",
   "metadata": {},
   "outputs": [
    {
     "data": {
      "text/plain": [
       "(array([0.66666667, 0.29411765, 0.79069767]),\n",
       " array([0.13592233, 0.13084112, 0.23684211]))"
      ]
     },
     "execution_count": 14,
     "metadata": {},
     "output_type": "execute_result"
    }
   ],
   "source": [
    "FP = conf_mat.sum(axis=0) - np.diag(conf_mat)  \n",
    "FN = conf_mat.sum(axis=1) - np.diag(conf_mat)\n",
    "TP = np.diag(conf_mat)\n",
    "TN = conf_mat.sum() - (FP + FN + TP)\n",
    "\n",
    "# Sensitivity, hit rate, recall, or true positive rate\n",
    "TPR = TP / (TP+FN)\n",
    "# Fall out or false positive rate\n",
    "FPR = FP / (FP+TN)\n",
    "TPR, FPR"
   ]
  },
  {
   "cell_type": "code",
   "execution_count": 15,
   "id": "a83682f3",
   "metadata": {},
   "outputs": [
    {
     "data": {
      "text/plain": [
       "(0.5838273293813648, 0.16786851895185742)"
      ]
     },
     "execution_count": 15,
     "metadata": {},
     "output_type": "execute_result"
    }
   ],
   "source": [
    "np.mean(TPR), np.mean(FPR)"
   ]
  },
  {
   "cell_type": "code",
   "execution_count": 16,
   "id": "0797d855",
   "metadata": {},
   "outputs": [],
   "source": [
    "test_data = first_paragraphs.iloc[test_indices]"
   ]
  },
  {
   "cell_type": "code",
   "execution_count": 17,
   "id": "88f3a6df",
   "metadata": {},
   "outputs": [],
   "source": [
    "results = pd.DataFrame({\"labels\": test_data[\"label\"], \n",
    "                        \"preds\": test_data[\"prediction\"], \n",
    "                        \"id\": test_data[\"postId\"]})\n",
    "results[\"pred_class\"] = results.preds.map(class_map)\n",
    "results[\"true_class\"] = results.labels.map(class_map)"
   ]
  },
  {
   "cell_type": "code",
   "execution_count": 18,
   "id": "6b0b5a12",
   "metadata": {},
   "outputs": [],
   "source": [
    "org2other = results[(results.true_class == \"other\") & (results.pred_class == \"organization\")]"
   ]
  },
  {
   "cell_type": "code",
   "execution_count": 19,
   "id": "fbf6623b",
   "metadata": {
    "scrolled": false
   },
   "outputs": [
    {
     "name": "stdout",
     "output_type": "stream",
     "text": [
      "\n",
      "\n",
      "This is a first part of two-part post about effective altruism in the Czech Republic, describing its history and reflections on what worked.\n",
      "\n",
      "I think it can be useful\n",
      "\n",
      "\\- to share experiences with building the EA community in a country where it did not exist (even if it is anecdotal evidence)\n",
      "\n",
      "\\- because we are working on several projects that have global or European ambitions, and we are happy to work together on them with you :)\n",
      "\n",
      "\\- because the perspective from Prague is sometimes different from Oxford or the Bay Area\n",
      "\n",
      "Beginnings\n",
      "\n",
      "The Czech Association for Effective Altruism (CZEA) was established relatively recently in the second half of 2016, by members of the local LessWrong community, but also with the participation of Radim Lacina from Oxford and Aleš Flidr from Harvard EA. Our first project was the organization of the EAGx Prague 2016 conference, with the main goal of increasing the number of effective altruists in the country. The second activity we have been spending much effort on in the beginning was strategizing.\n",
      "\n",
      "EAGxPrague was quite successful - we had over 100 participants, several high-profile foreign speakers, and the result of the conference was an increase in the number of members from about five to about fifteen. The second important result was strengthening of the team organizing the conference.\n",
      "\n",
      "Reflection: Organizing a high profile conference with international participation seems to be a good way to kick-start a movement in a country where it does not exist. \"Impressive names\" on the list of speakers are good for attracting local influencers, philanthropists, and people who have a high price of their own time. The combination of \"important\" people and students seems to us to work better than something narrowly focused on students because it is more prestigious (it signals the importance of the effort in ways people intuitively evaluate). Media coverage in the form of a 30s spot in national TV or short articles in mainstream media is not good at explaining EA, but in a country where the EA has not existed, it is good for people who had met the EA ideas independently to notice and coordinate.\n",
      "\n",
      "Another good idea that influenced CZEA was me going to EAGx Oxford. While online resources provide a firehose of information, it is often outdated, and attending a conference where the core of the movement is present is by far the most effective way to synchronize with what are the biggest priorities and current discussions. In our case this lead to more focus on research, less on giving. Another thing that is highly valuable are connections in the social network.\n",
      "\n",
      "I think both things are replicable: if we have the ambition to build a global, coordinated movement, a possible recommendation for central EA organizations could be that it would be a good idea to prioritize attendance of community leaders from countries where the movement is just emerging at global events, despite such groups not having an impressive list of successes. \n",
      "\n",
      "It would make sense to sponsor EAGx in countries where the community is small / emerging, but capable to organize a conference. Again, one big benefit is it is much easier to learn current thoughts from people than from the depths of literature, the second value is in synchronization of actions of people inclined toward EA. \n",
      "\n",
      "Large part of the benefit of conferences may be in improving the flows of implicit information.\n",
      "\n",
      "## \n",
      "\n",
      "## 2017\n",
      "\n",
      "We wrote a rather ambitious strategy for 2017. We tried to think about the possible comparative advantages of effective altruists in the Czech Republic from the global perspective. EA prioritization considerations are often made from the point of view of a person living in Oxford, London, or Bay Area, and it seemed necessary to at least estimate what would be the result if we adapted the model for our circumstances.\n",
      "\n",
      "There are some real differences: the wage level in the Czech Republic is much lower than in central EA locations. To give an extreme example, a philosophy professor in Prague may earn as little as 18 000 usd per year.  This means it is much less effective to follow any kind of \"earning to give\" strategies, take GWWC pledges, etc. So we deprioritized \"contributing money\".\n",
      "\n",
      "On the other hand, due to low wages, relatively low income inequality and free study at public universities, the comparative advantage of the Czech Republic is cheap skilled labor, cheap research, development and various service works that can contribute to the global community. (E.g., the monthly salary of a PhD in maths working in research could be also around 15000 usd per year )\n",
      "\n",
      "Another area where our location may have a comparative advantage is organizing events - the costs of holding a conference or workshop with European reach in the Czech Republic are significantly lower than for example in Berlin or London. Prague has a good connection to many UK airports and is within 4-5 hours driving or taking a super-cheap bus from a major part of Germany. Actually, it would probably be cheaper to even run purely UK-focused events in Prague, as the airfare is lower than the difference in venue costs.\n",
      "\n",
      "What were the results of the strategy creation efforts?\n",
      "\n",
      "I would quote directly from the strategy document:\n",
      "\n",
      "#### \n",
      "\n",
      "#### 2017 Strategy\n",
      "\n",
      "In the Czech Republic, we are just at the beginning and we are not yet an established stable organization. In order to achieve the greatest possible positive impact, we need to ensure our future existence. Therefore, our primary priority is building community and to galvanize members. ... It is very valuable to build a community of people who are mutually supportive in their enthusiasm for effective altruism, even if they will not, for example, make any donations during the next 5 years.\n",
      "\n",
      "In addition to building a community of already involved effective altruists, it is also necessary to spread information about the philosophy of effective altruism toward people outside of the movement. We will produce information texts on effective altruism in Czech to inform and reduce barriers.\n",
      "\n",
      "Both of these areas are \"meta-activities\" focused mainly on the growth and promotion of the movement. We have also decided to supplement them with other activities that are focused on more direct help.\n",
      "\n",
      "We want to prove that we are serious about improving the world, and we do not just want to build a university debate club. From an outside point of view, we definitely do not want to look as an \"Effective Altruism Society, trying to help others as much as possible, whose only activity is its own promotion and expansion.\"\n",
      "\n",
      "However, looking at our actions on a long-term basis, it is much better to create an EA cell that will be active for the next 10 years, and every year it will contribute an effective charity equivalent of $50,000 than a cell that creates the equivalent of $ 100,000 in 2017 and then collapses. In the long run, therefore, in 2017, the meta-activity of building the movement is more important than direct aid.\n",
      "\n",
      "For the meta-activity of building a movement, however, projects focusing on more direct help will be instrumentally useful. Direct projects will give us:\n",
      "\n",
      "    * References and credibility (\"We are the Association for Effective Altruism: In 2017, we have succeeded in implementing successful specific projects X, Y, and Z.\")\n",
      "    * Information (for example, \"We put a lot effort into the  \"Adopt a chicken\" project and failed, but thanks to it we already know that people prefer pigs rather than chickens, so we can move our efforts further.\")\n",
      "    * New skills (the more versatile, the better, the more useful they will be in future projects)\n",
      "    * Contacts\n",
      "\n",
      "We chose two areas for more direct work: social impact assessment and research initiatives. As part of social impact assessment, we will focus on Czech non-profit and donors and will provide them with information on the methodology for measuring aid effectiveness and data-based selection of interventions. Research initiatives will inform the Czech academic environment about what research directions are potentially of great value for the future of humanity and support this research. Both of these direct projects provide, in addition to their direct goals, the ability to inform important groups of people about effective altruism. People engaging in non-profit work are often altruistically motivated, and it is, therefore, more appropriate for them to count others as an important priority in life. Collaboration with the academic community is again useful because of the general merits of properly targeted research.\n",
      "\n",
      "So, that was the strategy. What happened in practice?\n",
      "\n",
      "Results\n",
      "\n",
      "Impact assessment\n",
      "\n",
      "We started a social impact assessment project, called \"Help effectively\". It is probably worth explaining it was not created due to lack of understanding of EA ideas (like \"let's improve local charities!\"), but as a part of a larger communication strategy. There is much shorter inferential distance toward the idea of \"impact measurement\" or \"effective charity\" than toward let's say \"existential risk\" or \"AI safety\", so the plan was to first promote the \"effectivity mindset\" and than ask people to use it on a more meta level. The project won support from the Social Impact Awards incubator, successfully passed the incubation, and started working on several impact evaluations.\n",
      "\n",
      "Even with the successful incubation and support from consultations from one of the \"big 4\" consultancies, the results were small on the object level and mixed on a meta level. After much market research, it turned it is problematic to find \"customers\" for impact measurement among  NGOs, as they usually lack funding for such activity. So the second try was to find customers among the donors, who may be interested in improving the impact of their donations, or impact of the NGOs they support. This also didn't really catch up, or the organizations wanted services we didn't want to provide (like some \"turnkey impact assessment solution\").\n",
      "\n",
      "On the meta level, the big problem was what people in NGOs would really love is confirmation that what they are doing is good and effective, and just needs some fine tuning. Often this would not be the case, from EA perspectives. This put the people working on the project in a conflict of interest: reasoning from EA principles, it would be usually effective for the \"customer\" to switch to something quite different, but this would not be an outcome of the audit they would like, or an outcome which would attract more customers. At the end, it seemed the project had dangerous potential to corrupt the reasoning of the people working on it.\n",
      "\n",
      "After the team leader of the project left to work for the Copenhagen Consensus on \"Czech Priorities\" project, the project basically froze, and we do not intend to actively promote it further. However, it seems even without doing much useful in direct work, it can have some longer term impact in directing the people who start minding impact in an EA way.\n",
      "\n",
      "The project also had some benefits on an instrumental level. The association has established links with a number of big foundations and donors who are interested in the subject of impact assessment. It has also been confirmed that it is a good \"introductory theme\" that brings new people to EA. On the other hand, the trajectory where the new member joins effective altruism, they are most attracted to impact measurement work and start working on it, seems particularly dangerous for a deeper understanding and alignment of such members. The project work also helped build local community skills and organizational competence.\n",
      "\n",
      "### Research initiatives\n",
      "\n",
      "In the field of research steering, we originally planned to organize an AI safety workshop in the summer of 2017. We wanted the event to be held on academic grounds, and include speakers doing both AGI safety research and people from academia working on the more common near-term topics like adversarial ML. It turned out to be quite demanding to find the right academic partner - though we found some senior researchers interested in the subject, the usual problem was such people were too busy with managing their own grants, research groups, etc. Also when the opportunity to organize CFAR workshop in Europe, described later, arose, I decided to switch the organizational effort toward CFAR.\n",
      "\n",
      "The second main endeavor was starting the \"Effective thesis\" project. I will describe EffectiveThesis.com in more detail in the second article, so here is just the reasoning leading to its creation. There seems to be huge intellectual effort wasted in what people work on in their masters, bachelors or sometimes even PhD theses. Often the main point of the work is just getting the degree. If we can steer part of the good students toward EA aligned research topics, it may lead to interesting research being done at little cost. Apart from that, it can create big impact in three additional directions. \n",
      "\n",
      "1\\. It would connect the students to EA research institutions and would make hiring easier in the future, based on the experience and the produced thesis. \n",
      "\n",
      "2\\. Topic selection is often a critical moment in an academic career, shaping a researcher's long-term trajectory. Getting more people in the academia thinking about EA topics seems extremely valuable. \n",
      "\n",
      "3\\. As the students would seek advisors for their EA-aligned topics, the topics would get introduced to academia in a somewhat \"bottom-up approach\".\n",
      "\n",
      "### CFAR\n",
      "\n",
      "After meeting Duncan Sabien at EAGxOxford, we started communicating with CFAR staff about the possibility of bringing CFAR to Europe. This led to an agreement sometime in the spring of 2017 of running a CFAR workshop in Prague in October. The division of work was CFAR staff does all the teaching, and we do all the operations. Later, when the first workshop quickly filled up, we added one more.\n",
      "\n",
      "This was super-good for the CZEA. Along the way it led to a creation of strong, tightly cooperating team working on the workshop, having two workshops allowed the local organizers to attend and created many valuable social links.\n",
      "\n",
      "Feedback from the CFAR staff was also quite positive\n",
      "\n",
      "It is probably too early to early to evaluate impacts of the workshop, and CFAR will do that, but from what we know there are at least 7 workshop participants either directly working on AI safety or changing their careers toward AI safety/x-risk, another big part of participants is working in EA movement building.\n",
      "\n",
      "Indirect effect from the workshop was receiving a donation from Timothy Telleen-Lawton, allowing partial professionalization of our organization in 2018.\n",
      "\n",
      "### General community building activities\n",
      "\n",
      "We also organized in average slightly more than 1 meetup or public lecture per months. While this lead to a number of people getting somewhat familiar with EA ideas, it seems it was hard to retain people who did not become involved in some of the projects. There seems to be some tension between content of meetups which is interesting for more experienced members and content good for novices. For 2018 we decided to split the meetups into \"public\" and \"internal\", with the public-oriented more toward public and explaining concepts like prioritization, and the internal meetups more focused on the development of member competences, deeper knowledge, and connectedness.\n",
      "\n",
      "Structure\n",
      "\n",
      "In the beginning, the structure of the association was basically flat - a group of nerds with Michal Pokorný as chairman of the legal entity.\n",
      "\n",
      "After Michal left, having been offered work for Google in Zurich, Jan Kleňha became the second chairman. I think it was a major factor for the organization's success that Jan spent much of the year working for the association ca 0.5 FTE, and I spent about 0.3FTE organizing CFAR in the months before the workshops. It seems an organization consisting of ten volunteers working each for 0.1 FTE is considerably less efficient than seven volunteers working for 0.1 FTE and one coordinator 0.3 FTE. Even if the total workload is the same, the first group has much larger coordination overhead.\n",
      "\n",
      "After growing to about 30 members, we decided the flat structure was no longer scalable and created an elected Board. (If anybody is in the same situation, we suggest approval voting as the voting system).\n",
      "\n",
      "Our biggest mistake in structural growth was not securing enough funding - this led Jan Kleňha to leave for Copenhagen Consensus in October (He was basically working for CZEA half-time almost without any income, and we realized too late this is not sustainable).\n",
      "\n",
      "So we prioritized getting some funding, allowing someone to work on the community building and coordination. Fortunately, this was solved by the grant from Tim, who decided CZEA is worth supporting from funds he distributes as the result of the EA donor lottery.\n",
      "\n",
      "Final remarks\n",
      "\n",
      "    * Building a movement on the level of a country is somewhat different than on the level of \"university group\".  \n",
      "  \n",
      "\n",
      "    * Having a group of aspiring rationalists as the founding EA core helps.  \n",
      "  \n",
      "\n",
      "    * Interacting with CFAR helped us a lot.\n",
      "\n"
     ]
    }
   ],
   "source": [
    "idx = 1\n",
    "print(dataset[dataset._id == org2other.id.iloc[idx]][\"body\"].values[0])"
   ]
  }
 ],
 "metadata": {
  "kernelspec": {
   "display_name": "Python 3 (ipykernel)",
   "language": "python",
   "name": "python3"
  },
  "language_info": {
   "codemirror_mode": {
    "name": "ipython",
    "version": 3
   },
   "file_extension": ".py",
   "mimetype": "text/x-python",
   "name": "python",
   "nbconvert_exporter": "python",
   "pygments_lexer": "ipython3",
   "version": "3.8.10"
  }
 },
 "nbformat": 4,
 "nbformat_minor": 5
}
