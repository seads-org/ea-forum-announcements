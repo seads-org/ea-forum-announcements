{
 "cells": [
  {
   "cell_type": "code",
   "execution_count": 54,
   "id": "0905cc4a",
   "metadata": {},
   "outputs": [
    {
     "name": "stdout",
     "output_type": "stream",
     "text": [
      "The autoreload extension is already loaded. To reload it, use:\n",
      "  %reload_ext autoreload\n"
     ]
    },
    {
     "name": "stderr",
     "output_type": "stream",
     "text": [
      "[nltk_data] Downloading package punkt to /home/justy/nltk_data...\n",
      "[nltk_data]   Package punkt is already up-to-date!\n"
     ]
    }
   ],
   "source": [
    "import project_path\n",
    "\n",
    "%load_ext autoreload\n",
    "%autoreload 2\n",
    "\n",
    "import pandas as pd\n",
    "from pandas import DataFrame\n",
    "from tqdm.auto import tqdm\n",
    "\n",
    "import nltk\n",
    "nltk.download('punkt')\n",
    "\n",
    "from datasets import load_from_disk, Dataset\n",
    "from sentence_transformers import SentenceTransformer\n",
    "\n",
    "from src.text_split import extract_paragraphs, split_long_paragraphs, collapse_paragraphs_iteratively\n",
    "from src.paths import datap"
   ]
  },
  {
   "cell_type": "code",
   "execution_count": 55,
   "id": "04f4e2de",
   "metadata": {},
   "outputs": [],
   "source": [
    "tqdm.pandas()"
   ]
  },
  {
   "cell_type": "code",
   "execution_count": 112,
   "id": "39c26360",
   "metadata": {},
   "outputs": [
    {
     "data": {
      "text/plain": [
       "(320, 19)"
      ]
     },
     "execution_count": 112,
     "metadata": {},
     "output_type": "execute_result"
    }
   ],
   "source": [
    "path = \"/home/justy/workspace/ea/ea-forum-announcements/data/labeled_posts\"\n",
    "data = load_from_disk(path).to_pandas()\n",
    "data.shape"
   ]
  },
  {
   "cell_type": "markdown",
   "id": "a0c0d9a3",
   "metadata": {},
   "source": [
    "### Split by paragraph"
   ]
  },
  {
   "cell_type": "code",
   "execution_count": 114,
   "id": "ae7ac68e",
   "metadata": {},
   "outputs": [
    {
     "data": {
      "application/vnd.jupyter.widget-view+json": {
       "model_id": "6df7ac4b5126437fbc12b9fa1628891f",
       "version_major": 2,
       "version_minor": 0
      },
      "text/plain": [
       "  0%|          | 0/320 [00:00<?, ?it/s]"
      ]
     },
     "metadata": {},
     "output_type": "display_data"
    },
    {
     "data": {
      "application/vnd.jupyter.widget-view+json": {
       "model_id": "e1f581857e00466b90ae501cd4369873",
       "version_major": 2,
       "version_minor": 0
      },
      "text/plain": [
       "  0%|          | 0/320 [00:00<?, ?it/s]"
      ]
     },
     "metadata": {},
     "output_type": "display_data"
    },
    {
     "data": {
      "application/vnd.jupyter.widget-view+json": {
       "model_id": "9190815a7c1a42adab289e20032afa8e",
       "version_major": 2,
       "version_minor": 0
      },
      "text/plain": [
       "  0%|          | 0/313 [00:00<?, ?it/s]"
      ]
     },
     "metadata": {},
     "output_type": "display_data"
    },
    {
     "name": "stderr",
     "output_type": "stream",
     "text": [
      "/tmp/ipykernel_18508/2229894911.py:5: SettingWithCopyWarning: \n",
      "A value is trying to be set on a copy of a slice from a DataFrame.\n",
      "Try using .loc[row_indexer,col_indexer] = value instead\n",
      "\n",
      "See the caveats in the documentation: https://pandas.pydata.org/pandas-docs/stable/user_guide/indexing.html#returning-a-view-versus-a-copy\n",
      "  data['paragraphs_split'] = data.paragraphs.progress_map(lambda x: collapse_paragraphs_iteratively(x, max_n_words=max_n_words))\n"
     ]
    }
   ],
   "source": [
    "max_n_words = 400\n",
    "data['paragraphs'] = data.body.progress_map(extract_paragraphs)\n",
    "data['paragraphs'] = data.paragraphs.progress_map(lambda p: split_long_paragraphs(p, max_n_words=max_n_words))\n",
    "data = data[~data.apply(lambda x: x.paragraphs.empty, axis=1)]\n",
    "data['paragraphs_split'] = data.paragraphs.progress_map(lambda x: collapse_paragraphs_iteratively(x, max_n_words=max_n_words))"
   ]
  },
  {
   "cell_type": "code",
   "execution_count": 116,
   "id": "bf4f6403",
   "metadata": {},
   "outputs": [
    {
     "data": {
      "text/plain": [
       "(2051, 3)"
      ]
     },
     "execution_count": 116,
     "metadata": {},
     "output_type": "execute_result"
    }
   ],
   "source": [
    "paragraph_split = pd.concat([\n",
    "    DataFrame({\"postId\": r._id, \"text\": r.paragraphs_split.text.values, \"label\": r.label})\n",
    "    for pid,r in data.iterrows()\n",
    "], ignore_index=True)\n",
    "paragraph_split.shape"
   ]
  },
  {
   "cell_type": "code",
   "execution_count": 119,
   "id": "04ba2bcc",
   "metadata": {},
   "outputs": [],
   "source": [
    "model_path = \"/home/justy/workspace/ea/ea-forum-announcements/models/sbert_v1/sbert:v1\"\n",
    "model = SentenceTransformer.load(model_path)"
   ]
  },
  {
   "cell_type": "code",
   "execution_count": 120,
   "id": "9535ff52",
   "metadata": {},
   "outputs": [
    {
     "data": {
      "application/vnd.jupyter.widget-view+json": {
       "model_id": "e84829af8b7c491c9447ceef4000f765",
       "version_major": 2,
       "version_minor": 0
      },
      "text/plain": [
       "Batches:   0%|          | 0/2051 [00:00<?, ?it/s]"
      ]
     },
     "metadata": {},
     "output_type": "display_data"
    }
   ],
   "source": [
    "paragraphs_embeddings = model.encode(paragraph_split.text, batch_size=1, show_progress_bar=True)"
   ]
  },
  {
   "cell_type": "code",
   "execution_count": null,
   "id": "b5db7106",
   "metadata": {},
   "outputs": [],
   "source": [
    "paragraph_split = pd.concat((paragraph_split, pd.DataFrame(paragraphs_embeddings)), axis=1)"
   ]
  },
  {
   "cell_type": "code",
   "execution_count": 122,
   "id": "a0a90a76",
   "metadata": {},
   "outputs": [
    {
     "data": {
      "text/plain": [
       "(2051, 771)"
      ]
     },
     "execution_count": 122,
     "metadata": {},
     "output_type": "execute_result"
    }
   ],
   "source": [
    "paragraph_split.shape"
   ]
  },
  {
   "cell_type": "code",
   "execution_count": 124,
   "id": "e5c176c4",
   "metadata": {},
   "outputs": [
    {
     "data": {
      "text/plain": [
       "(312, 769)"
      ]
     },
     "execution_count": 124,
     "metadata": {},
     "output_type": "execute_result"
    }
   ],
   "source": [
    "dataset = paragraph_split.groupby(\"postId\").mean(numeric_only=True)\n",
    "dataset.shape"
   ]
  },
  {
   "cell_type": "code",
   "execution_count": 126,
   "id": "ead5d618",
   "metadata": {},
   "outputs": [],
   "source": [
    "dataset.label = dataset.label.astype(\"int8\")"
   ]
  },
  {
   "cell_type": "code",
   "execution_count": 132,
   "id": "9b22c7c5",
   "metadata": {},
   "outputs": [],
   "source": [
    "dataset = dataset.sample(frac=1)"
   ]
  },
  {
   "cell_type": "code",
   "execution_count": 133,
   "id": "bbd1f009",
   "metadata": {},
   "outputs": [],
   "source": [
    "dataset.to_csv(datap(\"labeled_posts_embedded.csv\"))"
   ]
  },
  {
   "cell_type": "markdown",
   "id": "57e4b8cb",
   "metadata": {},
   "source": [
    "### No preprocessing"
   ]
  },
  {
   "cell_type": "code",
   "execution_count": 19,
   "id": "48ab18d4",
   "metadata": {},
   "outputs": [
    {
     "data": {
      "text/html": [
       "<div>\n",
       "<style scoped>\n",
       "    .dataframe tbody tr th:only-of-type {\n",
       "        vertical-align: middle;\n",
       "    }\n",
       "\n",
       "    .dataframe tbody tr th {\n",
       "        vertical-align: top;\n",
       "    }\n",
       "\n",
       "    .dataframe thead th {\n",
       "        text-align: right;\n",
       "    }\n",
       "</style>\n",
       "<table border=\"1\" class=\"dataframe\">\n",
       "  <thead>\n",
       "    <tr style=\"text-align: right;\">\n",
       "      <th></th>\n",
       "      <th>body</th>\n",
       "      <th>label</th>\n",
       "    </tr>\n",
       "  </thead>\n",
       "  <tbody>\n",
       "    <tr>\n",
       "      <th>0</th>\n",
       "      <td>\\n\\nOur programs exist to have a positive impa...</td>\n",
       "      <td>2.0</td>\n",
       "    </tr>\n",
       "    <tr>\n",
       "      <th>1</th>\n",
       "      <td>\\n\\n## The most important century is the one w...</td>\n",
       "      <td>2.0</td>\n",
       "    </tr>\n",
       "    <tr>\n",
       "      <th>2</th>\n",
       "      <td>\\n\\nMeet us at the Karbach Biergarten for an I...</td>\n",
       "      <td>2.0</td>\n",
       "    </tr>\n",
       "    <tr>\n",
       "      <th>3</th>\n",
       "      <td>\\n\\nDisclaimer: We (Sam Nolan, Hannah Rokebran...</td>\n",
       "      <td>2.0</td>\n",
       "    </tr>\n",
       "    <tr>\n",
       "      <th>4</th>\n",
       "      <td>\\n\\nAt Founders Pledge, we just launched a new...</td>\n",
       "      <td>0.0</td>\n",
       "    </tr>\n",
       "  </tbody>\n",
       "</table>\n",
       "</div>"
      ],
      "text/plain": [
       "                                                body  label\n",
       "0  \\n\\nOur programs exist to have a positive impa...    2.0\n",
       "1  \\n\\n## The most important century is the one w...    2.0\n",
       "2  \\n\\nMeet us at the Karbach Biergarten for an I...    2.0\n",
       "3  \\n\\nDisclaimer: We (Sam Nolan, Hannah Rokebran...    2.0\n",
       "4  \\n\\nAt Founders Pledge, we just launched a new...    0.0"
      ]
     },
     "execution_count": 19,
     "metadata": {},
     "output_type": "execute_result"
    }
   ],
   "source": [
    "dataset = data[[\"body\", \"label\"]]\n",
    "dataset.head()"
   ]
  },
  {
   "cell_type": "code",
   "execution_count": 13,
   "id": "2266353f",
   "metadata": {},
   "outputs": [],
   "source": [
    "dataset = dataset.rename({\"body\": \"text\"}, axis=1)"
   ]
  },
  {
   "cell_type": "code",
   "execution_count": 15,
   "id": "b0a64031",
   "metadata": {},
   "outputs": [],
   "source": [
    "dataset = Dataset.from_pandas(dataset).train_test_split(test_size=0.5)"
   ]
  },
  {
   "cell_type": "code",
   "execution_count": 16,
   "id": "19dd99cf",
   "metadata": {},
   "outputs": [
    {
     "data": {
      "application/vnd.jupyter.widget-view+json": {
       "model_id": "ccc6203abadc457189a1036b28d3dfbf",
       "version_major": 2,
       "version_minor": 0
      },
      "text/plain": [
       "Flattening the indices:   0%|          | 0/1 [00:00<?, ?ba/s]"
      ]
     },
     "metadata": {},
     "output_type": "display_data"
    }
   ],
   "source": [
    "dataset['train'].save_to_disk(datap(\"all_paragraphs_labeled_only/train\"))"
   ]
  },
  {
   "cell_type": "code",
   "execution_count": 17,
   "id": "80dd80f8",
   "metadata": {},
   "outputs": [
    {
     "data": {
      "application/vnd.jupyter.widget-view+json": {
       "model_id": "31036bb5076a4d92a00bc995b6c256ba",
       "version_major": 2,
       "version_minor": 0
      },
      "text/plain": [
       "Flattening the indices:   0%|          | 0/1 [00:00<?, ?ba/s]"
      ]
     },
     "metadata": {},
     "output_type": "display_data"
    }
   ],
   "source": [
    "dataset['test'].save_to_disk(datap(\"all_paragraphs_labeled_only/test\"))"
   ]
  },
  {
   "cell_type": "markdown",
   "id": "79cc99e0",
   "metadata": {},
   "source": [
    "### Choose only the first paragraph"
   ]
  },
  {
   "cell_type": "code",
   "execution_count": 82,
   "id": "e68932c4",
   "metadata": {},
   "outputs": [
    {
     "data": {
      "text/html": [
       "<div>\n",
       "<style scoped>\n",
       "    .dataframe tbody tr th:only-of-type {\n",
       "        vertical-align: middle;\n",
       "    }\n",
       "\n",
       "    .dataframe tbody tr th {\n",
       "        vertical-align: top;\n",
       "    }\n",
       "\n",
       "    .dataframe thead th {\n",
       "        text-align: right;\n",
       "    }\n",
       "</style>\n",
       "<table border=\"1\" class=\"dataframe\">\n",
       "  <thead>\n",
       "    <tr style=\"text-align: right;\">\n",
       "      <th></th>\n",
       "      <th>postId</th>\n",
       "      <th>text</th>\n",
       "      <th>label</th>\n",
       "    </tr>\n",
       "  </thead>\n",
       "  <tbody>\n",
       "    <tr>\n",
       "      <th>0</th>\n",
       "      <td>70</td>\n",
       "      <td>Meet us at the Karbach Biergarten for an Intro...</td>\n",
       "      <td>2.0</td>\n",
       "    </tr>\n",
       "    <tr>\n",
       "      <th>1</th>\n",
       "      <td>182</td>\n",
       "      <td>At Founders Pledge, we just launched a new add...</td>\n",
       "      <td>0.0</td>\n",
       "    </tr>\n",
       "    <tr>\n",
       "      <th>4</th>\n",
       "      <td>255</td>\n",
       "      <td>Today we are both launching our organization, ...</td>\n",
       "      <td>0.0</td>\n",
       "    </tr>\n",
       "    <tr>\n",
       "      <th>5</th>\n",
       "      <td>274</td>\n",
       "      <td>Summary\\nWe’re excited to announce VIVID - a n...</td>\n",
       "      <td>0.0</td>\n",
       "    </tr>\n",
       "    <tr>\n",
       "      <th>11</th>\n",
       "      <td>317</td>\n",
       "      <td>We are pleased to introduce Cause Innovation B...</td>\n",
       "      <td>1.0</td>\n",
       "    </tr>\n",
       "  </tbody>\n",
       "</table>\n",
       "</div>"
      ],
      "text/plain": [
       "    postId                                               text  label\n",
       "0       70  Meet us at the Karbach Biergarten for an Intro...    2.0\n",
       "1      182  At Founders Pledge, we just launched a new add...    0.0\n",
       "4      255  Today we are both launching our organization, ...    0.0\n",
       "5      274  Summary\\nWe’re excited to announce VIVID - a n...    0.0\n",
       "11     317  We are pleased to introduce Cause Innovation B...    1.0"
      ]
     },
     "execution_count": 82,
     "metadata": {},
     "output_type": "execute_result"
    }
   ],
   "source": [
    "first_paragraphs = paragraph_split.drop_duplicates(subset=\"postId\", keep=\"first\")\n",
    "first_paragraphs.head()"
   ]
  },
  {
   "cell_type": "code",
   "execution_count": 83,
   "id": "4f3e0898",
   "metadata": {},
   "outputs": [
    {
     "data": {
      "text/plain": [
       "0.0    41\n",
       "1.0    32\n",
       "2.0    22\n",
       "Name: label, dtype: int64"
      ]
     },
     "execution_count": 83,
     "metadata": {},
     "output_type": "execute_result"
    }
   ],
   "source": [
    "first_paragraphs.label.value_counts()"
   ]
  },
  {
   "cell_type": "code",
   "execution_count": 84,
   "id": "c1663868",
   "metadata": {},
   "outputs": [
    {
     "name": "stderr",
     "output_type": "stream",
     "text": [
      "/tmp/ipykernel_17239/2548759710.py:1: SettingWithCopyWarning: \n",
      "A value is trying to be set on a copy of a slice from a DataFrame.\n",
      "Try using .loc[row_indexer,col_indexer] = value instead\n",
      "\n",
      "See the caveats in the documentation: https://pandas.pydata.org/pandas-docs/stable/user_guide/indexing.html#returning-a-view-versus-a-copy\n",
      "  first_paragraphs.loc[:, \"label\"] = first_paragraphs.label.astype(\"int8\")\n",
      "/tmp/ipykernel_17239/2548759710.py:1: FutureWarning: In a future version, `df.iloc[:, i] = newvals` will attempt to set the values inplace instead of always setting a new array. To retain the old behavior, use either `df[df.columns[i]] = newvals` or, if columns are non-unique, `df.isetitem(i, newvals)`\n",
      "  first_paragraphs.loc[:, \"label\"] = first_paragraphs.label.astype(\"int8\")\n"
     ]
    }
   ],
   "source": [
    "first_paragraphs.loc[:, \"label\"] = first_paragraphs.label.astype(\"int8\")"
   ]
  },
  {
   "cell_type": "code",
   "execution_count": 85,
   "id": "b55e2f56",
   "metadata": {},
   "outputs": [
    {
     "data": {
      "text/plain": [
       "(95, 3)"
      ]
     },
     "execution_count": 85,
     "metadata": {},
     "output_type": "execute_result"
    }
   ],
   "source": [
    "first_paragraphs.shape"
   ]
  },
  {
   "cell_type": "code",
   "execution_count": 86,
   "id": "2e11b479",
   "metadata": {},
   "outputs": [],
   "source": [
    "first_paragraphs = Dataset.from_pandas(first_paragraphs).train_test_split(test_size=0.5)"
   ]
  },
  {
   "cell_type": "code",
   "execution_count": 87,
   "id": "f53afe60",
   "metadata": {},
   "outputs": [
    {
     "data": {
      "text/plain": [
       "DatasetDict({\n",
       "    train: Dataset({\n",
       "        features: ['postId', 'text', 'label', '__index_level_0__'],\n",
       "        num_rows: 47\n",
       "    })\n",
       "    test: Dataset({\n",
       "        features: ['postId', 'text', 'label', '__index_level_0__'],\n",
       "        num_rows: 48\n",
       "    })\n",
       "})"
      ]
     },
     "execution_count": 87,
     "metadata": {},
     "output_type": "execute_result"
    }
   ],
   "source": [
    "first_paragraphs"
   ]
  },
  {
   "cell_type": "code",
   "execution_count": 88,
   "id": "68a28f29",
   "metadata": {},
   "outputs": [
    {
     "data": {
      "application/vnd.jupyter.widget-view+json": {
       "model_id": "d62cedda62f449229566bbc7ce3a0255",
       "version_major": 2,
       "version_minor": 0
      },
      "text/plain": [
       "Flattening the indices:   0%|          | 0/1 [00:00<?, ?ba/s]"
      ]
     },
     "metadata": {},
     "output_type": "display_data"
    }
   ],
   "source": [
    "first_paragraphs['train'].save_to_disk(datap(\"first_paragraphs_labeled_only/train\"))"
   ]
  },
  {
   "cell_type": "code",
   "execution_count": 89,
   "id": "0c9f119b",
   "metadata": {},
   "outputs": [
    {
     "data": {
      "application/vnd.jupyter.widget-view+json": {
       "model_id": "741a24430f0d42a8851ffbd50e288dde",
       "version_major": 2,
       "version_minor": 0
      },
      "text/plain": [
       "Flattening the indices:   0%|          | 0/1 [00:00<?, ?ba/s]"
      ]
     },
     "metadata": {},
     "output_type": "display_data"
    }
   ],
   "source": [
    "first_paragraphs['test'].save_to_disk(datap(\"first_paragraphs_labeled_only/test\"))"
   ]
  },
  {
   "cell_type": "code",
   "execution_count": 67,
   "id": "e0c8c2fe",
   "metadata": {},
   "outputs": [],
   "source": [
    "# Dataset.from_pandas(first_paragraphs).save_to_disk(datap(\"first_paragraphs_labeled_only\"))"
   ]
  },
  {
   "cell_type": "code",
   "execution_count": 10,
   "id": "7ff1797f",
   "metadata": {},
   "outputs": [],
   "source": [
    "# pars_encoded = model.encode(par_split_df.text, show_progress_bar=True)"
   ]
  },
  {
   "cell_type": "code",
   "execution_count": null,
   "id": "c6f44bc1",
   "metadata": {},
   "outputs": [],
   "source": [
    "# DataFrame(pars_encoded).groupby(par_split_df.postId.values).mean().to_csv(datap(\"posts_encoded.csv\"))"
   ]
  }
 ],
 "metadata": {
  "kernelspec": {
   "display_name": "Python 3 (ipykernel)",
   "language": "python",
   "name": "python3"
  },
  "language_info": {
   "codemirror_mode": {
    "name": "ipython",
    "version": 3
   },
   "file_extension": ".py",
   "mimetype": "text/x-python",
   "name": "python",
   "nbconvert_exporter": "python",
   "pygments_lexer": "ipython3",
   "version": "3.8.10"
  }
 },
 "nbformat": 4,
 "nbformat_minor": 5
}
