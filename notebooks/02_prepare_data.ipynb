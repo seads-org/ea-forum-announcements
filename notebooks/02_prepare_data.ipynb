{
 "cells": [
  {
   "cell_type": "code",
   "execution_count": 37,
   "id": "0905cc4a",
   "metadata": {},
   "outputs": [
    {
     "name": "stdout",
     "output_type": "stream",
     "text": [
      "The autoreload extension is already loaded. To reload it, use:\n",
      "  %reload_ext autoreload\n"
     ]
    },
    {
     "name": "stderr",
     "output_type": "stream",
     "text": [
      "[nltk_data] Downloading package punkt to /home/justy/nltk_data...\n",
      "[nltk_data]   Package punkt is already up-to-date!\n"
     ]
    }
   ],
   "source": [
    "import project_path\n",
    "\n",
    "%load_ext autoreload\n",
    "%autoreload 2\n",
    "\n",
    "import math\n",
    "import numpy as np\n",
    "import pandas as pd\n",
    "from pandas import DataFrame\n",
    "from tqdm.auto import tqdm\n",
    "\n",
    "import nltk\n",
    "nltk.download('punkt')\n",
    "\n",
    "from datasets import load_from_disk, Dataset\n",
    "from sentence_transformers import SentenceTransformer\n",
    "\n",
    "from src.text_split import extract_paragraphs, split_long_paragraphs, collapse_paragraphs_iteratively\n",
    "from src.paths import datap"
   ]
  },
  {
   "cell_type": "code",
   "execution_count": 38,
   "id": "04f4e2de",
   "metadata": {},
   "outputs": [],
   "source": [
    "tqdm.pandas()"
   ]
  },
  {
   "cell_type": "code",
   "execution_count": 39,
   "id": "39c26360",
   "metadata": {},
   "outputs": [
    {
     "data": {
      "text/plain": [
       "(343, 19)"
      ]
     },
     "execution_count": 39,
     "metadata": {},
     "output_type": "execute_result"
    }
   ],
   "source": [
    "path = \"/home/justy/workspace/ea/ea-forum-announcements/data/labeled_posts\"\n",
    "data = load_from_disk(path).to_pandas()\n",
    "data.shape"
   ]
  },
  {
   "cell_type": "markdown",
   "id": "a0c0d9a3",
   "metadata": {},
   "source": [
    "### Split by paragraph"
   ]
  },
  {
   "cell_type": "code",
   "execution_count": 40,
   "id": "ae7ac68e",
   "metadata": {},
   "outputs": [
    {
     "data": {
      "application/vnd.jupyter.widget-view+json": {
       "model_id": "cf54ab125ee246aa9b0b5ba1bbd0983b",
       "version_major": 2,
       "version_minor": 0
      },
      "text/plain": [
       "  0%|          | 0/343 [00:00<?, ?it/s]"
      ]
     },
     "metadata": {},
     "output_type": "display_data"
    },
    {
     "data": {
      "application/vnd.jupyter.widget-view+json": {
       "model_id": "598300fb002b4092b2b485a38c2ff22f",
       "version_major": 2,
       "version_minor": 0
      },
      "text/plain": [
       "  0%|          | 0/343 [00:00<?, ?it/s]"
      ]
     },
     "metadata": {},
     "output_type": "display_data"
    },
    {
     "data": {
      "application/vnd.jupyter.widget-view+json": {
       "model_id": "7f3c92e6ba1649799e6c27d26cdb39e5",
       "version_major": 2,
       "version_minor": 0
      },
      "text/plain": [
       "  0%|          | 0/336 [00:00<?, ?it/s]"
      ]
     },
     "metadata": {},
     "output_type": "display_data"
    }
   ],
   "source": [
    "max_n_words = 400\n",
    "data['paragraphs'] = data.body.progress_map(extract_paragraphs)\n",
    "data['paragraphs'] = data.paragraphs.progress_map(lambda p: split_long_paragraphs(p, max_n_words=max_n_words))\n",
    "data = data[~data.apply(lambda x: x.paragraphs.empty, axis=1)]\n",
    "data['paragraphs_split'] = data.paragraphs.progress_map(lambda x: collapse_paragraphs_iteratively(x, max_n_words=max_n_words))"
   ]
  },
  {
   "cell_type": "code",
   "execution_count": 41,
   "id": "bf4f6403",
   "metadata": {},
   "outputs": [
    {
     "data": {
      "text/plain": [
       "(2136, 3)"
      ]
     },
     "execution_count": 41,
     "metadata": {},
     "output_type": "execute_result"
    }
   ],
   "source": [
    "paragraph_split = pd.concat([\n",
    "    DataFrame({\"postId\": r._id, \"text\": r.paragraphs_split.text.values, \"label\": r.label})\n",
    "    for pid,r in data.iterrows()\n",
    "], ignore_index=True)\n",
    "paragraph_split.shape"
   ]
  },
  {
   "cell_type": "markdown",
   "id": "862f4f3e",
   "metadata": {},
   "source": [
    "## Settings"
   ]
  },
  {
   "cell_type": "code",
   "execution_count": 42,
   "id": "6bc05815",
   "metadata": {},
   "outputs": [],
   "source": [
    "embeddings = \"e5-base\" # other option \"ea-forum\"\n",
    "aggregation = \"\" # other option \"mean\" if you want to have a mean paragraph embedding per post"
   ]
  },
  {
   "cell_type": "markdown",
   "id": "e5065256",
   "metadata": {},
   "source": [
    "### Embed the posts"
   ]
  },
  {
   "cell_type": "code",
   "execution_count": 43,
   "id": "3e256cb2",
   "metadata": {},
   "outputs": [],
   "source": [
    "# e5 base embeddings\n",
    "\n",
    "import torch.nn.functional as F\n",
    "\n",
    "from torch import Tensor\n",
    "from transformers import AutoTokenizer, AutoModel\n",
    "\n",
    "\n",
    "def average_pool(last_hidden_states: Tensor, attention_mask: Tensor) -> Tensor:\n",
    "    last_hidden = last_hidden_states.masked_fill(~attention_mask[..., None].bool(), 0.0)\n",
    "    return last_hidden.sum(dim=1) / attention_mask.sum(dim=1)[..., None]"
   ]
  },
  {
   "cell_type": "code",
   "execution_count": 44,
   "id": "04ba2bcc",
   "metadata": {},
   "outputs": [],
   "source": [
    "# EA forum embeddings\n",
    "if embeddings == \"ea-forum\":\n",
    "    model_path = \"/home/justy/workspace/ea/ea-forum-announcements/models/sbert_v1/sbert:v1\"\n",
    "    model = SentenceTransformer.load(model_path)\n",
    "    paragraphs_embeddings = model.encode(paragraph_split.text[:1], batch_size=1, show_progress_bar=True)"
   ]
  },
  {
   "cell_type": "code",
   "execution_count": null,
   "id": "cff92d9c",
   "metadata": {},
   "outputs": [
    {
     "data": {
      "application/vnd.jupyter.widget-view+json": {
       "model_id": "2492e437a9fa486f94f4c1edf79f4c43",
       "version_major": 2,
       "version_minor": 0
      },
      "text/plain": [
       "  0%|          | 0/2136 [00:00<?, ?it/s]"
      ]
     },
     "metadata": {},
     "output_type": "display_data"
    }
   ],
   "source": [
    "# e5 base embeddings\n",
    "# Each input text should start with \"query: \" or \"passage: \".\n",
    "# For tasks other than retrieval, you can simply use the \"query: \" prefix.\n",
    "if embeddings == \"e5-base\":\n",
    "    paragraph_split.text = paragraph_split.text.apply(lambda x: \"query: \" + x)\n",
    "    tokenizer = AutoTokenizer.from_pretrained('intfloat/e5-base')\n",
    "    model = AutoModel.from_pretrained('intfloat/e5-base')\n",
    "    batch_size = 1\n",
    "    n_batches = math.ceil(len(paragraph_split) / batch_size)\n",
    "    paragraphs_embeddings = np.zeros((n_batches, 768))\n",
    "    for idx in tqdm(range(n_batches)):\n",
    "        idx1, idx2 = idx * batch_size, (idx + 1) * batch_size\n",
    "        idx2 = min(len(paragraph_split), idx2)\n",
    "        batch_dict = tokenizer(paragraph_split.text[idx1:idx2].tolist(), max_length=400, padding=True, truncation=True, return_tensors='pt')\n",
    "        outputs = model(**batch_dict)\n",
    "        embeddings = average_pool(outputs.last_hidden_state, batch_dict['attention_mask'])\n",
    "        paragraphs_embeddings[idx, :] = F.normalize(embeddings, p=2, dim=1).detach()"
   ]
  },
  {
   "cell_type": "code",
   "execution_count": null,
   "id": "b5db7106",
   "metadata": {},
   "outputs": [],
   "source": [
    "paragraph_split = pd.concat((paragraph_split, pd.DataFrame(paragraphs_embeddings)), axis=1)"
   ]
  },
  {
   "cell_type": "code",
   "execution_count": null,
   "id": "a0a90a76",
   "metadata": {},
   "outputs": [],
   "source": [
    "paragraph_split.shape"
   ]
  },
  {
   "cell_type": "code",
   "execution_count": null,
   "id": "e5c176c4",
   "metadata": {},
   "outputs": [],
   "source": [
    "if aggregation == \"mean\":\n",
    "    dataset = paragraph_split.groupby(\"postId\").mean(numeric_only=True)\n",
    "dataset.shape"
   ]
  },
  {
   "cell_type": "code",
   "execution_count": null,
   "id": "ead5d618",
   "metadata": {},
   "outputs": [],
   "source": [
    "dataset.label = dataset.label.astype(\"int8\")"
   ]
  },
  {
   "cell_type": "code",
   "execution_count": null,
   "id": "9b22c7c5",
   "metadata": {},
   "outputs": [],
   "source": [
    "dataset = dataset.sample(frac=1)"
   ]
  },
  {
   "cell_type": "code",
   "execution_count": null,
   "id": "bbd1f009",
   "metadata": {},
   "outputs": [],
   "source": [
    "dataset.to_csv(datap(\"labeled_paragraphs_embedded_e5base.csv\"))"
   ]
  },
  {
   "cell_type": "markdown",
   "id": "57e4b8cb",
   "metadata": {},
   "source": [
    "### No preprocessing"
   ]
  },
  {
   "cell_type": "code",
   "execution_count": 19,
   "id": "48ab18d4",
   "metadata": {},
   "outputs": [
    {
     "data": {
      "text/html": [
       "<div>\n",
       "<style scoped>\n",
       "    .dataframe tbody tr th:only-of-type {\n",
       "        vertical-align: middle;\n",
       "    }\n",
       "\n",
       "    .dataframe tbody tr th {\n",
       "        vertical-align: top;\n",
       "    }\n",
       "\n",
       "    .dataframe thead th {\n",
       "        text-align: right;\n",
       "    }\n",
       "</style>\n",
       "<table border=\"1\" class=\"dataframe\">\n",
       "  <thead>\n",
       "    <tr style=\"text-align: right;\">\n",
       "      <th></th>\n",
       "      <th>body</th>\n",
       "      <th>label</th>\n",
       "    </tr>\n",
       "  </thead>\n",
       "  <tbody>\n",
       "    <tr>\n",
       "      <th>0</th>\n",
       "      <td>\\n\\nOur programs exist to have a positive impa...</td>\n",
       "      <td>2.0</td>\n",
       "    </tr>\n",
       "    <tr>\n",
       "      <th>1</th>\n",
       "      <td>\\n\\n## The most important century is the one w...</td>\n",
       "      <td>2.0</td>\n",
       "    </tr>\n",
       "    <tr>\n",
       "      <th>2</th>\n",
       "      <td>\\n\\nMeet us at the Karbach Biergarten for an I...</td>\n",
       "      <td>2.0</td>\n",
       "    </tr>\n",
       "    <tr>\n",
       "      <th>3</th>\n",
       "      <td>\\n\\nDisclaimer: We (Sam Nolan, Hannah Rokebran...</td>\n",
       "      <td>2.0</td>\n",
       "    </tr>\n",
       "    <tr>\n",
       "      <th>4</th>\n",
       "      <td>\\n\\nAt Founders Pledge, we just launched a new...</td>\n",
       "      <td>0.0</td>\n",
       "    </tr>\n",
       "  </tbody>\n",
       "</table>\n",
       "</div>"
      ],
      "text/plain": [
       "                                                body  label\n",
       "0  \\n\\nOur programs exist to have a positive impa...    2.0\n",
       "1  \\n\\n## The most important century is the one w...    2.0\n",
       "2  \\n\\nMeet us at the Karbach Biergarten for an I...    2.0\n",
       "3  \\n\\nDisclaimer: We (Sam Nolan, Hannah Rokebran...    2.0\n",
       "4  \\n\\nAt Founders Pledge, we just launched a new...    0.0"
      ]
     },
     "execution_count": 19,
     "metadata": {},
     "output_type": "execute_result"
    }
   ],
   "source": [
    "dataset = data[[\"body\", \"label\"]]\n",
    "dataset.head()"
   ]
  },
  {
   "cell_type": "code",
   "execution_count": 13,
   "id": "2266353f",
   "metadata": {},
   "outputs": [],
   "source": [
    "dataset = dataset.rename({\"body\": \"text\"}, axis=1)"
   ]
  },
  {
   "cell_type": "code",
   "execution_count": 15,
   "id": "b0a64031",
   "metadata": {},
   "outputs": [],
   "source": [
    "dataset = Dataset.from_pandas(dataset).train_test_split(test_size=0.5)"
   ]
  },
  {
   "cell_type": "code",
   "execution_count": 16,
   "id": "19dd99cf",
   "metadata": {},
   "outputs": [
    {
     "data": {
      "application/vnd.jupyter.widget-view+json": {
       "model_id": "ccc6203abadc457189a1036b28d3dfbf",
       "version_major": 2,
       "version_minor": 0
      },
      "text/plain": [
       "Flattening the indices:   0%|          | 0/1 [00:00<?, ?ba/s]"
      ]
     },
     "metadata": {},
     "output_type": "display_data"
    }
   ],
   "source": [
    "dataset['train'].save_to_disk(datap(\"all_paragraphs_labeled_only/train\"))"
   ]
  },
  {
   "cell_type": "code",
   "execution_count": 17,
   "id": "80dd80f8",
   "metadata": {},
   "outputs": [
    {
     "data": {
      "application/vnd.jupyter.widget-view+json": {
       "model_id": "31036bb5076a4d92a00bc995b6c256ba",
       "version_major": 2,
       "version_minor": 0
      },
      "text/plain": [
       "Flattening the indices:   0%|          | 0/1 [00:00<?, ?ba/s]"
      ]
     },
     "metadata": {},
     "output_type": "display_data"
    }
   ],
   "source": [
    "dataset['test'].save_to_disk(datap(\"all_paragraphs_labeled_only/test\"))"
   ]
  },
  {
   "cell_type": "markdown",
   "id": "79cc99e0",
   "metadata": {},
   "source": [
    "### Choose only the first paragraph"
   ]
  },
  {
   "cell_type": "code",
   "execution_count": 82,
   "id": "e68932c4",
   "metadata": {},
   "outputs": [
    {
     "data": {
      "text/html": [
       "<div>\n",
       "<style scoped>\n",
       "    .dataframe tbody tr th:only-of-type {\n",
       "        vertical-align: middle;\n",
       "    }\n",
       "\n",
       "    .dataframe tbody tr th {\n",
       "        vertical-align: top;\n",
       "    }\n",
       "\n",
       "    .dataframe thead th {\n",
       "        text-align: right;\n",
       "    }\n",
       "</style>\n",
       "<table border=\"1\" class=\"dataframe\">\n",
       "  <thead>\n",
       "    <tr style=\"text-align: right;\">\n",
       "      <th></th>\n",
       "      <th>postId</th>\n",
       "      <th>text</th>\n",
       "      <th>label</th>\n",
       "    </tr>\n",
       "  </thead>\n",
       "  <tbody>\n",
       "    <tr>\n",
       "      <th>0</th>\n",
       "      <td>70</td>\n",
       "      <td>Meet us at the Karbach Biergarten for an Intro...</td>\n",
       "      <td>2.0</td>\n",
       "    </tr>\n",
       "    <tr>\n",
       "      <th>1</th>\n",
       "      <td>182</td>\n",
       "      <td>At Founders Pledge, we just launched a new add...</td>\n",
       "      <td>0.0</td>\n",
       "    </tr>\n",
       "    <tr>\n",
       "      <th>4</th>\n",
       "      <td>255</td>\n",
       "      <td>Today we are both launching our organization, ...</td>\n",
       "      <td>0.0</td>\n",
       "    </tr>\n",
       "    <tr>\n",
       "      <th>5</th>\n",
       "      <td>274</td>\n",
       "      <td>Summary\\nWe’re excited to announce VIVID - a n...</td>\n",
       "      <td>0.0</td>\n",
       "    </tr>\n",
       "    <tr>\n",
       "      <th>11</th>\n",
       "      <td>317</td>\n",
       "      <td>We are pleased to introduce Cause Innovation B...</td>\n",
       "      <td>1.0</td>\n",
       "    </tr>\n",
       "  </tbody>\n",
       "</table>\n",
       "</div>"
      ],
      "text/plain": [
       "    postId                                               text  label\n",
       "0       70  Meet us at the Karbach Biergarten for an Intro...    2.0\n",
       "1      182  At Founders Pledge, we just launched a new add...    0.0\n",
       "4      255  Today we are both launching our organization, ...    0.0\n",
       "5      274  Summary\\nWe’re excited to announce VIVID - a n...    0.0\n",
       "11     317  We are pleased to introduce Cause Innovation B...    1.0"
      ]
     },
     "execution_count": 82,
     "metadata": {},
     "output_type": "execute_result"
    }
   ],
   "source": [
    "first_paragraphs = paragraph_split.drop_duplicates(subset=\"postId\", keep=\"first\")\n",
    "first_paragraphs.head()"
   ]
  },
  {
   "cell_type": "code",
   "execution_count": 83,
   "id": "4f3e0898",
   "metadata": {},
   "outputs": [
    {
     "data": {
      "text/plain": [
       "0.0    41\n",
       "1.0    32\n",
       "2.0    22\n",
       "Name: label, dtype: int64"
      ]
     },
     "execution_count": 83,
     "metadata": {},
     "output_type": "execute_result"
    }
   ],
   "source": [
    "first_paragraphs.label.value_counts()"
   ]
  },
  {
   "cell_type": "code",
   "execution_count": 84,
   "id": "c1663868",
   "metadata": {},
   "outputs": [
    {
     "name": "stderr",
     "output_type": "stream",
     "text": [
      "/tmp/ipykernel_17239/2548759710.py:1: SettingWithCopyWarning: \n",
      "A value is trying to be set on a copy of a slice from a DataFrame.\n",
      "Try using .loc[row_indexer,col_indexer] = value instead\n",
      "\n",
      "See the caveats in the documentation: https://pandas.pydata.org/pandas-docs/stable/user_guide/indexing.html#returning-a-view-versus-a-copy\n",
      "  first_paragraphs.loc[:, \"label\"] = first_paragraphs.label.astype(\"int8\")\n",
      "/tmp/ipykernel_17239/2548759710.py:1: FutureWarning: In a future version, `df.iloc[:, i] = newvals` will attempt to set the values inplace instead of always setting a new array. To retain the old behavior, use either `df[df.columns[i]] = newvals` or, if columns are non-unique, `df.isetitem(i, newvals)`\n",
      "  first_paragraphs.loc[:, \"label\"] = first_paragraphs.label.astype(\"int8\")\n"
     ]
    }
   ],
   "source": [
    "first_paragraphs.loc[:, \"label\"] = first_paragraphs.label.astype(\"int8\")"
   ]
  },
  {
   "cell_type": "code",
   "execution_count": 85,
   "id": "b55e2f56",
   "metadata": {},
   "outputs": [
    {
     "data": {
      "text/plain": [
       "(95, 3)"
      ]
     },
     "execution_count": 85,
     "metadata": {},
     "output_type": "execute_result"
    }
   ],
   "source": [
    "first_paragraphs.shape"
   ]
  },
  {
   "cell_type": "code",
   "execution_count": 86,
   "id": "2e11b479",
   "metadata": {},
   "outputs": [],
   "source": [
    "first_paragraphs = Dataset.from_pandas(first_paragraphs).train_test_split(test_size=0.5)"
   ]
  },
  {
   "cell_type": "code",
   "execution_count": 87,
   "id": "f53afe60",
   "metadata": {},
   "outputs": [
    {
     "data": {
      "text/plain": [
       "DatasetDict({\n",
       "    train: Dataset({\n",
       "        features: ['postId', 'text', 'label', '__index_level_0__'],\n",
       "        num_rows: 47\n",
       "    })\n",
       "    test: Dataset({\n",
       "        features: ['postId', 'text', 'label', '__index_level_0__'],\n",
       "        num_rows: 48\n",
       "    })\n",
       "})"
      ]
     },
     "execution_count": 87,
     "metadata": {},
     "output_type": "execute_result"
    }
   ],
   "source": [
    "first_paragraphs"
   ]
  },
  {
   "cell_type": "code",
   "execution_count": 88,
   "id": "68a28f29",
   "metadata": {},
   "outputs": [
    {
     "data": {
      "application/vnd.jupyter.widget-view+json": {
       "model_id": "d62cedda62f449229566bbc7ce3a0255",
       "version_major": 2,
       "version_minor": 0
      },
      "text/plain": [
       "Flattening the indices:   0%|          | 0/1 [00:00<?, ?ba/s]"
      ]
     },
     "metadata": {},
     "output_type": "display_data"
    }
   ],
   "source": [
    "first_paragraphs['train'].save_to_disk(datap(\"first_paragraphs_labeled_only/train\"))"
   ]
  },
  {
   "cell_type": "code",
   "execution_count": 89,
   "id": "0c9f119b",
   "metadata": {},
   "outputs": [
    {
     "data": {
      "application/vnd.jupyter.widget-view+json": {
       "model_id": "741a24430f0d42a8851ffbd50e288dde",
       "version_major": 2,
       "version_minor": 0
      },
      "text/plain": [
       "Flattening the indices:   0%|          | 0/1 [00:00<?, ?ba/s]"
      ]
     },
     "metadata": {},
     "output_type": "display_data"
    }
   ],
   "source": [
    "first_paragraphs['test'].save_to_disk(datap(\"first_paragraphs_labeled_only/test\"))"
   ]
  },
  {
   "cell_type": "code",
   "execution_count": 67,
   "id": "e0c8c2fe",
   "metadata": {},
   "outputs": [],
   "source": [
    "# Dataset.from_pandas(first_paragraphs).save_to_disk(datap(\"first_paragraphs_labeled_only\"))"
   ]
  },
  {
   "cell_type": "code",
   "execution_count": 10,
   "id": "7ff1797f",
   "metadata": {},
   "outputs": [],
   "source": [
    "# pars_encoded = model.encode(par_split_df.text, show_progress_bar=True)"
   ]
  },
  {
   "cell_type": "code",
   "execution_count": null,
   "id": "c6f44bc1",
   "metadata": {},
   "outputs": [],
   "source": [
    "# DataFrame(pars_encoded).groupby(par_split_df.postId.values).mean().to_csv(datap(\"posts_encoded.csv\"))"
   ]
  }
 ],
 "metadata": {
  "kernelspec": {
   "display_name": "Python 3 (ipykernel)",
   "language": "python",
   "name": "python3"
  },
  "language_info": {
   "codemirror_mode": {
    "name": "ipython",
    "version": 3
   },
   "file_extension": ".py",
   "mimetype": "text/x-python",
   "name": "python",
   "nbconvert_exporter": "python",
   "pygments_lexer": "ipython3",
   "version": "3.8.10"
  }
 },
 "nbformat": 4,
 "nbformat_minor": 5
}
