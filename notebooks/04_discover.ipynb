{
 "cells": [
  {
   "cell_type": "code",
   "execution_count": 12,
   "id": "e76ad4ec",
   "metadata": {},
   "outputs": [
    {
     "name": "stdout",
     "output_type": "stream",
     "text": [
      "The autoreload extension is already loaded. To reload it, use:\n",
      "  %reload_ext autoreload\n"
     ]
    }
   ],
   "source": [
    "%load_ext autoreload\n",
    "%autoreload 2"
   ]
  },
  {
   "cell_type": "code",
   "execution_count": 13,
   "id": "f88db7a1",
   "metadata": {},
   "outputs": [],
   "source": [
    "import project_path"
   ]
  },
  {
   "cell_type": "code",
   "execution_count": 14,
   "id": "8786ab69",
   "metadata": {},
   "outputs": [],
   "source": [
    "import random\n",
    "\n",
    "import numpy as np\n",
    "import optuna\n",
    "import pandas as pd\n",
    "import torch\n",
    "from torch.utils.data import DataLoader\n",
    "from torch.nn.functional import softmax\n",
    "from datasets import load_from_disk\n",
    "from sentence_transformers import SentenceTransformer\n",
    "\n",
    "from src.data_utils import load_data\n",
    "from src.paths import datap, outputp\n",
    "from src.training import Trainer\n",
    "from src.embed_posts import get_paragraph_split\n",
    "from constants import RAW_DATA_PATH, SBERT_PATH, LABEL_MAP\n",
    "\n",
    "# Reproducibility\n",
    "seed = 42\n",
    "torch.manual_seed(seed)\n",
    "random.seed(seed)\n",
    "np.random.seed(seed)"
   ]
  },
  {
   "cell_type": "code",
   "execution_count": 4,
   "id": "2bc0459d",
   "metadata": {},
   "outputs": [],
   "source": [
    "model_name = \"eaembd_post_classifier:2023-04-04\" # \"baseline\"\n",
    "filename = \"labeled_posts.csv\""
   ]
  },
  {
   "cell_type": "code",
   "execution_count": 5,
   "id": "6dd7c2a6",
   "metadata": {},
   "outputs": [
    {
     "name": "stdout",
     "output_type": "stream",
     "text": [
      "\n",
      "Epoch 1\n",
      "-------------------------------\n",
      "train FPR 0.192 | train recall 0.558\n",
      "test FPR 0.043 | test recall 0.904\n",
      "\n",
      "Epoch 2\n",
      "-------------------------------\n",
      "train FPR 0.099 | train recall 0.764\n",
      "test FPR 0.024 | test recall 0.952\n",
      "\n",
      "Epoch 3\n",
      "-------------------------------\n",
      "train FPR 0.049 | train recall 0.880\n",
      "test FPR 0.008 | test recall 0.981\n",
      "\n",
      "Epoch 4\n",
      "-------------------------------\n",
      "train FPR 0.022 | train recall 0.944\n",
      "test FPR 0.007 | test recall 0.992\n",
      "\n",
      "Epoch 5\n",
      "-------------------------------\n",
      "train FPR 0.016 | train recall 0.972\n",
      "test FPR 0.005 | test recall 0.995\n",
      "\n",
      "Epoch 6\n",
      "-------------------------------\n",
      "train FPR 0.016 | train recall 0.972\n",
      "test FPR 0.004 | test recall 0.996\n",
      "\n",
      "Epoch 7\n",
      "-------------------------------\n",
      "train FPR 0.008 | train recall 0.989\n",
      "test FPR 0.002 | test recall 0.997\n",
      "\n",
      "Epoch 8\n",
      "-------------------------------\n",
      "train FPR 0.006 | train recall 0.991\n",
      "test FPR 0.002 | test recall 0.997\n",
      "\n",
      "Epoch 9\n",
      "-------------------------------\n",
      "train FPR 0.008 | train recall 0.989\n",
      "test FPR 0.002 | test recall 0.997\n",
      "\n",
      "Epoch 10\n",
      "-------------------------------\n",
      "train FPR 0.006 | train recall 0.991\n",
      "test FPR 0.002 | test recall 0.997\n"
     ]
    }
   ],
   "source": [
    "db_path = outputp(\"db.sqlite3\")\n",
    "loaded_study = optuna.load_study(study_name=model_name,\n",
    "                                 storage=f\"sqlite:///{db_path}\")\n",
    "\n",
    "dataset_size = len(pd.read_csv(datap(filename)))\n",
    "trainer = Trainer(epochs=10)\n",
    "\n",
    "lr, batch_size = loaded_study.best_trial.params[\"lr\"], loaded_study.best_trial.params[\"batch_size\"]\n",
    "dataset = load_data()\n",
    "\n",
    "train_loader = DataLoader(dataset, batch_size=batch_size)\n",
    "train_metrics, _ = trainer.train(lr, train_loader, train_loader, logging=True)"
   ]
  },
  {
   "cell_type": "code",
   "execution_count": 73,
   "id": "b073a921",
   "metadata": {},
   "outputs": [],
   "source": [
    "training_ids = set(dataset.ids)\n",
    "data = load_from_disk(datap(\"posts\")).to_pandas()\n",
    "all_ids = set(data._id)\n",
    "discover_ids = all_ids - training_ids"
   ]
  },
  {
   "cell_type": "code",
   "execution_count": 75,
   "id": "ae138acd",
   "metadata": {},
   "outputs": [
    {
     "data": {
      "application/vnd.jupyter.widget-view+json": {
       "model_id": "b46c5238fb884e45afd8441cc241c993",
       "version_major": 2,
       "version_minor": 0
      },
      "text/plain": [
       "  0%|          | 0/10674 [00:00<?, ?it/s]"
      ]
     },
     "metadata": {},
     "output_type": "display_data"
    },
    {
     "name": "stderr",
     "output_type": "stream",
     "text": [
      "/home/justy/workspace/ea/ea-forum-announcements/src/embed_posts.py:24: SettingWithCopyWarning: \n",
      "A value is trying to be set on a copy of a slice from a DataFrame.\n",
      "Try using .loc[row_indexer,col_indexer] = value instead\n",
      "\n",
      "See the caveats in the documentation: https://pandas.pydata.org/pandas-docs/stable/user_guide/indexing.html#returning-a-view-versus-a-copy\n",
      "  data['paragraphs'] = data.body.progress_map(extract_paragraphs)\n"
     ]
    },
    {
     "data": {
      "application/vnd.jupyter.widget-view+json": {
       "model_id": "6146c44445cb4263ab5b5c47be783477",
       "version_major": 2,
       "version_minor": 0
      },
      "text/plain": [
       "  0%|          | 0/10674 [00:00<?, ?it/s]"
      ]
     },
     "metadata": {},
     "output_type": "display_data"
    },
    {
     "name": "stderr",
     "output_type": "stream",
     "text": [
      "/home/justy/workspace/ea/ea-forum-announcements/src/embed_posts.py:25: SettingWithCopyWarning: \n",
      "A value is trying to be set on a copy of a slice from a DataFrame.\n",
      "Try using .loc[row_indexer,col_indexer] = value instead\n",
      "\n",
      "See the caveats in the documentation: https://pandas.pydata.org/pandas-docs/stable/user_guide/indexing.html#returning-a-view-versus-a-copy\n",
      "  data['paragraphs'] = data.paragraphs.progress_map(lambda p: split_long_paragraphs(p, max_n_words=MAX_TOKENS))\n"
     ]
    },
    {
     "data": {
      "application/vnd.jupyter.widget-view+json": {
       "model_id": "e1bcdc2d24934f14a832e00636fa0573",
       "version_major": 2,
       "version_minor": 0
      },
      "text/plain": [
       "  0%|          | 0/10507 [00:00<?, ?it/s]"
      ]
     },
     "metadata": {},
     "output_type": "display_data"
    },
    {
     "name": "stdout",
     "output_type": "stream",
     "text": [
      "Warning: paragraph too long (472 words): ['Hoogman, M., Muetzel, R., Guimaraes, J.P., Shumskaya, E., Mennes, M., Zwiers, M.P., Jahanshad, N., Sudre, G., Wolfers, T., Earl, E.A., Soliva Vila, J.C., Vives-Gilabert, Y., Khadka, S., Novotny, S.E., Hartman, C.A., Heslenfeld, D.J., Schweren, L.J.S., Ambrosino, S., Oranje, B., de Zeeuw, P., Chaim-Avancini, T.M., Rosa, P.G.P., Zanetti, M.V., Malpas, C.B., Kohls, G., von Polier, G.G., Seitz, J., Biederman, J., Doyle, A.E., Dale, A.M., van Erp, T.G.M., Epstein, J.N., Jernigan, T.L., BaurStreubel, R., Ziegler, G.C., Zierhut, K.C., Schrantee, A., Hovik, M.F., Lundervold, A. J., Kelly, C., McCarthy, H., Skokauskas, N., O’Gorman Tuura, R.L., Calvo, A., LeraMiguel, S., Nicolau, R., Chantiluke, K.C., Christakou, A., Vance, A., Cercignani, M., Gabel, M.C., Asherson, P., Baumeister, S., Brandeis, D., Hohmann, S., Bramati, I.E., Tovar-Moll, F., Fallgatter, A.J., Kardatzki, B., Schwarz, L., Anikin, A., Baranov, A., Gogberashvili, T., Kapilushniy, D., Solovieva, A., El Marroun, H., White, T., Karkashadze, G., Namazova-Baranova, L., Ethofer, T., Mattos, P., Banaschewski, T., Coghill, D., Plessen, K.J., Kuntsi, J., Mehta, M.A., Paloyelis, Y., Harrison, N.A., Bellgrove, M.A., Silk, T.J., Cubillo, A.I., Rubia, K., Lazaro, L., Brem, S., Walitza, S., Frodl, T., Zentis, M., Castellanos, F.X., Yoncheva, Y.N., Haavik, J., Reneman, L., Conzelmann, A., Lesch, K.P., Pauli, P., Reif, A., Tamm, L., Konrad, K., Oberwelland Weiss, E., Busatto, G.F., Louza, M.R., Durston, S., Hoekstra, P.J., Oosterlaan, J., Stevens, M.C., Ramos-Quiroga, J.A., Vilarroya, O., Fair, D.A., Nigg, J.T., Thompson, P.M., Buitelaar, J.K., Faraone, S.V., Shaw, P., Tiemeier, H., Bralten, J., Franke, B., 2019.']\n",
      "Warning: paragraph too long (1024 words): [\"[('Father death', 19), ('Childbirth', 16), ('Grandmother death', 13), ('Mother death', 11), ('Car accident', 9), ('Kidney stone', 9), ('Migraine', 9), ('Romantic breakup', 9), ('Broken arm', 6), ('Broken leg', 6), ('Work failure', 6), ('Divorce', 5), ('Pet death', 5), ('Broken foot', 4), ('Broken ankle', 4), ('Broken hand', 4), ('Unspecified', 4), ('Friend death', 4), ('Sister death', 4), ('Skin burns', 3), ('Skin cut needing stitches', 3), ('Financial ruin', 3), ('Property loss', 3), ('Sprained ankle', 3), ('Gallstones', 3), ('Family breakup', 3), ('Divorce of parents', 3), ('C-section recovery', 3), ('Love failure', 2), ('Broken finger', 2), ('Unspecified fracture', 2), ('Broken ribs', 2), ('Unspecified family death', 2), ('Broken collarbone', 2), ('Grandfather death', 2), ('Unspecified illness', 2), ('Period pain', 2), ('Being cheated', 2), ('Financial loss', 2), ('Broken tooth', 2), ('Cousin death', 2), ('Relative with cancer', 2), ('Cluster headache', 2), ('Unspecified leg problem', 2), ('Root canal', 2), ('Back pain', 2), ('Broken nose', 2), ('Aunt death', 2), ('Wisdom teeth', 2), ('Cancer (eye)', 1), ('Appendix operation', 1), ('Dislocated elbow', 1), ('Concussion', 1), ('Mono', 1), ('Sexual assault', 1), ('Kidney infection', 1), ('Hemorrhoids', 1), ('Tattoo', 1), ('Unspecified kidney problem', 1), ('Unspecified lung problem', 1), ('Unspecified cancer', 1), ('Unspecified childhood sickness', 1), ('Broken jaw', 1), ('Broken elbow', 1), ('Thrown out back', 1), ('Lost sentimental item', 1), ('Abortion', 1), ('Ruptured kidney', 1), ('Big fall', 1), ('Torn knee', 1), ('Finger hit by hammer', 1), ('Injured thumb', 1), ('Brother in law death', 1), ('Knocked teeth', 1), ('Unspecified death', 1), ('Ripping off fingernail', 1), ('Personal anger', 1), ('Wrist pain', 1), ('Getting the wind knocked out', 1), ('Blown knee', 1), ('Burst appendix', 1), ('Tooth abscess', 1), ('Tendinitis', 1), ('Altruistic frustration', 1), ('Leg operation', 1), ('Gallbladder infection', 1), ('Broken wrist', 1), ('Stomach flu', 1), ('Running away from family', 1), ('Child beating', 1), ('Sinus infection', 1), ('Broken thumb', 1), ('Family abuse', 1), ('Miscarriage', 1), ('Tooth extraction', 1), ('Feeling like your soul is lost', 1), ('Homelessness', 1), ('Losing your religion', 1), ('Losing bike', 1), ('Family member in prison', 1), ('Crohn s disease', 1), ('Irritable bowel syndrome', 1), ('Family injured', 1), ('Unspecified chronic disease', 1), ('Fibromyalgia', 1), ('Blood clot in toe', 1), ('Infected c-section', 1), ('Suicide of lover', 1), ('Dental extraction', 1), ('Unspecified partner abuse', 1), ('Infertility', 1), ('Father in law death', 1), ('Broken neck', 1), ('Scratched cornea', 1), ('Swollen lymph nodes', 1), ('Sun burns', 1), ('Tooth ache', 1), ('Lost custody of children', 1), ('Unspecified accident', 1), ('Bike accident', 1), ('Broken hip', 1), ('Not being loved by partner', 1), ('Dog bite', 1), ('Broken skull', 1)]\"]\n",
      "Warning: paragraph too long (1024 words): [\"[('Father death', 19), ('Childbirth', 16), ('Grandmother death', 13), ('Mother death', 11), ('Car accident', 9), ('Kidney stone', 9), ('Migraine', 9), ('Romantic breakup', 9), ('Broken arm', 6), ('Broken leg', 6), ('Work failure', 6), ('Divorce', 5), ('Pet death', 5), ('Broken foot', 4), ('Broken ankle', 4), ('Broken hand', 4), ('Unspecified', 4), ('Friend death', 4), ('Sister death', 4), ('Skin burns', 3), ('Skin cut needing stitches', 3), ('Financial ruin', 3), ('Property loss', 3), ('Sprained ankle', 3), ('Gallstones', 3), ('Family breakup', 3), ('Divorce of parents', 3), ('C-section recovery', 3), ('Love failure', 2), ('Broken finger', 2), ('Unspecified fracture', 2), ('Broken ribs', 2), ('Unspecified family death', 2), ('Broken collarbone', 2), ('Grandfather death', 2), ('Unspecified illness', 2), ('Period pain', 2), ('Being cheated', 2), ('Financial loss', 2), ('Broken tooth', 2), ('Cousin death', 2), ('Relative with cancer', 2), ('Cluster headache', 2), ('Unspecified leg problem', 2), ('Root canal', 2), ('Back pain', 2), ('Broken nose', 2), ('Aunt death', 2), ('Wisdom teeth', 2), ('Cancer (eye)', 1), ('Appendix operation', 1), ('Dislocated elbow', 1), ('Concussion', 1), ('Mono', 1), ('Sexual assault', 1), ('Kidney infection', 1), ('Hemorrhoids', 1), ('Tattoo', 1), ('Unspecified kidney problem', 1), ('Unspecified lung problem', 1), ('Unspecified cancer', 1), ('Unspecified childhood sickness', 1), ('Broken jaw', 1), ('Broken elbow', 1), ('Thrown out back', 1), ('Lost sentimental item', 1), ('Abortion', 1), ('Ruptured kidney', 1), ('Big fall', 1), ('Torn knee', 1), ('Finger hit by hammer', 1), ('Injured thumb', 1), ('Brother in law death', 1), ('Knocked teeth', 1), ('Unspecified death', 1), ('Ripping off fingernail', 1), ('Personal anger', 1), ('Wrist pain', 1), ('Getting the wind knocked out', 1), ('Blown knee', 1), ('Burst appendix', 1), ('Tooth abscess', 1), ('Tendinitis', 1), ('Altruistic frustration', 1), ('Leg operation', 1), ('Gallbladder infection', 1), ('Broken wrist', 1), ('Stomach flu', 1), ('Running away from family', 1), ('Child beating', 1), ('Sinus infection', 1), ('Broken thumb', 1), ('Family abuse', 1), ('Miscarriage', 1), ('Tooth extraction', 1), ('Feeling like your soul is lost', 1), ('Homelessness', 1), ('Losing your religion', 1), ('Losing bike', 1), ('Family member in prison', 1), ('Crohn s disease', 1), ('Irritable bowel syndrome', 1), ('Family injured', 1), ('Unspecified chronic disease', 1), ('Fibromyalgia', 1), ('Blood clot in toe', 1), ('Infected c-section', 1), ('Suicide of lover', 1), ('Dental extraction', 1), ('Unspecified partner abuse', 1), ('Infertility', 1), ('Father in law death', 1), ('Broken neck', 1), ('Scratched cornea', 1), ('Swollen lymph nodes', 1), ('Sun burns', 1), ('Tooth ache', 1), ('Lost custody of children', 1), ('Unspecified accident', 1), ('Bike accident', 1), ('Broken hip', 1), ('Not being loved by partner', 1), ('Dog bite', 1), ('Broken skull', 1)]\"]\n",
      "Warning: paragraph too long (1024 words): [\"[('Father death', 19), ('Childbirth', 16), ('Grandmother death', 13), ('Mother death', 11), ('Car accident', 9), ('Kidney stone', 9), ('Migraine', 9), ('Romantic breakup', 9), ('Broken arm', 6), ('Broken leg', 6), ('Work failure', 6), ('Divorce', 5), ('Pet death', 5), ('Broken foot', 4), ('Broken ankle', 4), ('Broken hand', 4), ('Unspecified', 4), ('Friend death', 4), ('Sister death', 4), ('Skin burns', 3), ('Skin cut needing stitches', 3), ('Financial ruin', 3), ('Property loss', 3), ('Sprained ankle', 3), ('Gallstones', 3), ('Family breakup', 3), ('Divorce of parents', 3), ('C-section recovery', 3), ('Love failure', 2), ('Broken finger', 2), ('Unspecified fracture', 2), ('Broken ribs', 2), ('Unspecified family death', 2), ('Broken collarbone', 2), ('Grandfather death', 2), ('Unspecified illness', 2), ('Period pain', 2), ('Being cheated', 2), ('Financial loss', 2), ('Broken tooth', 2), ('Cousin death', 2), ('Relative with cancer', 2), ('Cluster headache', 2), ('Unspecified leg problem', 2), ('Root canal', 2), ('Back pain', 2), ('Broken nose', 2), ('Aunt death', 2), ('Wisdom teeth', 2), ('Cancer (eye)', 1), ('Appendix operation', 1), ('Dislocated elbow', 1), ('Concussion', 1), ('Mono', 1), ('Sexual assault', 1), ('Kidney infection', 1), ('Hemorrhoids', 1), ('Tattoo', 1), ('Unspecified kidney problem', 1), ('Unspecified lung problem', 1), ('Unspecified cancer', 1), ('Unspecified childhood sickness', 1), ('Broken jaw', 1), ('Broken elbow', 1), ('Thrown out back', 1), ('Lost sentimental item', 1), ('Abortion', 1), ('Ruptured kidney', 1), ('Big fall', 1), ('Torn knee', 1), ('Finger hit by hammer', 1), ('Injured thumb', 1), ('Brother in law death', 1), ('Knocked teeth', 1), ('Unspecified death', 1), ('Ripping off fingernail', 1), ('Personal anger', 1), ('Wrist pain', 1), ('Getting the wind knocked out', 1), ('Blown knee', 1), ('Burst appendix', 1), ('Tooth abscess', 1), ('Tendinitis', 1), ('Altruistic frustration', 1), ('Leg operation', 1), ('Gallbladder infection', 1), ('Broken wrist', 1), ('Stomach flu', 1), ('Running away from family', 1), ('Child beating', 1), ('Sinus infection', 1), ('Broken thumb', 1), ('Family abuse', 1), ('Miscarriage', 1), ('Tooth extraction', 1), ('Feeling like your soul is lost', 1), ('Homelessness', 1), ('Losing your religion', 1), ('Losing bike', 1), ('Family member in prison', 1), ('Crohn s disease', 1), ('Irritable bowel syndrome', 1), ('Family injured', 1), ('Unspecified chronic disease', 1), ('Fibromyalgia', 1), ('Blood clot in toe', 1), ('Infected c-section', 1), ('Suicide of lover', 1), ('Dental extraction', 1), ('Unspecified partner abuse', 1), ('Infertility', 1), ('Father in law death', 1), ('Broken neck', 1), ('Scratched cornea', 1), ('Swollen lymph nodes', 1), ('Sun burns', 1), ('Tooth ache', 1), ('Lost custody of children', 1), ('Unspecified accident', 1), ('Bike accident', 1), ('Broken hip', 1), ('Not being loved by partner', 1), ('Dog bite', 1), ('Broken skull', 1)]\"]\n",
      "Warning: paragraph too long (654 words): [\"[('Falling in love', 42), ('Children born', 41), ('Marriage', 21), ('Sex', 19), ('College graduation', 13), ('Orgasm', 11), ('Alcohol', 8), ('Vacation', 6), ('Getting job', 6), ('Personal favorite sports win', 6), ('Nature scene', 5), ('Owning home', 5), ('Sports win', 4), ('Graduating highschool', 4), ('MDMA', 4), ('Getting paid for the first time', 4), ('Amusement park', 4), ('Game of chance earning', 4), ('Job achievement', 4), ('Getting engaged', 4), ('Cannabis', 3), ('Eating favorite food', 3), ('Unexpected gift', 3), ('Moving to a better location', 3), ('Travel', 3), ('Divorce', 2), ('Gifting car', 2), ('Giving to charity', 2), ('LSD', 2), ('Won contest', 2), ('Friend reunion', 2), ('Winning bike', 2), ('Kiss', 2), ('Pet ownership', 2), ('Children', 1), ('First air trip', 1), ('First kiss', 1), ('Public performance', 1), ('Hugs', 1), ('Unspecified', 1), ('Recovering from unspecified kidney problem', 1), ('College party', 1), ('Graduate school start', 1), ('Financial success', 1), ('Dinner with loved one', 1), ('Feeling supported', 1), ('Children graduates from college', 1), ('Family event', 1), ('Participating in TV show', 1), ('Psychedelic mushrooms', 1), ('Opiates', 1), ('Having own place', 1), ('Making music', 1), ('Becoming engaged', 1), ('Theater', 1), ('Extreme sport', 1), ('Armed forces graduation', 1), ('Birthday', 1), ('Positive pregnancy test', 1), ('Feeling that God exists', 1), ('Belief that Hell does not exist', 1), ('Getting car', 1), ('Academic achievement', 1), ('Helping others', 1), ('Meeting soulmate', 1), ('Daughter back home', 1), ('Winning custody of children', 1), ('Friend stops drinking', 1), ('Masturbation', 1), ('Friend not dead after all', 1), ('Child learns to walk', 1), ('Attending wedding of loved one', 1), ('Children safe after dangerous situation', 1), ('Unspecified good news', 1), ('Met personal idol', 1), ('Child learns to talk', 1), ('Children good at school', 1)]\"]\n",
      "Warning: paragraph too long (654 words): [\"[('Falling in love', 42), ('Children born', 41), ('Marriage', 21), ('Sex', 19), ('College graduation', 13), ('Orgasm', 11), ('Alcohol', 8), ('Vacation', 6), ('Getting job', 6), ('Personal favorite sports win', 6), ('Nature scene', 5), ('Owning home', 5), ('Sports win', 4), ('Graduating highschool', 4), ('MDMA', 4), ('Getting paid for the first time', 4), ('Amusement park', 4), ('Game of chance earning', 4), ('Job achievement', 4), ('Getting engaged', 4), ('Cannabis', 3), ('Eating favorite food', 3), ('Unexpected gift', 3), ('Moving to a better location', 3), ('Travel', 3), ('Divorce', 2), ('Gifting car', 2), ('Giving to charity', 2), ('LSD', 2), ('Won contest', 2), ('Friend reunion', 2), ('Winning bike', 2), ('Kiss', 2), ('Pet ownership', 2), ('Children', 1), ('First air trip', 1), ('First kiss', 1), ('Public performance', 1), ('Hugs', 1), ('Unspecified', 1), ('Recovering from unspecified kidney problem', 1), ('College party', 1), ('Graduate school start', 1), ('Financial success', 1), ('Dinner with loved one', 1), ('Feeling supported', 1), ('Children graduates from college', 1), ('Family event', 1), ('Participating in TV show', 1), ('Psychedelic mushrooms', 1), ('Opiates', 1), ('Having own place', 1), ('Making music', 1), ('Becoming engaged', 1), ('Theater', 1), ('Extreme sport', 1), ('Armed forces graduation', 1), ('Birthday', 1), ('Positive pregnancy test', 1), ('Feeling that God exists', 1), ('Belief that Hell does not exist', 1), ('Getting car', 1), ('Academic achievement', 1), ('Helping others', 1), ('Meeting soulmate', 1), ('Daughter back home', 1), ('Winning custody of children', 1), ('Friend stops drinking', 1), ('Masturbation', 1), ('Friend not dead after all', 1), ('Child learns to walk', 1), ('Attending wedding of loved one', 1), ('Children safe after dangerous situation', 1), ('Unspecified good news', 1), ('Met personal idol', 1), ('Child learns to talk', 1), ('Children good at school', 1)]\"]\n",
      "Warning: paragraph too long (654 words): [\"[('Falling in love', 42), ('Children born', 41), ('Marriage', 21), ('Sex', 19), ('College graduation', 13), ('Orgasm', 11), ('Alcohol', 8), ('Vacation', 6), ('Getting job', 6), ('Personal favorite sports win', 6), ('Nature scene', 5), ('Owning home', 5), ('Sports win', 4), ('Graduating highschool', 4), ('MDMA', 4), ('Getting paid for the first time', 4), ('Amusement park', 4), ('Game of chance earning', 4), ('Job achievement', 4), ('Getting engaged', 4), ('Cannabis', 3), ('Eating favorite food', 3), ('Unexpected gift', 3), ('Moving to a better location', 3), ('Travel', 3), ('Divorce', 2), ('Gifting car', 2), ('Giving to charity', 2), ('LSD', 2), ('Won contest', 2), ('Friend reunion', 2), ('Winning bike', 2), ('Kiss', 2), ('Pet ownership', 2), ('Children', 1), ('First air trip', 1), ('First kiss', 1), ('Public performance', 1), ('Hugs', 1), ('Unspecified', 1), ('Recovering from unspecified kidney problem', 1), ('College party', 1), ('Graduate school start', 1), ('Financial success', 1), ('Dinner with loved one', 1), ('Feeling supported', 1), ('Children graduates from college', 1), ('Family event', 1), ('Participating in TV show', 1), ('Psychedelic mushrooms', 1), ('Opiates', 1), ('Having own place', 1), ('Making music', 1), ('Becoming engaged', 1), ('Theater', 1), ('Extreme sport', 1), ('Armed forces graduation', 1), ('Birthday', 1), ('Positive pregnancy test', 1), ('Feeling that God exists', 1), ('Belief that Hell does not exist', 1), ('Getting car', 1), ('Academic achievement', 1), ('Helping others', 1), ('Meeting soulmate', 1), ('Daughter back home', 1), ('Winning custody of children', 1), ('Friend stops drinking', 1), ('Masturbation', 1), ('Friend not dead after all', 1), ('Child learns to walk', 1), ('Attending wedding of loved one', 1), ('Children safe after dangerous situation', 1), ('Unspecified good news', 1), ('Met personal idol', 1), ('Child learns to talk', 1), ('Children good at school', 1)]\"]\n"
     ]
    },
    {
     "name": "stderr",
     "output_type": "stream",
     "text": [
      "/home/justy/workspace/ea/ea-forum-announcements/src/embed_posts.py:27: SettingWithCopyWarning: \n",
      "A value is trying to be set on a copy of a slice from a DataFrame.\n",
      "Try using .loc[row_indexer,col_indexer] = value instead\n",
      "\n",
      "See the caveats in the documentation: https://pandas.pydata.org/pandas-docs/stable/user_guide/indexing.html#returning-a-view-versus-a-copy\n",
      "  data['paragraphs_split'] = data.paragraphs.progress_map(\n"
     ]
    },
    {
     "data": {
      "application/vnd.jupyter.widget-view+json": {
       "model_id": "91cbd2718e984458bd6a2d66b260639b",
       "version_major": 2,
       "version_minor": 0
      },
      "text/plain": [
       "Batches:   0%|          | 0/70643 [00:00<?, ?it/s]"
      ]
     },
     "metadata": {},
     "output_type": "display_data"
    }
   ],
   "source": [
    "sample = data[data._id.isin(discover_ids)]\n",
    "sample = get_paragraph_split(sample)\n",
    "paragraph_split = pd.concat([\n",
    "    pd.DataFrame({\"postId\": r._id, \"text\": r.paragraphs_split.text.values})\n",
    "    for pid, r in sample.iterrows()], ignore_index=True)\n",
    "\n",
    "model = SentenceTransformer.load(SBERT_PATH)\n",
    "paragraphs_embeddings = model.encode(paragraph_split.text, batch_size=batch_size, show_progress_bar=True)\n",
    "paragraph_split = pd.concat((paragraph_split, pd.DataFrame(paragraphs_embeddings)), axis=1)\n",
    "embedded_sample = paragraph_split.groupby(\"postId\").mean(numeric_only=True)"
   ]
  },
  {
   "cell_type": "code",
   "execution_count": 76,
   "id": "b2125e79",
   "metadata": {},
   "outputs": [],
   "source": [
    "X = torch.tensor(embedded_sample.values, dtype=torch.float32)\n",
    "preds = torch.argmax(softmax(trainer.model(X), dim=1), dim=1)"
   ]
  },
  {
   "cell_type": "code",
   "execution_count": 85,
   "id": "5a32a697",
   "metadata": {},
   "outputs": [
    {
     "data": {
      "text/plain": [
       "{'organization': 0, 'project': 1, 'other': 2}"
      ]
     },
     "execution_count": 85,
     "metadata": {},
     "output_type": "execute_result"
    }
   ],
   "source": [
    "LABEL_MAP"
   ]
  },
  {
   "cell_type": "code",
   "execution_count": 86,
   "id": "aa1ed14f",
   "metadata": {},
   "outputs": [],
   "source": [
    "orgs = torch.where(preds == LABEL_MAP['project'])"
   ]
  },
  {
   "cell_type": "code",
   "execution_count": 87,
   "id": "6fba83c1",
   "metadata": {},
   "outputs": [],
   "source": [
    "orgs_ids = embedded_sample.iloc[orgs].index"
   ]
  },
  {
   "cell_type": "code",
   "execution_count": 88,
   "id": "ae46ce7a",
   "metadata": {},
   "outputs": [],
   "source": [
    "identified_orgs = data[data._id.isin(orgs_ids)]"
   ]
  },
  {
   "cell_type": "code",
   "execution_count": 89,
   "id": "1d125590",
   "metadata": {},
   "outputs": [],
   "source": [
    "pd.set_option('display.max_colwidth', None)"
   ]
  },
  {
   "cell_type": "code",
   "execution_count": 90,
   "id": "d3afbdf0",
   "metadata": {},
   "outputs": [
    {
     "data": {
      "text/plain": [
       "39             What should my research lab focus on in the first week of 2023?\n",
       "55         The Rational Utilitarian Love Movement (A Historical Retrospective)\n",
       "58        A new place to discuss cognitive science, ethics and human alignment\n",
       "110                                  Fund biosecurity officers at universities\n",
       "112      Announcing vodle, a web app for consensus-aiming collective decisions\n",
       "                                         ...                                  \n",
       "10560                        How best to aggregate judgements about donations?\n",
       "10650                                       $5 billion in moral trade surplus?\n",
       "10663                                             TLYCS Pamphleting Pilot Plan\n",
       "10711                                                 Gratipay for Funding EAs\n",
       "10739                                           Anti Publication Bias Registry\n",
       "Name: title, Length: 322, dtype: object"
      ]
     },
     "execution_count": 90,
     "metadata": {},
     "output_type": "execute_result"
    }
   ],
   "source": [
    "identified_orgs[\"title\"]"
   ]
  },
  {
   "cell_type": "code",
   "execution_count": 91,
   "id": "70032419",
   "metadata": {},
   "outputs": [
    {
     "data": {
      "text/plain": [
       "322"
      ]
     },
     "execution_count": 91,
     "metadata": {},
     "output_type": "execute_result"
    }
   ],
   "source": [
    "len(identified_orgs)"
   ]
  },
  {
   "cell_type": "code",
   "execution_count": 92,
   "id": "22d9a9de",
   "metadata": {},
   "outputs": [],
   "source": [
    "identified_orgs.to_csv(\"identified_projects.csv\")"
   ]
  },
  {
   "cell_type": "code",
   "execution_count": 25,
   "id": "df9953d5",
   "metadata": {},
   "outputs": [],
   "source": [
    "pd.set_option(\"display.max_colwidth\", None)\n",
    "df = pd.read_csv(\"identified_projects.csv\")"
   ]
  },
  {
   "cell_type": "code",
   "execution_count": 44,
   "id": "0fecda64",
   "metadata": {},
   "outputs": [
    {
     "data": {
      "text/html": [
       "<div>\n",
       "<style scoped>\n",
       "    .dataframe tbody tr th:only-of-type {\n",
       "        vertical-align: middle;\n",
       "    }\n",
       "\n",
       "    .dataframe tbody tr th {\n",
       "        vertical-align: top;\n",
       "    }\n",
       "\n",
       "    .dataframe thead th {\n",
       "        text-align: right;\n",
       "    }\n",
       "</style>\n",
       "<table border=\"1\" class=\"dataframe\">\n",
       "  <thead>\n",
       "    <tr style=\"text-align: right;\">\n",
       "      <th></th>\n",
       "      <th>_id</th>\n",
       "      <th>title</th>\n",
       "    </tr>\n",
       "  </thead>\n",
       "  <tbody>\n",
       "    <tr>\n",
       "      <th>2</th>\n",
       "      <td>2bfYxTt2FsGXnwDyt</td>\n",
       "      <td>A new place to discuss cognitive science, ethics and human alignment</td>\n",
       "    </tr>\n",
       "  </tbody>\n",
       "</table>\n",
       "</div>"
      ],
      "text/plain": [
       "                 _id  \\\n",
       "2  2bfYxTt2FsGXnwDyt   \n",
       "\n",
       "                                                                  title  \n",
       "2  A new place to discuss cognitive science, ethics and human alignment  "
      ]
     },
     "execution_count": 44,
     "metadata": {},
     "output_type": "execute_result"
    }
   ],
   "source": [
    "df[df[\"title\"].str.contains(\"A new place to discuss\")][[\"_id\", \"title\"]]"
   ]
  },
  {
   "cell_type": "code",
   "execution_count": 39,
   "id": "3cb43d3e",
   "metadata": {},
   "outputs": [
    {
     "data": {
      "text/plain": [
       "'\\nprojects:\\nnj9FLkifyb3s6Eijx -  Announcing Squigglepy, a Python package for Squiggle\\ntfjLzxMZYhLD9Qx2M -  Announcing vodle, a web app for consensus-aiming collective decisions\\nqPEmQtgnbNgmLTmi4 -  Biosecurity Dual Use Screening - Project Proposal\\ns3iQKqoYyXNiRDWKj -  Ballot transparency project\\ncMvxw4ehHJy2vYJDA -  Student project for engaging with AI alignment\\ncndhBdHZAGopypbso -  Wicked Problems, Understood Together\\npW7w5mcbKaWGi9vez -  Victim Coordination Website\\ncjHGS3jYiezLcz6dh -  Accessible EA Projects\\nHGjMPBpAEwEZJswXK -  A list of technical EA projects\\n'"
      ]
     },
     "execution_count": 39,
     "metadata": {},
     "output_type": "execute_result"
    }
   ],
   "source": [
    "\"\"\"\n",
    "projects:\n",
    "nj9FLkifyb3s6Eijx -  Announcing Squigglepy, a Python package for Squiggle\n",
    "tfjLzxMZYhLD9Qx2M -  Announcing vodle, a web app for consensus-aiming collective decisions\n",
    "qPEmQtgnbNgmLTmi4 -  Biosecurity Dual Use Screening - Project Proposal\n",
    "s3iQKqoYyXNiRDWKj -  Ballot transparency project\n",
    "cMvxw4ehHJy2vYJDA -  Student project for engaging with AI alignment\n",
    "cndhBdHZAGopypbso -  Wicked Problems, Understood Together\n",
    "pW7w5mcbKaWGi9vez -  Victim Coordination Website\n",
    "cjHGS3jYiezLcz6dh -  Accessible EA Projects\n",
    "HGjMPBpAEwEZJswXK -  A list of technical EA projects\n",
    "\"\"\""
   ]
  },
  {
   "cell_type": "code",
   "execution_count": 45,
   "id": "2d5fd58d",
   "metadata": {},
   "outputs": [
    {
     "data": {
      "text/plain": [
       "'\\norgs:\\nkffXpdBgevBzK3cKB - Unjournal: Call for participants and research\\n\\nei3JSiYqF44Lazsbj - [Opportunity] Synthetic Biology Forecasters\\nme6xDoDzruPPuemQr - Centre for Exploratory Altruism Research (CEARCH)\\n2bfYxTt2FsGXnwDyt - A new place to discuss cognitive science, ethics and human alignment\\n'"
      ]
     },
     "execution_count": 45,
     "metadata": {},
     "output_type": "execute_result"
    }
   ],
   "source": [
    "\"\"\"\n",
    "orgs:\n",
    "kffXpdBgevBzK3cKB - Unjournal: Call for participants and research\\n\n",
    "ei3JSiYqF44Lazsbj - [Opportunity] Synthetic Biology Forecasters\n",
    "me6xDoDzruPPuemQr - Centre for Exploratory Altruism Research (CEARCH)\n",
    "2bfYxTt2FsGXnwDyt - A new place to discuss cognitive science, ethics and human alignment\n",
    "\"\"\""
   ]
  },
  {
   "cell_type": "code",
   "execution_count": null,
   "id": "724984de",
   "metadata": {},
   "outputs": [],
   "source": [
    "# identified_orgs['tags']"
   ]
  },
  {
   "cell_type": "code",
   "execution_count": 82,
   "id": "6f3d85d7",
   "metadata": {},
   "outputs": [],
   "source": [
    "# print(identified_orgs.iloc[0]['body'])"
   ]
  }
 ],
 "metadata": {
  "kernelspec": {
   "display_name": "Python 3 (ipykernel)",
   "language": "python",
   "name": "python3"
  },
  "language_info": {
   "codemirror_mode": {
    "name": "ipython",
    "version": 3
   },
   "file_extension": ".py",
   "mimetype": "text/x-python",
   "name": "python",
   "nbconvert_exporter": "python",
   "pygments_lexer": "ipython3",
   "version": "3.8.10"
  }
 },
 "nbformat": 4,
 "nbformat_minor": 5
}
