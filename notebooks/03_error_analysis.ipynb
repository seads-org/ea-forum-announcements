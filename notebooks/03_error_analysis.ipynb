{
 "cells": [
  {
   "cell_type": "code",
   "execution_count": null,
   "id": "282aa7a4",
   "metadata": {},
   "outputs": [],
   "source": [
    "%load_ext autoreload\n",
    "%autoreload 2"
   ]
  },
  {
   "cell_type": "code",
   "execution_count": null,
   "id": "0b19ab93",
   "metadata": {},
   "outputs": [],
   "source": [
    "import project_path"
   ]
  },
  {
   "cell_type": "code",
   "execution_count": null,
   "id": "61e03f5a",
   "metadata": {},
   "outputs": [],
   "source": [
    "import random\n",
    "\n",
    "import numpy as np\n",
    "import optuna\n",
    "import pandas as pd\n",
    "import torch\n",
    "from torch import nn\n",
    "from torch.utils.data import DataLoader, Subset\n",
    "from sklearn.metrics import confusion_matrix\n",
    "import matplotlib.pyplot as plt\n",
    "from tqdm.auto import tqdm\n",
    "\n",
    "from src.classifier import PostClassifier\n",
    "from src.data_utils import load_data\n",
    "from src.paths import datap, modelp, outputp\n",
    "from src.training import Trainer\n",
    "from src.embed_posts import get_paragraph_split\n",
    "\n",
    "# Reproducibility\n",
    "seed = 42\n",
    "torch.manual_seed(seed)\n",
    "random.seed(seed)\n",
    "np.random.seed(seed)"
   ]
  },
  {
   "cell_type": "code",
   "execution_count": null,
   "id": "d79b4488",
   "metadata": {},
   "outputs": [],
   "source": [
    "train_indices = np.loadtxt(datap(\"train_indices.csv\"), dtype=np.int32)\n",
    "test_indices = np.loadtxt(datap(\"test_indices.csv\"), dtype=np.int32)"
   ]
  },
  {
   "cell_type": "code",
   "execution_count": null,
   "id": "bcf19fdc",
   "metadata": {},
   "outputs": [],
   "source": [
    "model_name = \"eaembd_post_classifier:2023-04-04\" # \"baseline\"\n",
    "filename = \"labeled_posts.csv\""
   ]
  },
  {
   "cell_type": "code",
   "execution_count": null,
   "id": "ac95acd4",
   "metadata": {},
   "outputs": [],
   "source": [
    "if model_name == \"baseline\":\n",
    "    data = pd.read_csv(datap(filename))\n",
    "    tqdm.pandas()\n",
    "    paragraph_split = get_paragraph_split(data)\n",
    "\n",
    "    first_paragraphs = paragraph_split.drop_duplicates(subset=\"postId\", keep=\"first\")\n",
    "    first_paragraphs\n",
    "\n",
    "    def classifier(text):\n",
    "        if \"organisation\" in text or \"organization\" in text:\n",
    "            return label_map[\"organization\"]\n",
    "        elif \"project\" in text:\n",
    "            return label_map[\"project\"]\n",
    "        else:\n",
    "            return label_map[\"other\"]\n",
    "\n",
    "    first_paragraphs[\"prediction\"] = first_paragraphs.text.apply(classifier)\n",
    "    first_paragraphs = first_paragraphs.reset_index(drop=True)\n",
    "    test_labels = first_paragraphs.loc[test_indices][\"label\"]\n",
    "    test_preds = first_paragraphs.loc[test_indices][\"prediction\"]"
   ]
  },
  {
   "cell_type": "code",
   "execution_count": null,
   "id": "730411b3",
   "metadata": {},
   "outputs": [],
   "source": [
    "if model_name != \"baseline\":\n",
    "    db_path = outputp(\"db.sqlite3\")\n",
    "    loaded_study = optuna.load_study(study_name=model_name,\n",
    "                                     storage=f\"sqlite:///{db_path}\")\n",
    "\n",
    "    dataset_size = len(pd.read_csv(datap(filename)))\n",
    "    trainer = Trainer(epochs=9)\n",
    "\n",
    "    lr, batch_size = loaded_study.best_trial.params[\"lr\"], loaded_study.best_trial.params[\"batch_size\"]\n",
    "    dataset = load_data()\n",
    "\n",
    "    train_loader = DataLoader(Subset(dataset,train_indices), batch_size=batch_size)\n",
    "    test_loader = DataLoader(Subset(dataset, test_indices), batch_size=batch_size)\n",
    "    train_metrics, test_metrics = trainer.train(lr, train_loader, test_loader, logging=True)\n",
    "\n",
    "    test_embeddings, test_labels, test_ids = dataset[test_indices]\n",
    "\n",
    "    test_preds = trainer.model(test_embeddings)\n",
    "    test_preds = torch.argmax(torch.nn.functional.softmax(test_preds, dim=1), dim=1)"
   ]
  },
  {
   "cell_type": "code",
   "execution_count": null,
   "id": "f70d4a35",
   "metadata": {},
   "outputs": [],
   "source": [
    "conf_mat = confusion_matrix(test_labels, test_preds)"
   ]
  },
  {
   "cell_type": "code",
   "execution_count": null,
   "id": "b62966c3",
   "metadata": {},
   "outputs": [],
   "source": [
    "conf_mat.sum()"
   ]
  },
  {
   "cell_type": "code",
   "execution_count": null,
   "id": "584aa52b",
   "metadata": {},
   "outputs": [],
   "source": [
    "classes = [\"organization\", \"project\", \"other\"]\n",
    "\n",
    "fig, ax = plt.subplots()\n",
    "im = ax.imshow(conf_mat)\n",
    "\n",
    "ax.set_xticks(np.arange(len(classes)), labels=classes)\n",
    "ax.set_yticks(np.arange(len(classes)), labels=classes)\n",
    "ax.set_xlabel(\"Predicted\")\n",
    "ax.set_ylabel(\"Actual\")\n",
    "\n",
    "# Rotate the tick labels and set their alignment.\n",
    "plt.setp(ax.get_xticklabels(), rotation=45, ha=\"right\", rotation_mode=\"anchor\")\n",
    "\n",
    "# Loop over data dimensions and create text annotations.\n",
    "for i in range(len(classes)):\n",
    "    for j in range(len(classes)):\n",
    "        text = ax.text(j, i, conf_mat[i, j],\n",
    "                       ha=\"center\", va=\"center\", color=\"w\")"
   ]
  },
  {
   "cell_type": "code",
   "execution_count": null,
   "id": "ae6c3a66",
   "metadata": {},
   "outputs": [],
   "source": [
    "FP = conf_mat.sum(axis=0) - np.diag(conf_mat)  \n",
    "FN = conf_mat.sum(axis=1) - np.diag(conf_mat)\n",
    "TP = np.diag(conf_mat)\n",
    "TN = conf_mat.sum() - (FP + FN + TP)\n",
    "\n",
    "# Sensitivity, hit rate, recall, or true positive rate\n",
    "TPR = TP / (TP+FN)\n",
    "# Fall out or false positive rate\n",
    "FPR = FP / (FP+TN)\n",
    "TPR, FPR"
   ]
  },
  {
   "cell_type": "code",
   "execution_count": null,
   "id": "d88b80e7",
   "metadata": {},
   "outputs": [],
   "source": [
    "np.mean(TPR), np.mean(FPR)"
   ]
  },
  {
   "cell_type": "code",
   "execution_count": null,
   "id": "1652d5c3",
   "metadata": {},
   "outputs": [],
   "source": [
    "### Find organizations that were classified as others"
   ]
  },
  {
   "cell_type": "code",
   "execution_count": null,
   "id": "b1b87560",
   "metadata": {},
   "outputs": [],
   "source": [
    "label_map = {\"organization\": 0, \"project\": 1, \"other\": 2}\n",
    "class_map = {id_: class_ for class_, id_ in label_map.items()}"
   ]
  },
  {
   "cell_type": "code",
   "execution_count": null,
   "id": "7f6f8dd4",
   "metadata": {},
   "outputs": [],
   "source": [
    "results = pd.DataFrame({\"labels\": test_labels, \n",
    "                        \"preds\": test_preds, \n",
    "                        \"ids\": test_ids})\n",
    "results[\"pred_class\"] = results.preds.map(class_map)\n",
    "results[\"true_class\"] = results.labels.map(class_map)"
   ]
  },
  {
   "cell_type": "code",
   "execution_count": null,
   "id": "5122ac45",
   "metadata": {},
   "outputs": [],
   "source": [
    "dataset = pd.read_csv(datap(\"labeled_posts.csv\"))"
   ]
  },
  {
   "cell_type": "code",
   "execution_count": null,
   "id": "59f5f8cc",
   "metadata": {},
   "outputs": [],
   "source": [
    "dataset.head()"
   ]
  },
  {
   "cell_type": "code",
   "execution_count": null,
   "id": "4f2c69dd",
   "metadata": {},
   "outputs": [],
   "source": [
    "print(dataset[dataset._id.str.startswith(\"QpG\")][\"body\"].values[0])"
   ]
  },
  {
   "cell_type": "markdown",
   "id": "4b8cd8b1",
   "metadata": {},
   "source": [
    "### Organizations that were classified as projects\n",
    "All of them had a word \"organization\" in the first paragraph come on"
   ]
  },
  {
   "cell_type": "markdown",
   "id": "235652ca",
   "metadata": {},
   "source": [
    "### Organizations that were classified as other\n",
    "one fixed to other, the rest are really orgs"
   ]
  },
  {
   "cell_type": "markdown",
   "id": "560980ff",
   "metadata": {},
   "source": [
    "### Projects that were classified as other - what is actually a project?\n",
    "relabeled some to other, the rest are actual projects"
   ]
  },
  {
   "cell_type": "code",
   "execution_count": null,
   "id": "0e8a1d2e",
   "metadata": {},
   "outputs": [],
   "source": [
    "proj2other = results[(results.pred_class == \"other\") & (results.true_class == \"project\")]\n",
    "proj2other"
   ]
  },
  {
   "cell_type": "code",
   "execution_count": null,
   "id": "92da30fb",
   "metadata": {
    "scrolled": false
   },
   "outputs": [],
   "source": [
    "for idx in range(len(proj2other)):\n",
    "    print(idx)\n",
    "    print(dataset[dataset._id.isin(proj2other.ids)].iloc[idx][\"_id\"])\n",
    "    print(dataset[dataset._id.isin(proj2other.ids)][\"body\"].values[idx])\n",
    "    print(\"\\n\\n\\n\")\n",
    "    print(\"=================================================================\")"
   ]
  },
  {
   "cell_type": "markdown",
   "id": "f3060b1f",
   "metadata": {},
   "source": [
    "### Projects that were classified as organizations and may be they truly are?"
   ]
  },
  {
   "cell_type": "code",
   "execution_count": null,
   "id": "95c152f3",
   "metadata": {},
   "outputs": [],
   "source": [
    "proj2org = results[(results.pred_class == \"organization\") & (results.true_class == \"project\")]"
   ]
  },
  {
   "cell_type": "code",
   "execution_count": null,
   "id": "35d92a13",
   "metadata": {
    "scrolled": false
   },
   "outputs": [],
   "source": [
    "idx = 0\n",
    "print(dataset[dataset._id.isin(proj2org.ids)].iloc[idx][\"_id\"])\n",
    "print(dataset[dataset._id.isin(proj2org.ids)][\"body\"].values[idx])\n",
    "# print(\"\\nJusty comments:\\nThis seems like an organization\")"
   ]
  },
  {
   "cell_type": "code",
   "execution_count": null,
   "id": "e7e897e8",
   "metadata": {},
   "outputs": [],
   "source": [
    "idx = 1\n",
    "print(dataset[dataset._id.isin(proj2org.ids)].iloc[idx][\"_id\"])\n",
    "print(dataset[dataset._id.isin(proj2org.ids)][\"body\"].values[idx])\n",
    "print(\"\\nJusty comments:\\nThis seems like an organization\")"
   ]
  },
  {
   "cell_type": "code",
   "execution_count": null,
   "id": "19495b0b",
   "metadata": {
    "scrolled": false
   },
   "outputs": [],
   "source": [
    "idx = 2\n",
    "print(dataset[dataset._id.isin(proj2org.ids)].iloc[idx][\"_id\"])\n",
    "print(dataset[dataset._id.isin(proj2org.ids)][\"body\"].values[idx])\n",
    "print(\"\\nJusty comments:\\nThis seems like an organization too, except they call it a project\")"
   ]
  }
 ],
 "metadata": {
  "kernelspec": {
   "display_name": "Python 3 (ipykernel)",
   "language": "python",
   "name": "python3"
  },
  "language_info": {
   "codemirror_mode": {
    "name": "ipython",
    "version": 3
   },
   "file_extension": ".py",
   "mimetype": "text/x-python",
   "name": "python",
   "nbconvert_exporter": "python",
   "pygments_lexer": "ipython3",
   "version": "3.8.10"
  }
 },
 "nbformat": 4,
 "nbformat_minor": 5
}
