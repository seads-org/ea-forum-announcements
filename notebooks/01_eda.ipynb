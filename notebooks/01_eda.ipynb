{
 "cells": [
  {
   "cell_type": "code",
   "execution_count": 1,
   "id": "6c9edea1",
   "metadata": {},
   "outputs": [],
   "source": [
    "from datasets import load_from_disk"
   ]
  },
  {
   "cell_type": "code",
   "execution_count": 2,
   "id": "4e4f674c",
   "metadata": {},
   "outputs": [],
   "source": [
    "path = \"/home/justy/workspace/ea/ea-forum-announcements/data/posts\"\n",
    "dataset = load_from_disk(path)"
   ]
  },
  {
   "cell_type": "code",
   "execution_count": 3,
   "id": "c7a2a0d7",
   "metadata": {},
   "outputs": [
    {
     "data": {
      "text/plain": [
       "Dataset({\n",
       "    features: ['title', 'htmlBody', 'pageUrl', 'postedAt', 'baseScore', 'voteCount', 'commentCount', 'meta', 'question', 'url', 'tags', 'user', 'coauthors', 'body', 'userId', '_id'],\n",
       "    num_rows: 11006\n",
       "})"
      ]
     },
     "execution_count": 3,
     "metadata": {},
     "output_type": "execute_result"
    }
   ],
   "source": [
    "dataset"
   ]
  },
  {
   "cell_type": "code",
   "execution_count": 4,
   "id": "78f42645",
   "metadata": {},
   "outputs": [
    {
     "data": {
      "text/plain": [
       "['[Links post] Economists Chris Blattman and Noah Smith on China, Taiwan, and the likelihood of war',\n",
       " '4 Key Assumptions in AI Safety',\n",
       " 'The Welfare Range Table',\n",
       " 'Any EAs on Mastodon?',\n",
       " 'Opportunities that surprised us during our Clearer Thinking Regrants program',\n",
       " 'The Powerball Lottery Is Now Positive Expected Value for Many Charitable Americans',\n",
       " 'Historical experience and links to subjective happiness',\n",
       " 'Why does Elon Musk suck so much at calibration?',\n",
       " 'Apply to attend an AI safety workshop in Berkeley (Nov 18-21)',\n",
       " 'My (naive) take on Risks from Learned Optimization']"
      ]
     },
     "execution_count": 4,
     "metadata": {},
     "output_type": "execute_result"
    }
   ],
   "source": [
    "dataset['title'][:10]"
   ]
  },
  {
   "cell_type": "code",
   "execution_count": 7,
   "id": "d55ada9c",
   "metadata": {},
   "outputs": [
    {
     "name": "stderr",
     "output_type": "stream",
     "text": [
      "Loading cached processed dataset at /home/justy/workspace/ea/ea-forum-announcements/data/posts/cache-d96b7df6002aa1c2.arrow\n"
     ]
    }
   ],
   "source": [
    "announcing_docs = dataset.filter(lambda doc: doc['title'].lower().startswith(\"announc\"))"
   ]
  },
  {
   "cell_type": "code",
   "execution_count": 8,
   "id": "6a2eaacf",
   "metadata": {},
   "outputs": [
    {
     "name": "stderr",
     "output_type": "stream",
     "text": [
      "Loading cached processed dataset at /home/justy/workspace/ea/ea-forum-announcements/data/posts/cache-7f8c4e452a427da2.arrow\n"
     ]
    }
   ],
   "source": [
    "intro_docs = dataset.filter(lambda doc: doc['title'].lower().startswith(\"introduc\"))"
   ]
  },
  {
   "cell_type": "code",
   "execution_count": 9,
   "id": "6dc19570",
   "metadata": {},
   "outputs": [
    {
     "data": {
      "text/plain": [
       "133"
      ]
     },
     "execution_count": 9,
     "metadata": {},
     "output_type": "execute_result"
    }
   ],
   "source": [
    "len(announcing_docs)"
   ]
  },
  {
   "cell_type": "code",
   "execution_count": 10,
   "id": "e87e94f8",
   "metadata": {},
   "outputs": [
    {
     "data": {
      "text/plain": [
       "89"
      ]
     },
     "execution_count": 10,
     "metadata": {},
     "output_type": "execute_result"
    }
   ],
   "source": [
    "len(intro_docs)"
   ]
  },
  {
   "cell_type": "code",
   "execution_count": 29,
   "id": "40a608d2",
   "metadata": {},
   "outputs": [
    {
     "name": "stderr",
     "output_type": "stream",
     "text": [
      "Loading cached processed dataset at /home/justy/workspace/ea/ea-forum-announcements/data/posts/cache-10e5e29a42c9b9a1.arrow\n"
     ]
    },
    {
     "data": {
      "text/plain": [
       "[['Existential risk',\n",
       "  'Global catastrophic risk',\n",
       "  'Founders Pledge',\n",
       "  'Effective altruism funding',\n",
       "  'Organization updates']]"
      ]
     },
     "execution_count": 29,
     "metadata": {},
     "output_type": "execute_result"
    }
   ],
   "source": [
    "announcing_docs.filter(lambda doc: doc[\"_id\"] == \"ZJpPvxXdimPgxFp2j\")[\"tags\"]"
   ]
  },
  {
   "cell_type": "code",
   "execution_count": 30,
   "id": "12745131",
   "metadata": {},
   "outputs": [
    {
     "data": {
      "application/vnd.jupyter.widget-view+json": {
       "model_id": "1811244b7fc3495f95406cc2ef66cd3c",
       "version_major": 2,
       "version_minor": 0
      },
      "text/plain": [
       "  0%|          | 0/1 [00:00<?, ?ba/s]"
      ]
     },
     "metadata": {},
     "output_type": "display_data"
    },
    {
     "data": {
      "text/plain": [
       "Dataset({\n",
       "    features: ['title', 'htmlBody', 'pageUrl', 'postedAt', 'baseScore', 'voteCount', 'commentCount', 'meta', 'question', 'url', 'tags', 'user', 'coauthors', 'body', 'userId', '_id'],\n",
       "    num_rows: 67\n",
       "})"
      ]
     },
     "execution_count": 30,
     "metadata": {},
     "output_type": "execute_result"
    }
   ],
   "source": [
    "orgs = announcing_docs.filter(lambda doc: \"organization\" in doc[\"body\"].lower() or \"Organization updates\" in doc[\"tags\"])\n",
    "orgs"
   ]
  },
  {
   "cell_type": "code",
   "execution_count": 32,
   "id": "e13f33da",
   "metadata": {
    "scrolled": false
   },
   "outputs": [
    {
     "name": "stdout",
     "output_type": "stream",
     "text": [
      "2 SqCDoL9cHa7bnEWyb https://forum.effectivealtruism.org/posts/SqCDoL9cHa7bnEWyb/announcing-ea-survey-2022\n",
      "3 ZJpPvxXdimPgxFp2j https://forum.effectivealtruism.org/posts/ZJpPvxXdimPgxFp2j/announcing-the-founders-pledge-global-catastrophic-risks-1\n",
      "4 z3J439wF8Xk8qSZku https://forum.effectivealtruism.org/posts/z3J439wF8Xk8qSZku/announcing-vivid-a-new-ea-organization-aspiring-to-scale-1\n",
      "5 6i5qyvCbrMsBLj3Z4 https://forum.effectivealtruism.org/posts/6i5qyvCbrMsBLj3Z4/announcing-charity-entrepreneurship-s-2023-ideas-apply-now\n",
      "6 W7C5hwq7sjdpTdrQF https://forum.effectivealtruism.org/posts/W7C5hwq7sjdpTdrQF/announcing-the-future-fund-s-ai-worldview-prize\n",
      "7 AFgvA9imsT6bww8E3 https://forum.effectivealtruism.org/posts/AFgvA9imsT6bww8E3/announcing-the-rethink-priorities-special-projects-program\n",
      "8 2jWLvBH8abzscDbPs https://forum.effectivealtruism.org/posts/2jWLvBH8abzscDbPs/announcing-effective-dropouts\n",
      "9 tWawcXaNnLAihA2Fv https://forum.effectivealtruism.org/posts/tWawcXaNnLAihA2Fv/announcing-ea-pulse-large-monthly-us-surveys-on-ea\n",
      "10 x5czbdCW6SqnLJhbD https://forum.effectivealtruism.org/posts/x5czbdCW6SqnLJhbD/announcing-the-space-futures-initiative\n",
      "11 6aaQuenrF9BYvsZwv https://forum.effectivealtruism.org/posts/6aaQuenrF9BYvsZwv/announcing-a-philosophy-fellowship-for-ai-safety\n",
      "12 vkQcq9fmQptXwFNuQ https://forum.effectivealtruism.org/posts/vkQcq9fmQptXwFNuQ/announcing-the-winners-of-lpp-s-writing-competition\n",
      "13 SbMfbYnMyFYX6acZ2 https://forum.effectivealtruism.org/posts/SbMfbYnMyFYX6acZ2/announcing-encultured-ai-building-a-video-game\n",
      "14 f7qAfcKArzYrBG7RB https://forum.effectivealtruism.org/posts/f7qAfcKArzYrBG7RB/announcing-the-longtermism-fund\n",
      "15 TfPdb2aMKzgWXFvc3 https://forum.effectivealtruism.org/posts/TfPdb2aMKzgWXFvc3/announcing-squiggle-early-access\n",
      "16 jatnoouJuCpcKpnoh https://forum.effectivealtruism.org/posts/jatnoouJuCpcKpnoh/announcing-the-govai-policy-team\n",
      "17 ZxHnaPmxmBrZmerBj https://forum.effectivealtruism.org/posts/ZxHnaPmxmBrZmerBj/announcing-the-prague-fall-season\n",
      "18 ozm4SpiChfAAAGnw5 https://forum.effectivealtruism.org/posts/ozm4SpiChfAAAGnw5/announcing-the-ai-safety-field-building-hub-a-new-effort-to\n",
      "19 ZBuNBAjwLFhfpGgzj https://forum.effectivealtruism.org/posts/ZBuNBAjwLFhfpGgzj/announcing-non-trivial-an-ea-learning-platform-for-teenagers\n",
      "20 5HEFJKHGpcT49RK6y https://forum.effectivealtruism.org/posts/5HEFJKHGpcT49RK6y/announcing-the-center-for-space-governance\n",
      "21 szeE3je8MD4sZcevL https://forum.effectivealtruism.org/posts/szeE3je8MD4sZcevL/announcing-future-forum-apply-now\n",
      "22 MEfEsQ9yeB7fhMJTq https://forum.effectivealtruism.org/posts/MEfEsQ9yeB7fhMJTq/announcing-ea-engineers\n",
      "23 zqRDNChFburJMmpqK https://forum.effectivealtruism.org/posts/zqRDNChFburJMmpqK/announcing-epoch-a-research-organization-investigating-the\n",
      "24 7e3ebTuhxc682qs29 https://forum.effectivealtruism.org/posts/7e3ebTuhxc682qs29/announcing-giveffektivt-dk\n",
      "25 TzzuFGEhvoMiWNjjJ https://forum.effectivealtruism.org/posts/TzzuFGEhvoMiWNjjJ/announcing-the-clearer-thinking-regrants-program\n",
      "26 kKTxeJq8feNbvTthP https://forum.effectivealtruism.org/posts/kKTxeJq8feNbvTthP/announcing-the-new-york-effective-altruism-hub-a-coworking\n",
      "27 GAfzt6BPoNuYxKDTM https://forum.effectivealtruism.org/posts/GAfzt6BPoNuYxKDTM/announcing-the-launch-of-open-phil-s-new-website\n",
      "28 8hvmvrgcxJJ2pYR4X https://forum.effectivealtruism.org/posts/8hvmvrgcxJJ2pYR4X/announcing-a-contest-ea-criticism-and-red-teaming\n",
      "29 bcayMcWwxKBaXgdHq https://forum.effectivealtruism.org/posts/bcayMcWwxKBaXgdHq/announcing-ce-career-coaching-for-impact-focused\n",
      "30 bmwwQoFznjRwswCbz https://forum.effectivealtruism.org/posts/bmwwQoFznjRwswCbz/announce-summer-ea-internships-farther-in-advance\n",
      "31 2mx6xrDrwiEKzfgks https://forum.effectivealtruism.org/posts/2mx6xrDrwiEKzfgks/announcing-the-future-fund-1\n",
      "32 67awq5ozeYSjsYchk https://forum.effectivealtruism.org/posts/67awq5ozeYSjsYchk/announcing-alvea-an-ea-covid-vaccine-project\n",
      "33 g3kJeiLdYZqMpLmAg https://forum.effectivealtruism.org/posts/g3kJeiLdYZqMpLmAg/announcing-the-reducetarian-fellowship\n",
      "34 2vxNfQjLxFvjL5Mkc https://forum.effectivealtruism.org/posts/2vxNfQjLxFvjL5Mkc/announcing-effectivecrypto-org-powered-by-ea-funds\n",
      "35 KtNvfogcxLNfc2dsD https://forum.effectivealtruism.org/posts/KtNvfogcxLNfc2dsD/announcing-our-2021-charity-recommendations\n",
      "36 TZEHxfH2Z3W9Cg9yL https://forum.effectivealtruism.org/posts/TZEHxfH2Z3W9Cg9yL/announcing-mind-ease-acquires-uplift-two-ea-mental-health\n",
      "37 o4trFCEfhg3PKvCA4 https://forum.effectivealtruism.org/posts/o4trFCEfhg3PKvCA4/announcing-riesgoscatastroficosglobales-com\n",
      "38 giKLP5snkAiKGut4t https://forum.effectivealtruism.org/posts/giKLP5snkAiKGut4t/announcing-the-launch-of-ea-impact-colabs-beta-request-for\n",
      "39 zeR2ukM7xm9Wp8zew https://forum.effectivealtruism.org/posts/zeR2ukM7xm9Wp8zew/announcing-our-2021-ace-movement-grants\n",
      "40 54R2Masg3C9g2GxHq https://forum.effectivealtruism.org/posts/54R2Masg3C9g2GxHq/announcing-naming-what-we-can-1\n",
      "41 RqXrdKwRHyQkYTE4e https://forum.effectivealtruism.org/posts/RqXrdKwRHyQkYTE4e/announcement-applications-for-the-2021-charity\n",
      "42 wpQ2qhF8Z6oonsaPX https://forum.effectivealtruism.org/posts/wpQ2qhF8Z6oonsaPX/announcing-ai-safety-support\n",
      "43 QJWBAKsnFWerZ5ybE https://forum.effectivealtruism.org/posts/QJWBAKsnFWerZ5ybE/announcing-the-first-international-effective-giving-day\n",
      "44 MDuYB8wRcAMNpt7QL https://forum.effectivealtruism.org/posts/MDuYB8wRcAMNpt7QL/announcing-our-fall-2020-ace-movement-grants\n",
      "45 ePDKZMpoGdx7J3PBh https://forum.effectivealtruism.org/posts/ePDKZMpoGdx7J3PBh/announcing-our-summer-2020-ace-movement-grants\n",
      "46 nhPhhBwLob9rF2q9s https://forum.effectivealtruism.org/posts/nhPhhBwLob9rF2q9s/announcement-applications-for-the-2020-charity\n",
      "47 tZPhGayhTmdEiTrHy https://forum.effectivealtruism.org/posts/tZPhGayhTmdEiTrHy/announcement-early-applications-for-charity-entrepreneurship\n",
      "48 6jr6HZYd2ziLxFWfp https://forum.effectivealtruism.org/posts/6jr6HZYd2ziLxFWfp/announcing-our-2019-top-charities\n",
      "49 CSseqLfLyqbgk7eKk https://forum.effectivealtruism.org/posts/CSseqLfLyqbgk7eKk/announcing-our-2019-charity-recommendations\n",
      "50 ExkTWontwrYAPxGEs https://forum.effectivealtruism.org/posts/ExkTWontwrYAPxGEs/announcing-a-volunteer-research-team-at-ea-israel\n",
      "51 rKJFQebqxXh4Thf9F https://forum.effectivealtruism.org/posts/rKJFQebqxXh4Thf9F/announcing-the-launch-of-the-german-effective-altruism\n",
      "52 9sCvoRupwK9xdiSPw https://forum.effectivealtruism.org/posts/9sCvoRupwK9xdiSPw/announcing-plans-for-a-german-effective-altruism-network-1\n",
      "53 fqCP7cHwjcQCi42gh https://forum.effectivealtruism.org/posts/fqCP7cHwjcQCi42gh/announcing-the-launch-of-the-happier-lives-institute-1\n",
      "54 2Hrj3wDFbSMo4Z8uz https://forum.effectivealtruism.org/posts/2Hrj3wDFbSMo4Z8uz/announcing-a-call-for-grant-applicants-in-southeast-asia-and\n",
      "55 jzikTHMSpckYg9ZPp https://forum.effectivealtruism.org/posts/jzikTHMSpckYg9ZPp/announcing-wild-animal-initiative\n",
      "56 vxwcxwiDKCnyHJhbz https://forum.effectivealtruism.org/posts/vxwcxwiDKCnyHJhbz/announcing-the-new-forethought-foundation-for-global\n",
      "57 yYHKRgLk9ufjJZn23 https://forum.effectivealtruism.org/posts/yYHKRgLk9ufjJZn23/announcing-new-ea-funds-management-teams\n",
      "58 gFxgPhn3myvjo7NSo https://forum.effectivealtruism.org/posts/gFxgPhn3myvjo7NSo/announcing-prioritywiki-a-cause-prioritization-wiki\n",
      "59 zTmxvDQ46tDz4JYDL https://forum.effectivealtruism.org/posts/zTmxvDQ46tDz4JYDL/announcing-rethink-priorities\n",
      "60 6kFcr6L2jZhcsZnao https://forum.effectivealtruism.org/posts/6kFcr6L2jZhcsZnao/announcing-effective-altruism-community-building-grants\n",
      "61 3q3mPbrqZEWARjrgE https://forum.effectivealtruism.org/posts/3q3mPbrqZEWARjrgE/announcing-the-2017-donor-lottery\n",
      "62 wYaSxg4uGFLz4kJ6d https://forum.effectivealtruism.org/posts/wYaSxg4uGFLz4kJ6d/announcing-effective-altruism-grants\n",
      "63 ohrmN8Y6LKJii8qA7 https://forum.effectivealtruism.org/posts/ohrmN8Y6LKJii8qA7/announcing-the-good-technology-project\n",
      "64 hJNPrWiz8cEhGeJdB https://forum.effectivealtruism.org/posts/hJNPrWiz8cEhGeJdB/announcing-impactmatters-auditing-charity-impact-across\n",
      "65 j7uN8MHiqNt2gY8Sc https://forum.effectivealtruism.org/posts/j7uN8MHiqNt2gY8Sc/announcing-the-new-ea-wiki\n",
      "66 WwA9f3eCKm9yAHvKj https://forum.effectivealtruism.org/posts/WwA9f3eCKm9yAHvKj/announcing-the-effective-altruism-newsletter\n",
      "67 TFDTKfemMnGbKp3YG https://forum.effectivealtruism.org/posts/TFDTKfemMnGbKp3YG/announcing-effective-altruism-ventures\n",
      "68 ha3pnxoe3gt2H5kan https://forum.effectivealtruism.org/posts/ha3pnxoe3gt2H5kan/announcing-effectivealtruism-org\n"
     ]
    }
   ],
   "source": [
    "for i, doc in enumerate(orgs):\n",
    "    print(i+2, doc[\"_id\"], doc[\"pageUrl\"])"
   ]
  },
  {
   "cell_type": "code",
   "execution_count": 33,
   "id": "b737c0ce",
   "metadata": {},
   "outputs": [],
   "source": [
    "### Labeling notes: you need maybe the first two pargraphs to decide\n"
   ]
  },
  {
   "cell_type": "code",
   "execution_count": 34,
   "id": "2083fbc9",
   "metadata": {},
   "outputs": [
    {
     "name": "stdout",
     "output_type": "stream",
     "text": [
      "68 toDKgyu3HdzKyQHPb https://forum.effectivealtruism.org/events/toDKgyu3HdzKyQHPb/introduction-to-effective-altruism-houston-effective\n",
      "69 ipWNDXTdXgDfSw6fu https://forum.effectivealtruism.org/posts/ipWNDXTdXgDfSw6fu/introducing-generally-intelligent-an-ai-research-lab-focused\n",
      "70 DDsTgC59MER7cPiRh https://forum.effectivealtruism.org/posts/DDsTgC59MER7cPiRh/introducing-cause-innovation-bootcamp\n",
      "71 FxioucsYBENvp7KEH https://forum.effectivealtruism.org/posts/FxioucsYBENvp7KEH/introducing-the-basic-post-scarcity-map\n",
      "72 7xPfFQgL2gPPSygHd https://forum.effectivealtruism.org/posts/7xPfFQgL2gPPSygHd/introduction\n",
      "73 D5RdHgzeczrDKKywH https://forum.effectivealtruism.org/posts/D5RdHgzeczrDKKywH/introducing-school-of-thinking-1\n",
      "74 cpfgq84B8XHXPWLcM https://forum.effectivealtruism.org/posts/cpfgq84B8XHXPWLcM/introduction-to-fermi-estimates\n",
      "75 KrjyrsRky5JL4P5MF https://forum.effectivealtruism.org/posts/KrjyrsRky5JL4P5MF/introducing-the-existential-risks-introductory-course-eric-1\n",
      "76 JAyzCQbjbaa4FXhpR https://forum.effectivealtruism.org/posts/JAyzCQbjbaa4FXhpR/introduction-to-ea-or-ajeya-cotra-or-eagxberkeley-2016\n",
      "77 ZhNaizQgYY9dXdQkM https://forum.effectivealtruism.org/posts/ZhNaizQgYY9dXdQkM/introduction-to-effective-altruism-17\n",
      "78 gNHjEmLeKM47FDdqM https://forum.effectivealtruism.org/posts/gNHjEmLeKM47FDdqM/introducing-the-fund-for-alignment-research-we-re-hiring-1\n",
      "79 TT3gNbA534C7HNBCF https://forum.effectivealtruism.org/posts/TT3gNbA534C7HNBCF/introducing-the-ea-good-governance-project\n",
      "80 Ya8THw57ZPQTetv48 https://forum.effectivealtruism.org/posts/Ya8THw57ZPQTetv48/introducing-impactful-animal-advocacy-community-newsletter\n",
      "81 ZrN4MktmFnaBSqpEP https://forum.effectivealtruism.org/posts/ZrN4MktmFnaBSqpEP/introduction-to-non-ea-international-charity-orgs\n",
      "82 a4mFh3PySygwmWiAK https://forum.effectivealtruism.org/posts/a4mFh3PySygwmWiAK/introducing-spirit-hazards\n",
      "83 9gLtXR6KkZEYie8Au https://forum.effectivealtruism.org/posts/9gLtXR6KkZEYie8Au/introducing-eaecon-community-building-project\n",
      "84 Mts84Mv5cFHRYBBA8 https://forum.effectivealtruism.org/posts/Mts84Mv5cFHRYBBA8/introducing-asterisk\n",
      "85 MskKEsj8nWREoMjQK https://forum.effectivealtruism.org/posts/MskKEsj8nWREoMjQK/introduction-to-pragmatic-ai-safety-pragmatic-ai-safety-1\n",
      "86 9RYvJu2iNJMXgWCBn https://forum.effectivealtruism.org/posts/9RYvJu2iNJMXgWCBn/introducing-the-ml-safety-scholars-program\n",
      "87 jvs9HhcpW5pMdAXdB https://forum.effectivealtruism.org/posts/jvs9HhcpW5pMdAXdB/introducing-canopy-retreats\n",
      "88 YNP9MZj5qqr46zsj7 https://forum.effectivealtruism.org/posts/YNP9MZj5qqr46zsj7/introducing-ea-tech-network\n",
      "89 LtAxekypaye4bEphS https://forum.effectivealtruism.org/posts/LtAxekypaye4bEphS/introducing-a-new-ea-dating-app-updating\n",
      "90 W54QQSghCEioADCMt https://forum.effectivealtruism.org/posts/W54QQSghCEioADCMt/introducing-ea-nasir\n",
      "91 wHNt6XbbthLkKdLjN https://forum.effectivealtruism.org/posts/wHNt6XbbthLkKdLjN/introductory-video-on-safeguarding-the-long-term-future\n",
      "92 GCAbm8Mjg8jnK6gNb https://forum.effectivealtruism.org/posts/GCAbm8Mjg8jnK6gNb/introducing-80k-after-hours-2\n",
      "93 gqAzR4BjbrNjzgcDf https://forum.effectivealtruism.org/posts/gqAzR4BjbrNjzgcDf/introducing-animal-empathy-philippines\n",
      "94 i2Q3DTsQq9THhFEgR https://forum.effectivealtruism.org/posts/i2Q3DTsQq9THhFEgR/introducing-effective-self-help\n",
      "95 FJsk9i9c9zLC7eKLF https://forum.effectivealtruism.org/posts/FJsk9i9c9zLC7eKLF/introducing-a-new-course-on-the-economics-of-ai\n",
      "96 Ckont9EtqkenegLYv https://forum.effectivealtruism.org/posts/Ckont9EtqkenegLYv/introducing-the-principles-of-intelligent-behaviour-in\n",
      "97 QpGibphc3ECSwmZCC https://forum.effectivealtruism.org/posts/QpGibphc3ECSwmZCC/introducing-high-impact-medicine-hi-med\n",
      "98 z79ycP5jCDks4LPxA https://forum.effectivealtruism.org/posts/z79ycP5jCDks4LPxA/introducing-shrimp-welfare-project\n",
      "99 4QGhyXjXM4yJBvNap https://forum.effectivealtruism.org/posts/4QGhyXjXM4yJBvNap/introducing-healthier-hens\n",
      "100 M2KrWyG2X8iQaHGJv https://forum.effectivealtruism.org/posts/M2KrWyG2X8iQaHGJv/introducing-high-impact-professionals\n",
      "101 eKK2ryF9cDmvyAW33 https://forum.effectivealtruism.org/posts/eKK2ryF9cDmvyAW33/introducing-training-for-good-tfg\n",
      "102 kR8AiZwJ5SmiqysHA https://forum.effectivealtruism.org/posts/kR8AiZwJ5SmiqysHA/introducing-playpumps-productivity-system\n",
      "103 gkdwxkYt49z4ofyrF https://forum.effectivealtruism.org/posts/gkdwxkYt49z4ofyrF/introducing-ea-to-policymakers-researchers-at-the-ecb\n",
      "104 NnrHvJALEKH4Ykzyt https://forum.effectivealtruism.org/posts/NnrHvJALEKH4Ykzyt/introducing-teamwork-an-ea-coworking-space-in-berlin\n",
      "105 kK9WfSr52hwqhHXHp https://forum.effectivealtruism.org/posts/kK9WfSr52hwqhHXHp/introducing-the-existential-risk-observatory\n",
      "106 WXjtCF6yKWpBrmzt7 https://forum.effectivealtruism.org/posts/WXjtCF6yKWpBrmzt7/introducing-the-ea-public-interest-technologists-slack\n",
      "107 fDpvqSa6K3TjmxBr7 https://forum.effectivealtruism.org/posts/fDpvqSa6K3TjmxBr7/introducing-rational-animations\n",
      "108 fPser4Fppw2CEgent https://forum.effectivealtruism.org/posts/fPser4Fppw2CEgent/introducing-geeffektivt-se\n",
      "109 eKn7TDxMSSsoHhcap https://forum.effectivealtruism.org/posts/eKn7TDxMSSsoHhcap/introducing-the-simon-institute-for-longterm-governance-si\n",
      "110 5EqJozsDdHcF7dpPL https://forum.effectivealtruism.org/posts/5EqJozsDdHcF7dpPL/introduction-to-effective-altruism-ajeya-cotra\n",
      "111 fX8JsabQyRSd7zWiD https://forum.effectivealtruism.org/posts/fX8JsabQyRSd7zWiD/introducing-the-nonlinear-fund-ai-safety-research-incubation\n",
      "112 tEo5oXeSNcB3sYr8m https://forum.effectivealtruism.org/posts/tEo5oXeSNcB3sYr8m/introducing-metaforecast-a-forecast-aggregator-and-search\n",
      "113 ySwarSKFzxKLhCyo8 https://forum.effectivealtruism.org/posts/ySwarSKFzxKLhCyo8/introduction-to-longtermism\n",
      "114 cFfc2a7YWNYn33qr7 https://forum.effectivealtruism.org/posts/cFfc2a7YWNYn33qr7/introducing-a-project-on-accountability-in-governance-plus-a\n",
      "115 eMyDQZ53M9pTmJfMq https://forum.effectivealtruism.org/posts/eMyDQZ53M9pTmJfMq/introducing-family-empowerment-media\n",
      "116 acBujAbWrpCGaC75g https://forum.effectivealtruism.org/posts/acBujAbWrpCGaC75g/introducing-animal-advocacy-africa\n",
      "117 tZ9DkhNiDduSBqshZ https://forum.effectivealtruism.org/posts/tZ9DkhNiDduSBqshZ/introduction-to-the-philosophy-of-well-being\n",
      "118 Fm3HWDZKtwdkvBzGL https://forum.effectivealtruism.org/posts/Fm3HWDZKtwdkvBzGL/introducing-high-impact-athletes\n",
      "119 xnLwyRAAJjGRk6FSn https://forum.effectivealtruism.org/posts/xnLwyRAAJjGRk6FSn/introducing-ayuda-efectiva\n",
      "120 rq6rh7BfzGzKkb7MM https://forum.effectivealtruism.org/posts/rq6rh7BfzGzKkb7MM/introducing-animal-ask\n",
      "121 3QufK3jjQ5aqksaJu https://forum.effectivealtruism.org/posts/3QufK3jjQ5aqksaJu/introducing-probably-good-a-new-career-guidance-organization\n",
      "122 fd96FtLFACeAshqJP https://forum.effectivealtruism.org/posts/fd96FtLFACeAshqJP/introducing-leep-lead-exposure-elimination-project\n",
      "123 PvBLDPkqKvdHQkKPn https://forum.effectivealtruism.org/posts/PvBLDPkqKvdHQkKPn/introducing-the-legal-priorities-project\n",
      "124 ZHokSM6xL8pbrcYfQ https://forum.effectivealtruism.org/posts/ZHokSM6xL8pbrcYfQ/introducing-luke-freeman-as-head-of-giving-what-we-can\n",
      "125 sXbyKbm2kFSxH8ked https://forum.effectivealtruism.org/posts/sXbyKbm2kFSxH8ked/introduction-to-wild-animal-suffering-a-guide-to-the-issues\n",
      "126 oHQCPtyA5kSMu7o5p https://forum.effectivealtruism.org/posts/oHQCPtyA5kSMu7o5p/introducing-animal-advocacy-careers\n",
      "127 xAZ4pCFtYdkMi54JS https://forum.effectivealtruism.org/posts/xAZ4pCFtYdkMi54JS/introduction-a-primer-for-politics-policy-and-international\n",
      "128 HW2xZcPBmZ2upWjFt https://forum.effectivealtruism.org/posts/HW2xZcPBmZ2upWjFt/introducing-the-sentience-institute-podcast\n",
      "129 igjJ3LrgrfWNm5Zzq https://forum.effectivealtruism.org/posts/igjJ3LrgrfWNm5Zzq/introducing-good-policies-a-new-charity-promoting-behaviour\n",
      "130 5nCijr7A9MfZ48o6f https://forum.effectivealtruism.org/posts/5nCijr7A9MfZ48o6f/introducing-foretold-io-a-new-open-source-prediction\n",
      "131 iMofrSc86iSR7EiAG https://forum.effectivealtruism.org/posts/iMofrSc86iSR7EiAG/introducing-fish-welfare-initiative-1\n",
      "132 cpJRB7thJpESTquBK https://forum.effectivealtruism.org/posts/cpJRB7thJpESTquBK/introducing-gpi-s-new-research-agenda\n",
      "133 LLAffXYqtYdWJ4fwr https://forum.effectivealtruism.org/posts/LLAffXYqtYdWJ4fwr/introducing-the-life-you-can-save-mobile-app\n",
      "134 624k2Acbo5Tn9Swrt https://forum.effectivealtruism.org/posts/624k2Acbo5Tn9Swrt/introducing-ea-resources-by-lean\n",
      "135 KvLyxHcwCforffpkC https://forum.effectivealtruism.org/posts/KvLyxHcwCforffpkC/introduction-to-effective-altruism-reading-list\n",
      "136 k8adLKtEBJw7QWPK5 https://forum.effectivealtruism.org/posts/k8adLKtEBJw7QWPK5/introducing-charity-entrepreneurship-an-incubation-and\n",
      "137 E5uGZguvMhSuuga6M https://forum.effectivealtruism.org/posts/E5uGZguvMhSuuga6M/introducing-czech-association-for-effective-altruism-history\n",
      "138 9QHDQ2PwSnMEJ5Pzw https://forum.effectivealtruism.org/posts/9QHDQ2PwSnMEJ5Pzw/introducing-ea-work-club-high-impact-jobs-and-side-projects\n",
      "139 dq3m4ZukTHHYd2g4H https://forum.effectivealtruism.org/posts/dq3m4ZukTHHYd2g4H/introducing-canada-s-first-political-advocacy-group-on-ai\n",
      "140 soSph9SajQd5wWtnq https://forum.effectivealtruism.org/posts/soSph9SajQd5wWtnq/introducing-fortify-health-an-ea-aligned-charity-startup\n",
      "141 NkJv2F4zfrnnjTEtF https://forum.effectivealtruism.org/posts/NkJv2F4zfrnnjTEtF/introducing-improving-autonomy\n",
      "142 574d3ybRG3ZT4a74o https://forum.effectivealtruism.org/posts/574d3ybRG3ZT4a74o/introducing-the-ea-involvement-guide\n",
      "143 zkq8GY9PXmXRA3Bnh https://forum.effectivealtruism.org/posts/zkq8GY9PXmXRA3Bnh/introducing-sentience-institute\n",
      "144 Zxuksovf23qWgs37J https://forum.effectivealtruism.org/posts/Zxuksovf23qWgs37J/introducing-cea-s-guiding-principles\n",
      "145 a8eng4PbME85vdoep https://forum.effectivealtruism.org/posts/a8eng4PbME85vdoep/introducing-the-ea-funds\n",
      "146 nXWTbh6zzGQXfDM5D https://forum.effectivealtruism.org/posts/nXWTbh6zzGQXfDM5D/introducing-envision-a-new-ea-aligned-organization\n",
      "147 bH85uy2N9vnrM8vKp https://forum.effectivealtruism.org/posts/bH85uy2N9vnrM8vKp/introducing-the-ea-assembly\n",
      "148 MJjWntfSNiP5W4KDB https://forum.effectivealtruism.org/posts/MJjWntfSNiP5W4KDB/introducing-rebecca-raible-a-new-moderator\n",
      "149 nbjAuBFjEKaXbn4y4 https://forum.effectivealtruism.org/posts/nbjAuBFjEKaXbn4y4/introducing-moral-economics\n",
      "150 EwGRzxJQpoeirPs56 https://forum.effectivealtruism.org/posts/EwGRzxJQpoeirPs56/introducing-effective-altruism-policy-analytics-request-for\n",
      "151 pZqGSzFPkMCsnu5rv https://forum.effectivealtruism.org/posts/pZqGSzFPkMCsnu5rv/introducing-alison-our-new-forum-moderator\n",
      "152 mzD4XCgSXugrgMAw8 https://forum.effectivealtruism.org/posts/mzD4XCgSXugrgMAw8/introducing-the-impact-fund-paying-for-small-costs-and-va\n",
      "153 6KrsMimFJb3BiRFAp https://forum.effectivealtruism.org/posts/6KrsMimFJb3BiRFAp/introducing-a-website-for-local-ea-groups\n",
      "154 ktsPJuhvTvgG3nkKn https://forum.effectivealtruism.org/posts/ktsPJuhvTvgG3nkKn/introducing-an-ea-donation-registry\n",
      "155 5kFwcwDawAHZx6Tqd https://forum.effectivealtruism.org/posts/5kFwcwDawAHZx6Tqd/introducing-ea-profiles\n",
      "156 TYEt3ZN8KwcAqQ8Nf https://forum.effectivealtruism.org/posts/TYEt3ZN8KwcAqQ8Nf/introduce-yourself\n"
     ]
    }
   ],
   "source": [
    "for i, doc in enumerate(intro_docs):\n",
    "    print(i+68, doc[\"_id\"], doc[\"pageUrl\"])"
   ]
  },
  {
   "cell_type": "code",
   "execution_count": 10,
   "id": "449e5573",
   "metadata": {
    "scrolled": true
   },
   "outputs": [
    {
     "data": {
      "text/plain": [
       "133"
      ]
     },
     "execution_count": 10,
     "metadata": {},
     "output_type": "execute_result"
    }
   ],
   "source": [
    "len(announcing_docs)"
   ]
  },
  {
   "cell_type": "code",
   "execution_count": 11,
   "id": "6bf3aa43",
   "metadata": {
    "scrolled": false
   },
   "outputs": [
    {
     "data": {
      "text/plain": [
       "['Announcing: What Future World? - Growing the AI Governance Community',\n",
       " 'Announcing vodle, a web app for consensus-aiming collective decisions',\n",
       " 'Announcing The Most Important Century Writing Prize',\n",
       " 'Announcing EA Survey 2022',\n",
       " 'Announcing the Founders Pledge Global Catastrophic Risks Fund',\n",
       " \"Announcing Metaculus's 'Red Lines in Ukraine' Forecasting Project\",\n",
       " 'Announcing Squigglepy, a Python package for Squiggle',\n",
       " 'Announcing VIVID: A new EA organization aspiring to scale effective self-improvement & reflection',\n",
       " 'Announcing Amplify creative grants',\n",
       " 'Announcing the AI Safety Nudge Competition to Help Beat Procrastination',\n",
       " 'Announcing Charity Entrepreneurship’s 2023 ideas. Apply now. ',\n",
       " \"Announcing the Future Fund's AI Worldview Prize\",\n",
       " 'Announcing the Rethink Priorities Special Projects Program',\n",
       " 'Announcing Applications Now Open for Johns Hopkins Center for Health Security’s PhD Opportunities',\n",
       " 'Announcing “Effective Dropouts”',\n",
       " 'Announcing EA Pulse, large monthly US surveys on EA',\n",
       " 'Announcing the NYU Mind, Ethics, and Policy Program',\n",
       " 'Announcing an Empirical AI Safety Program',\n",
       " 'Announcing the Space Futures Initiative',\n",
       " 'Announcing a Philosophy Fellowship for AI Safety',\n",
       " 'Announcing the Change Our Mind Contest for critiques of our cost-effectiveness analyses',\n",
       " \"Announcing the winners of LPP's writing competition\",\n",
       " 'Announcing a new introduction to effective altruism',\n",
       " 'Announcing the Longtermism Fellowship of EA Munich - Apply!',\n",
       " 'Announcing Animal Advocacy Careers’ introductory course (2022 cohort)',\n",
       " 'Announcing the Distillation for Alignment Practicum (DAP)',\n",
       " 'Announcing Encultured AI: \\nBuilding a Video Game',\n",
       " 'Announcing the EA Gather Town Event Hall as a global hub for online events',\n",
       " 'Announcing the Longtermism Fund',\n",
       " 'Announcing: Mechanism Design for AI Safety - Reading Group',\n",
       " 'Announcing the Introduction to ML Safety Course',\n",
       " 'Announcing Squiggle: Early Access',\n",
       " 'Announcing the GovAI Policy Team',\n",
       " 'Announcing: the Prague Fall Season',\n",
       " 'Announcing the AI Safety Field Building Hub, a new effort to provide AISFB projects, mentorship, and funding',\n",
       " 'Announcing Non-trivial, an EA learning platform for teenagers',\n",
       " 'Announcing the Center for Space Governance',\n",
       " 'Announcing Future Forum - Apply Now',\n",
       " 'Announcing: EA Engineers',\n",
       " 'Announcing the Harvard AI Safety Team',\n",
       " 'Announcing the SPT Model Web App for AI Governance',\n",
       " 'Announcing Epoch: A research organization investigating the road to Transformative AI',\n",
       " 'Announcing giveffektivt.dk',\n",
       " 'Announcing the Clearer Thinking Regrants program',\n",
       " 'Announcing the New York Effective Altruism Hub: a coworking and event space (+AIS/longtermism office scoping)',\n",
       " \"Announcing the launch of Open Phil's new website\",\n",
       " 'Announcing the Legal Priorities Project Writing Competition: Improving Cost-Benefit Analysis to Account for Existential and Catastrophic Risks',\n",
       " 'Announcing a contest: EA Criticism and Red Teaming',\n",
       " 'Announcing: CE Career Coaching for Impact-focused Entrepreneurs ',\n",
       " 'Announcing the Nucleic Acid Observatory project for early detection of catastrophic biothreats',\n",
       " 'Announcing the Forecasting Wiki',\n",
       " 'Announcing What The Future Owes Us',\n",
       " 'Announcing the actual longtermist incubation program',\n",
       " 'Announcing Impact Island: A New EA Reality TV Show',\n",
       " 'Announcing: EAGxVRChat',\n",
       " 'Announcing What We Owe The Future',\n",
       " 'Announcing the EU Tech Policy Fellowship',\n",
       " 'Announce summer EA internships farther in advance',\n",
       " 'Announcing the CERI Summer Research Fellowship',\n",
       " 'Announcing the Future Fund',\n",
       " 'Announcing Alvea—An EA COVID Vaccine Project',\n",
       " 'Announcing the Reducetarian Fellowship!',\n",
       " 'Announcing a Student Essay Contest on The Precipice',\n",
       " 'Announcing EffectiveCrypto.org, powered by EA Funds',\n",
       " 'Announcing my retirement',\n",
       " 'Announcing our 2021 charity recommendations',\n",
       " 'Announcement: Calling for Applications for the Southeast Asia Farm Animal Welfare Fellowship Programme! [Deadline: 10 Nov 2021]',\n",
       " 'Announcing the Patient Philanthropy Fund',\n",
       " 'Announcing: Mind Ease acquires UpLift, two EA mental health apps merge',\n",
       " 'Announcing and seeking feedback on the READI philanthropy database project',\n",
       " 'Announcing the Vitalik Buterin Fellowships in AI Existential Safety!',\n",
       " 'Announcing riesgoscatastroficosglobales.com',\n",
       " 'Announcing the EA Behavioral Science Newsletter',\n",
       " 'Announcing the launch of EA Impact CoLabs (beta) + request for projects, volunteers and feedback',\n",
       " 'Announcing the Open Philanthropy Undergraduate Scholarship',\n",
       " 'Announcing our 2021 ACE Movement Grants',\n",
       " 'Announcing the Nuclear Risk Forecasting Tournament',\n",
       " 'Announcing the UK Covid-19 Crowd Forecasting Challenge',\n",
       " 'Announcing \"Naming What We Can\"!',\n",
       " 'Announcing AXRP, the AI X-risk Research Podcast',\n",
       " 'Announcement: applications for the 2021 Charity Entrepreneurship Incubation Program are now open!',\n",
       " 'Announcing AI Safety Support',\n",
       " 'Announcing the Forecasting Innovation Prize',\n",
       " 'Announcing the first International Effective Giving Day (November 30, 2020)',\n",
       " 'Announcing our Fall 2020 ACE Movement Grants',\n",
       " 'Announcing our summer 2020 ACE Movement Grants',\n",
       " 'Announcing: Progress Studies Reading Group',\n",
       " 'Announcing the EA Virtual Group*',\n",
       " 'Announcing altruisto 3.0 - app that lets you donate to EA-aligned charities while shopping online',\n",
       " 'Announcing Web-TAISU, May 13-17',\n",
       " 'Announcement: applications for the 2020 Charity Entrepreneurship Incubation Program are now open!',\n",
       " 'Announcing Li Wenliang Prize for forecasting the COVID-19 outbreak',\n",
       " 'Announcing EA for Christians Annual Conference in London',\n",
       " 'Announcing the Bentham Prize',\n",
       " 'Announcement: early applications for Charity Entrepreneurship’s 2020 Incubation Program are now open!',\n",
       " 'Announcing our 2019 top charities',\n",
       " 'Announcing our 2019 charity recommendations',\n",
       " 'Announcing the 2019-20 Donor Lottery',\n",
       " 'Announcing A Volunteer Research Team at EA Israel!',\n",
       " 'Announcing the launch of the German Effective Altruism Network: NEAD',\n",
       " 'Announcing plans for a German Effective Altruism Network focused on Community Building',\n",
       " 'Announcing the Buddhists in EA Group',\n",
       " 'Announcing the launch of the Happier Lives Institute',\n",
       " 'Announcing EA Hub 2.0',\n",
       " 'Announcement: Join the EA Careers Advising Network!',\n",
       " 'Announcing a call for grant applicants in Southeast Asia and Bangladesh',\n",
       " 'Announcing an updated drawing protocol for the EffectiveAltruism.org donor lotteries',\n",
       " 'Announcing Wild Animal Initiative',\n",
       " 'Announcing a predoctoral research programme in economics\\nat the Global Priorities Institute',\n",
       " 'Announcing EA Funds management AMAs: 20th December',\n",
       " 'Announcing the new Forethought Foundation for Global Priorities Research',\n",
       " 'Announcing the EA donation swap system',\n",
       " 'Announcing new EA Funds management teams',\n",
       " 'Announcing: \"Lets-Fund.org: High-Impact Crowdfunding campaigns\" & \"Let\\'s Fund #1: A (small) scientific Revolution\"',\n",
       " 'Announcing the EA Angel Group - Seeking EAs with the Time and Money to Evaluate and Fund Early-Stage Grants',\n",
       " \"Announcing WASR's Grants Competition\",\n",
       " 'Announcing PriorityWiki: A Cause Prioritization Wiki',\n",
       " 'Announcing the second AI Safety Camp',\n",
       " 'Announcing the Effective Altruism Handbook, 2nd edition',\n",
       " 'Announcing Rethink Priorities ',\n",
       " 'Announcing Effective Altruism Community Building Grants',\n",
       " 'Announcing the 2017 donor lottery',\n",
       " 'Announcing Effective Altruism Grants',\n",
       " 'Announcing \"Everyday Heroes of Effective Giving\" Series',\n",
       " 'Announcement: crowdsourcing argumentation at IARPA',\n",
       " 'Announcing the Good Technology Project',\n",
       " 'Announcing ImpactMatters: Auditing Charity Impact across Causes',\n",
       " 'Announcing the new EA Wiki!',\n",
       " 'Announcing the Doing Good Better Giveaway',\n",
       " 'Announcing the Effective Altruism Newsletter',\n",
       " 'Announcing Effective Altruism Ventures',\n",
       " 'Announcing EffectiveAltruism.org',\n",
       " 'Announcing a forthcoming book on effective altruism']"
      ]
     },
     "execution_count": 11,
     "metadata": {},
     "output_type": "execute_result"
    }
   ],
   "source": [
    "announcing_docs[\"title\"]"
   ]
  },
  {
   "cell_type": "code",
   "execution_count": 12,
   "id": "1a541f0c",
   "metadata": {},
   "outputs": [
    {
     "name": "stderr",
     "output_type": "stream",
     "text": [
      "Loading cached processed dataset at /home/justy/workspace/ea/ea-forum-announcements/data/posts/cache-b47c14b95d8ccbc8.arrow\n"
     ]
    }
   ],
   "source": [
    "cea = dataset.filter(lambda doc: \"cambridge effective altruism\" in doc['body'].lower())"
   ]
  },
  {
   "cell_type": "code",
   "execution_count": 13,
   "id": "cfd90614",
   "metadata": {},
   "outputs": [
    {
     "data": {
      "text/plain": [
       "['\\nMonthly Overload of EA - September 2022',\n",
       " 'The EAIF is discontinuing most university group funding',\n",
       " 'Animal Welfare Fund: April 2022 grant recommendations',\n",
       " 'Monthly Overload of EA - August 2022',\n",
       " 'EA Infrastructure Fund: September–December 2021 grant recommendations',\n",
       " 'Skilling-up in ML Engineering for Alignment: request for comments',\n",
       " 'Contribute by facilitating the AGI Safety Fundamentals Programme',\n",
       " 'Retrospective on Teaching Rationality Workshops']"
      ]
     },
     "execution_count": 13,
     "metadata": {},
     "output_type": "execute_result"
    }
   ],
   "source": [
    "cea[\"title\"]"
   ]
  },
  {
   "cell_type": "markdown",
   "id": "1c7a05df",
   "metadata": {},
   "source": [
    "### Labels"
   ]
  },
  {
   "cell_type": "code",
   "execution_count": 1,
   "id": "ea3d3738",
   "metadata": {},
   "outputs": [],
   "source": [
    "import pandas as pd\n",
    "from datasets import load_from_disk, Dataset\n",
    "\n",
    "import project_path\n",
    "from src.paths import datap"
   ]
  },
  {
   "cell_type": "code",
   "execution_count": 2,
   "id": "3cb025fd",
   "metadata": {},
   "outputs": [],
   "source": [
    "labels_path = \"/home/justy/workspace/ea/ea-forum-announcements/data/labels.csv\"\n",
    "labels = pd.read_csv(labels_path)"
   ]
  },
  {
   "cell_type": "code",
   "execution_count": 3,
   "id": "8fca9318",
   "metadata": {},
   "outputs": [],
   "source": [
    "dataset_path = \"/home/justy/workspace/ea/ea-forum-announcements/data/posts\"\n",
    "dataset = load_from_disk(dataset_path).to_pandas()"
   ]
  },
  {
   "cell_type": "code",
   "execution_count": 4,
   "id": "5582495a",
   "metadata": {},
   "outputs": [],
   "source": [
    "labels.label = labels.label.map({\"organization\": 0, \"project\": 1, \"other\": 2})"
   ]
  },
  {
   "cell_type": "markdown",
   "id": "bad0b1fb",
   "metadata": {},
   "source": [
    "### Augment the \"other\" class"
   ]
  },
  {
   "cell_type": "code",
   "execution_count": 7,
   "id": "cee04c0e",
   "metadata": {},
   "outputs": [],
   "source": [
    "random_others = dataset.sample(n=200, random_state=42)"
   ]
  },
  {
   "cell_type": "code",
   "execution_count": 8,
   "id": "053efa40",
   "metadata": {},
   "outputs": [
    {
     "name": "stdout",
     "output_type": "stream",
     "text": [
      "200\n",
      "Discarded: 6\n"
     ]
    }
   ],
   "source": [
    "initial = len(random_others)\n",
    "print(initial)\n",
    "random_others = random_others[~random_others.title.apply(lambda x: x.startswith(\"Announcing\"))]\n",
    "random_others = random_others[~random_others.title.apply(lambda x: x.startswith(\"Introducing\"))]\n",
    "print(f\"Discarded: {initial - len(random_others)}\")"
   ]
  },
  {
   "cell_type": "code",
   "execution_count": 9,
   "id": "1f87e132",
   "metadata": {},
   "outputs": [],
   "source": [
    "random_others = random_others._id\n",
    "random_others = random_others.to_frame()\n",
    "random_others[\"label\"] = 2\n",
    "labels = pd.concat((labels, random_others))\n",
    "labels = labels.reset_index()"
   ]
  },
  {
   "cell_type": "code",
   "execution_count": 10,
   "id": "1c338633",
   "metadata": {},
   "outputs": [
    {
     "data": {
      "text/plain": [
       "2    0.768750\n",
       "0    0.128125\n",
       "1    0.103125\n",
       "Name: label, dtype: float64"
      ]
     },
     "execution_count": 10,
     "metadata": {},
     "output_type": "execute_result"
    }
   ],
   "source": [
    "labels.label.value_counts(normalize=True)"
   ]
  },
  {
   "cell_type": "code",
   "execution_count": 11,
   "id": "3562761c",
   "metadata": {},
   "outputs": [],
   "source": [
    "dataset = pd.merge(dataset, labels, on=\"_id\", how=\"left\")"
   ]
  },
  {
   "cell_type": "code",
   "execution_count": 12,
   "id": "3d078225",
   "metadata": {},
   "outputs": [
    {
     "data": {
      "text/plain": [
       "(320, 18)"
      ]
     },
     "execution_count": 12,
     "metadata": {},
     "output_type": "execute_result"
    }
   ],
   "source": [
    "dataset = dataset[~dataset.label.isna()]\n",
    "dataset.shape"
   ]
  },
  {
   "cell_type": "code",
   "execution_count": 29,
   "id": "f88c5e0a",
   "metadata": {},
   "outputs": [],
   "source": [
    "# dataset = dataset.rename({\"body\": \"text\"}, axis=1)"
   ]
  },
  {
   "cell_type": "code",
   "execution_count": 42,
   "id": "b8896240",
   "metadata": {},
   "outputs": [],
   "source": [
    "dataset[[\"_id\", \"body\", \"label\"]].to_csv(datap(\"labeled_posts.csv\"), index=False)"
   ]
  },
  {
   "cell_type": "code",
   "execution_count": 43,
   "id": "6722e0ff",
   "metadata": {},
   "outputs": [],
   "source": [
    "dataset = Dataset.from_pandas(dataset)\n",
    "dataset.save_to_disk(datap(\"labeled_posts\"))\n",
    "# dataset = dataset.train_test_split(test_size=0.4)"
   ]
  },
  {
   "cell_type": "code",
   "execution_count": 132,
   "id": "1c5ca6e2",
   "metadata": {},
   "outputs": [
    {
     "data": {
      "application/vnd.jupyter.widget-view+json": {
       "model_id": "2b9ff624560f456bb44cf4d7237fa0bb",
       "version_major": 2,
       "version_minor": 0
      },
      "text/plain": [
       "Flattening the indices:   0%|          | 0/7 [00:00<?, ?ba/s]"
      ]
     },
     "metadata": {},
     "output_type": "display_data"
    }
   ],
   "source": [
    "# dataset['train'].save_to_disk(datap(\"all_paragraphs_labeled_only/train\"))"
   ]
  },
  {
   "cell_type": "code",
   "execution_count": 133,
   "id": "6888e0ae",
   "metadata": {},
   "outputs": [
    {
     "data": {
      "application/vnd.jupyter.widget-view+json": {
       "model_id": "6a12db41c5964c5299bb756f9320134c",
       "version_major": 2,
       "version_minor": 0
      },
      "text/plain": [
       "Flattening the indices:   0%|          | 0/5 [00:00<?, ?ba/s]"
      ]
     },
     "metadata": {},
     "output_type": "display_data"
    }
   ],
   "source": [
    "# dataset['test'].save_to_disk(datap(\"all_paragraphs_labeled_only/test\"))"
   ]
  }
 ],
 "metadata": {
  "kernelspec": {
   "display_name": "Python 3 (ipykernel)",
   "language": "python",
   "name": "python3"
  },
  "language_info": {
   "codemirror_mode": {
    "name": "ipython",
    "version": 3
   },
   "file_extension": ".py",
   "mimetype": "text/x-python",
   "name": "python",
   "nbconvert_exporter": "python",
   "pygments_lexer": "ipython3",
   "version": "3.8.10"
  }
 },
 "nbformat": 4,
 "nbformat_minor": 5
}
