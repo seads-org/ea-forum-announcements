{
 "cells": [
  {
   "cell_type": "code",
   "execution_count": 1,
   "id": "6c9edea1",
   "metadata": {},
   "outputs": [],
   "source": [
    "from datasets import load_from_disk"
   ]
  },
  {
   "cell_type": "code",
   "execution_count": 2,
   "id": "4e4f674c",
   "metadata": {},
   "outputs": [],
   "source": [
    "path = \"/home/justy/workspace/ea/ea-forum-announcements/data/posts\"\n",
    "dataset = load_from_disk(path)"
   ]
  },
  {
   "cell_type": "code",
   "execution_count": 3,
   "id": "c7a2a0d7",
   "metadata": {},
   "outputs": [
    {
     "data": {
      "text/plain": [
       "Dataset({\n",
       "    features: ['title', 'htmlBody', 'pageUrl', 'postedAt', 'baseScore', 'voteCount', 'commentCount', 'meta', 'question', 'url', 'tags', 'user', 'coauthors', 'body', 'userId', '_id'],\n",
       "    num_rows: 11006\n",
       "})"
      ]
     },
     "execution_count": 3,
     "metadata": {},
     "output_type": "execute_result"
    }
   ],
   "source": [
    "dataset"
   ]
  },
  {
   "cell_type": "code",
   "execution_count": 4,
   "id": "78f42645",
   "metadata": {},
   "outputs": [
    {
     "data": {
      "text/plain": [
       "['[Links post] Economists Chris Blattman and Noah Smith on China, Taiwan, and the likelihood of war',\n",
       " '4 Key Assumptions in AI Safety',\n",
       " 'The Welfare Range Table',\n",
       " 'Any EAs on Mastodon?',\n",
       " 'Opportunities that surprised us during our Clearer Thinking Regrants program',\n",
       " 'The Powerball Lottery Is Now Positive Expected Value for Many Charitable Americans',\n",
       " 'Historical experience and links to subjective happiness',\n",
       " 'Why does Elon Musk suck so much at calibration?',\n",
       " 'Apply to attend an AI safety workshop in Berkeley (Nov 18-21)',\n",
       " 'My (naive) take on Risks from Learned Optimization']"
      ]
     },
     "execution_count": 4,
     "metadata": {},
     "output_type": "execute_result"
    }
   ],
   "source": [
    "dataset['title'][:10]"
   ]
  },
  {
   "cell_type": "code",
   "execution_count": 5,
   "id": "d55ada9c",
   "metadata": {},
   "outputs": [
    {
     "name": "stderr",
     "output_type": "stream",
     "text": [
      "Loading cached processed dataset at /home/justy/workspace/ea/ea-forum-announcements/data/posts/cache-d96b7df6002aa1c2.arrow\n"
     ]
    }
   ],
   "source": [
    "announcing_docs = dataset.filter(lambda doc: doc['title'].lower().startswith(\"announc\"))"
   ]
  },
  {
   "cell_type": "code",
   "execution_count": 6,
   "id": "6a2eaacf",
   "metadata": {},
   "outputs": [
    {
     "name": "stderr",
     "output_type": "stream",
     "text": [
      "Loading cached processed dataset at /home/justy/workspace/ea/ea-forum-announcements/data/posts/cache-7f8c4e452a427da2.arrow\n"
     ]
    }
   ],
   "source": [
    "intro_docs = dataset.filter(lambda doc: doc['title'].lower().startswith(\"introduc\"))"
   ]
  },
  {
   "cell_type": "code",
   "execution_count": 7,
   "id": "6dc19570",
   "metadata": {},
   "outputs": [
    {
     "data": {
      "text/plain": [
       "133"
      ]
     },
     "execution_count": 7,
     "metadata": {},
     "output_type": "execute_result"
    }
   ],
   "source": [
    "len(announcing_docs)"
   ]
  },
  {
   "cell_type": "code",
   "execution_count": 8,
   "id": "e87e94f8",
   "metadata": {},
   "outputs": [
    {
     "data": {
      "text/plain": [
       "89"
      ]
     },
     "execution_count": 8,
     "metadata": {},
     "output_type": "execute_result"
    }
   ],
   "source": [
    "len(intro_docs)"
   ]
  },
  {
   "cell_type": "code",
   "execution_count": 9,
   "id": "40a608d2",
   "metadata": {},
   "outputs": [
    {
     "name": "stderr",
     "output_type": "stream",
     "text": [
      "Loading cached processed dataset at /home/justy/workspace/ea/ea-forum-announcements/data/posts/cache-10e5e29a42c9b9a1.arrow\n"
     ]
    },
    {
     "data": {
      "text/plain": [
       "[['Existential risk',\n",
       "  'Global catastrophic risk',\n",
       "  'Founders Pledge',\n",
       "  'Effective altruism funding',\n",
       "  'Organization updates']]"
      ]
     },
     "execution_count": 9,
     "metadata": {},
     "output_type": "execute_result"
    }
   ],
   "source": [
    "announcing_docs.filter(lambda doc: doc[\"_id\"] == \"ZJpPvxXdimPgxFp2j\")[\"tags\"]"
   ]
  },
  {
   "cell_type": "code",
   "execution_count": 13,
   "id": "12745131",
   "metadata": {},
   "outputs": [
    {
     "data": {
      "application/vnd.jupyter.widget-view+json": {
       "model_id": "a1415fd835b44dd2acbddf52dd4cdcd5",
       "version_major": 2,
       "version_minor": 0
      },
      "text/plain": [
       "  0%|          | 0/1 [00:00<?, ?ba/s]"
      ]
     },
     "metadata": {},
     "output_type": "display_data"
    },
    {
     "data": {
      "text/plain": [
       "Dataset({\n",
       "    features: ['title', 'htmlBody', 'pageUrl', 'postedAt', 'baseScore', 'voteCount', 'commentCount', 'meta', 'question', 'url', 'tags', 'user', 'coauthors', 'body', 'userId', '_id'],\n",
       "    num_rows: 24\n",
       "})"
      ]
     },
     "execution_count": 13,
     "metadata": {},
     "output_type": "execute_result"
    }
   ],
   "source": [
    "orgs = announcing_docs.filter(lambda doc: \"Organization updates\" in doc[\"tags\"])\n",
    "orgs"
   ]
  },
  {
   "cell_type": "code",
   "execution_count": 16,
   "id": "dc74ad3f",
   "metadata": {},
   "outputs": [],
   "source": [
    "import pandas as pd"
   ]
  },
  {
   "cell_type": "code",
   "execution_count": 99,
   "id": "6e96adbc",
   "metadata": {},
   "outputs": [],
   "source": [
    "labels = pd.read_csv(\"/home/justy/workspace/ea/ea-forum-announcements/data/labels.csv\")"
   ]
  },
  {
   "cell_type": "code",
   "execution_count": 100,
   "id": "57ae436d",
   "metadata": {},
   "outputs": [
    {
     "data": {
      "text/plain": [
       "other           66\n",
       "organization    53\n",
       "project         29\n",
       "Name: label, dtype: int64"
      ]
     },
     "execution_count": 100,
     "metadata": {},
     "output_type": "execute_result"
    }
   ],
   "source": [
    "labels.label.value_counts()"
   ]
  },
  {
   "cell_type": "code",
   "execution_count": 21,
   "id": "e13f33da",
   "metadata": {
    "scrolled": false
   },
   "outputs": [
    {
     "name": "stdout",
     "output_type": "stream",
     "text": [
      "4 tWawcXaNnLAihA2Fv https://forum.effectivealtruism.org/posts/tWawcXaNnLAihA2Fv/announcing-ea-pulse-large-monthly-us-surveys-on-ea\n",
      "5 vkQcq9fmQptXwFNuQ https://forum.effectivealtruism.org/posts/vkQcq9fmQptXwFNuQ/announcing-the-winners-of-lpp-s-writing-competition\n",
      "12 kKTxeJq8feNbvTthP https://forum.effectivealtruism.org/posts/kKTxeJq8feNbvTthP/announcing-the-new-york-effective-altruism-hub-a-coworking\n",
      "13 GAfzt6BPoNuYxKDTM https://forum.effectivealtruism.org/posts/GAfzt6BPoNuYxKDTM/announcing-the-launch-of-open-phil-s-new-website\n",
      "14 2mx6xrDrwiEKzfgks https://forum.effectivealtruism.org/posts/2mx6xrDrwiEKzfgks/announcing-the-future-fund-1\n",
      "16 TZEHxfH2Z3W9Cg9yL https://forum.effectivealtruism.org/posts/TZEHxfH2Z3W9Cg9yL/announcing-mind-ease-acquires-uplift-two-ea-mental-health\n",
      "17 o4trFCEfhg3PKvCA4 https://forum.effectivealtruism.org/posts/o4trFCEfhg3PKvCA4/announcing-riesgoscatastroficosglobales-com\n"
     ]
    }
   ],
   "source": [
    "for i, doc in enumerate(orgs):\n",
    "    if doc[\"_id\"] in missing:\n",
    "        print(i+2, doc[\"_id\"], doc[\"pageUrl\"])"
   ]
  },
  {
   "cell_type": "code",
   "execution_count": 24,
   "id": "51ae041d",
   "metadata": {},
   "outputs": [
    {
     "data": {
      "text/plain": [
       "other           55\n",
       "organization    42\n",
       "project         30\n",
       "Name: label, dtype: int64"
      ]
     },
     "execution_count": 24,
     "metadata": {},
     "output_type": "execute_result"
    }
   ],
   "source": [
    "labels.label.value_counts()"
   ]
  },
  {
   "cell_type": "code",
   "execution_count": 25,
   "id": "b7e4ad1c",
   "metadata": {},
   "outputs": [],
   "source": [
    "projects = labels[labels[\"label\"] == \"project\"]._id"
   ]
  },
  {
   "cell_type": "code",
   "execution_count": 29,
   "id": "48baff1e",
   "metadata": {},
   "outputs": [
    {
     "name": "stderr",
     "output_type": "stream",
     "text": [
      "Loading cached processed dataset at /home/justy/workspace/ea/ea-forum-announcements/data/posts/cache-13943c43144b5789.arrow\n"
     ]
    }
   ],
   "source": [
    "projects = dataset.filter(lambda doc: doc['_id'] in set(projects))"
   ]
  },
  {
   "cell_type": "code",
   "execution_count": 32,
   "id": "3eac2f63",
   "metadata": {},
   "outputs": [
    {
     "name": "stdout",
     "output_type": "stream",
     "text": [
      "DDsTgC59MER7cPiRh Introducing Cause Innovation Bootcamp https://forum.effectivealtruism.org/posts/DDsTgC59MER7cPiRh/introducing-cause-innovation-bootcamp\n",
      "\n",
      "FxioucsYBENvp7KEH Introducing the Basic Post-scarcity Map https://forum.effectivealtruism.org/posts/FxioucsYBENvp7KEH/introducing-the-basic-post-scarcity-map\n",
      "\n",
      "6i5qyvCbrMsBLj3Z4 Announcing Charity Entrepreneurship’s 2023 ideas. Apply now.  https://forum.effectivealtruism.org/posts/6i5qyvCbrMsBLj3Z4/announcing-charity-entrepreneurship-s-2023-ideas-apply-now\n",
      "\n",
      "AFgvA9imsT6bww8E3 Announcing the Rethink Priorities Special Projects Program https://forum.effectivealtruism.org/posts/AFgvA9imsT6bww8E3/announcing-the-rethink-priorities-special-projects-program\n",
      "\n",
      "SbMfbYnMyFYX6acZ2 Announcing Encultured AI: \n",
      "Building a Video Game https://forum.effectivealtruism.org/posts/SbMfbYnMyFYX6acZ2/announcing-encultured-ai-building-a-video-game\n",
      "\n",
      "TfPdb2aMKzgWXFvc3 Announcing Squiggle: Early Access https://forum.effectivealtruism.org/posts/TfPdb2aMKzgWXFvc3/announcing-squiggle-early-access\n",
      "\n",
      "jatnoouJuCpcKpnoh Announcing the GovAI Policy Team https://forum.effectivealtruism.org/posts/jatnoouJuCpcKpnoh/announcing-the-govai-policy-team\n",
      "\n",
      "TT3gNbA534C7HNBCF Introducing the EA Good Governance Project https://forum.effectivealtruism.org/posts/TT3gNbA534C7HNBCF/introducing-the-ea-good-governance-project\n",
      "\n",
      "9gLtXR6KkZEYie8Au Introducing EAecon: Community-Building Project https://forum.effectivealtruism.org/posts/9gLtXR6KkZEYie8Au/introducing-eaecon-community-building-project\n",
      "\n",
      "Mts84Mv5cFHRYBBA8 Introducing Asterisk https://forum.effectivealtruism.org/posts/Mts84Mv5cFHRYBBA8/introducing-asterisk\n",
      "\n",
      "67awq5ozeYSjsYchk Announcing Alvea—An EA COVID Vaccine Project https://forum.effectivealtruism.org/posts/67awq5ozeYSjsYchk/announcing-alvea-an-ea-covid-vaccine-project\n",
      "\n",
      "i2Q3DTsQq9THhFEgR Introducing Effective Self-Help https://forum.effectivealtruism.org/posts/i2Q3DTsQq9THhFEgR/introducing-effective-self-help\n",
      "\n",
      "2vxNfQjLxFvjL5Mkc Announcing EffectiveCrypto.org, powered by EA Funds https://forum.effectivealtruism.org/posts/2vxNfQjLxFvjL5Mkc/announcing-effectivecrypto-org-powered-by-ea-funds\n",
      "\n",
      "giKLP5snkAiKGut4t Announcing the launch of EA Impact CoLabs (beta) + request for projects, volunteers and feedback https://forum.effectivealtruism.org/posts/giKLP5snkAiKGut4t/announcing-the-launch-of-ea-impact-colabs-beta-request-for\n",
      "\n",
      "tEo5oXeSNcB3sYr8m Introducing Metaforecast: A Forecast Aggregator and Search Tool https://forum.effectivealtruism.org/posts/tEo5oXeSNcB3sYr8m/introducing-metaforecast-a-forecast-aggregator-and-search\n",
      "\n",
      "cFfc2a7YWNYn33qr7 Introducing a project on accountability in governance, plus a call for volunteers https://forum.effectivealtruism.org/posts/cFfc2a7YWNYn33qr7/introducing-a-project-on-accountability-in-governance-plus-a\n",
      "\n",
      "acBujAbWrpCGaC75g Introducing Animal Advocacy Africa https://forum.effectivealtruism.org/posts/acBujAbWrpCGaC75g/introducing-animal-advocacy-africa\n",
      "\n",
      "fd96FtLFACeAshqJP Introducing LEEP: Lead Exposure Elimination Project https://forum.effectivealtruism.org/posts/fd96FtLFACeAshqJP/introducing-leep-lead-exposure-elimination-project\n",
      "\n",
      "PvBLDPkqKvdHQkKPn Introducing the Legal Priorities Project https://forum.effectivealtruism.org/posts/PvBLDPkqKvdHQkKPn/introducing-the-legal-priorities-project\n",
      "\n",
      "5nCijr7A9MfZ48o6f Introducing Foretold.io: A New Open-Source Prediction Registry https://forum.effectivealtruism.org/posts/5nCijr7A9MfZ48o6f/introducing-foretold-io-a-new-open-source-prediction\n",
      "\n",
      "LLAffXYqtYdWJ4fwr Introducing The Life You Can Save mobile app! https://forum.effectivealtruism.org/posts/LLAffXYqtYdWJ4fwr/introducing-the-life-you-can-save-mobile-app\n",
      "\n",
      "vxwcxwiDKCnyHJhbz Announcing the new Forethought Foundation for Global Priorities Research https://forum.effectivealtruism.org/posts/vxwcxwiDKCnyHJhbz/announcing-the-new-forethought-foundation-for-global\n",
      "\n",
      "gFxgPhn3myvjo7NSo Announcing PriorityWiki: A Cause Prioritization Wiki https://forum.effectivealtruism.org/posts/gFxgPhn3myvjo7NSo/announcing-prioritywiki-a-cause-prioritization-wiki\n",
      "\n",
      "k8adLKtEBJw7QWPK5 Introducing Charity Entrepreneurship: an Incubation and Research Program for New Charities https://forum.effectivealtruism.org/posts/k8adLKtEBJw7QWPK5/introducing-charity-entrepreneurship-an-incubation-and\n",
      "\n",
      "zTmxvDQ46tDz4JYDL Announcing Rethink Priorities  https://forum.effectivealtruism.org/posts/zTmxvDQ46tDz4JYDL/announcing-rethink-priorities\n",
      "\n",
      "6kFcr6L2jZhcsZnao Announcing Effective Altruism Community Building Grants https://forum.effectivealtruism.org/posts/6kFcr6L2jZhcsZnao/announcing-effective-altruism-community-building-grants\n",
      "\n",
      "wYaSxg4uGFLz4kJ6d Announcing Effective Altruism Grants https://forum.effectivealtruism.org/posts/wYaSxg4uGFLz4kJ6d/announcing-effective-altruism-grants\n",
      "\n",
      "a8eng4PbME85vdoep Introducing the EA Funds https://forum.effectivealtruism.org/posts/a8eng4PbME85vdoep/introducing-the-ea-funds\n",
      "\n",
      "ohrmN8Y6LKJii8qA7 Announcing the Good Technology Project https://forum.effectivealtruism.org/posts/ohrmN8Y6LKJii8qA7/announcing-the-good-technology-project\n",
      "\n",
      "TFDTKfemMnGbKp3YG Announcing Effective Altruism Ventures https://forum.effectivealtruism.org/posts/TFDTKfemMnGbKp3YG/announcing-effective-altruism-ventures\n",
      "\n"
     ]
    }
   ],
   "source": [
    "for i, doc in enumerate(projects):\n",
    "    print(doc[\"_id\"], doc['title'], doc[\"pageUrl\"])\n",
    "    print()"
   ]
  },
  {
   "cell_type": "code",
   "execution_count": null,
   "id": "41b40575",
   "metadata": {},
   "outputs": [],
   "source": [
    "flat_list = [item for sublist in l for item in sublist]"
   ]
  },
  {
   "cell_type": "code",
   "execution_count": 77,
   "id": "9b52bf6e",
   "metadata": {},
   "outputs": [],
   "source": [
    "tags = {el for sublist in dataset[\"tags\"] for el in sublist}"
   ]
  },
  {
   "cell_type": "code",
   "execution_count": 85,
   "id": "d91e8f70",
   "metadata": {},
   "outputs": [
    {
     "data": {
      "text/plain": [
       "['EA Radio (project)',\n",
       " 'Effective Institutions Project',\n",
       " 'Community projects',\n",
       " 'Student projects',\n",
       " 'Research agendas, questions, and project lists',\n",
       " 'EA Librarian (project inactive)',\n",
       " 'Weekly Summaries (project)',\n",
       " 'Legal Priorities Project',\n",
       " 'Project voting',\n",
       " 'Welfare Footprint Project',\n",
       " 'Project for Awesome',\n",
       " 'Manhattan Project',\n",
       " 'Shrimp Welfare Project',\n",
       " 'Megaprojects',\n",
       " 'Lead Exposure Elimination Project']"
      ]
     },
     "execution_count": 85,
     "metadata": {},
     "output_type": "execute_result"
    }
   ],
   "source": [
    "list(filter(lambda x: \"project\" in x.lower(), tags))"
   ]
  },
  {
   "cell_type": "code",
   "execution_count": 101,
   "id": "4ca1dec0",
   "metadata": {},
   "outputs": [
    {
     "name": "stderr",
     "output_type": "stream",
     "text": [
      "Loading cached processed dataset at /home/justy/workspace/ea/ea-forum-announcements/data/posts/cache-70754218675452b7.arrow\n"
     ]
    }
   ],
   "source": [
    "potential_projects = dataset.filter(lambda doc: \"open source\" in doc[\"body\"])"
   ]
  },
  {
   "cell_type": "code",
   "execution_count": 94,
   "id": "8f2f7dbe",
   "metadata": {},
   "outputs": [
    {
     "data": {
      "application/vnd.jupyter.widget-view+json": {
       "model_id": "7101ff39506e41738fa7c0b37e17d3b0",
       "version_major": 2,
       "version_minor": 0
      },
      "text/plain": [
       "  0%|          | 0/12 [00:00<?, ?ba/s]"
      ]
     },
     "metadata": {},
     "output_type": "display_data"
    },
    {
     "name": "stdout",
     "output_type": "stream",
     "text": [
      "RMJj89FWkLxwvgXNq Effective Self-Help is looking for feedback https://forum.effectivealtruism.org/posts/RMJj89FWkLxwvgXNq/effective-self-help-is-looking-for-feedback\n",
      "Dgzi6uqppjLxNsQ54 Effective Self-Help is hiring for a Researcher or Digital Media Lead https://forum.effectivealtruism.org/posts/Dgzi6uqppjLxNsQ54/effective-self-help-is-hiring-for-a-researcher-or-digital\n",
      "XmRvau7fz999CGBiC What self-help topics would you like better research/ resources on? https://forum.effectivealtruism.org/posts/XmRvau7fz999CGBiC/what-self-help-topics-would-you-like-better-research\n",
      "i2Q3DTsQq9THhFEgR Introducing Effective Self-Help https://forum.effectivealtruism.org/posts/i2Q3DTsQq9THhFEgR/introducing-effective-self-help\n"
     ]
    }
   ],
   "source": [
    "a = dataset.filter(lambda doc: \"self-help\" in doc[\"title\"].lower())\n",
    "for b in a:\n",
    "    print(b[\"_id\"], b[\"title\"], b[\"pageUrl\"])"
   ]
  },
  {
   "cell_type": "code",
   "execution_count": 97,
   "id": "7d1589e3",
   "metadata": {},
   "outputs": [
    {
     "data": {
      "application/vnd.jupyter.widget-view+json": {
       "model_id": "85ee8d1964b94f4b917a13b94a90bc71",
       "version_major": 2,
       "version_minor": 0
      },
      "text/plain": [
       "  0%|          | 0/12 [00:00<?, ?ba/s]"
      ]
     },
     "metadata": {},
     "output_type": "display_data"
    }
   ],
   "source": [
    "potential_projects = dataset.filter(lambda doc: \"journal\" in doc[\"title\"])"
   ]
  },
  {
   "cell_type": "code",
   "execution_count": 102,
   "id": "c2451435",
   "metadata": {},
   "outputs": [
    {
     "name": "stdout",
     "output_type": "stream",
     "text": [
      "GbuR4AZhXFQiZBxdL Intro to Cyberbiosecurity - Kathryn Millet | Biosecure https://forum.effectivealtruism.org/posts/GbuR4AZhXFQiZBxdL/intro-to-cyberbiosecurity-kathryn-millet-or-biosecure\n",
      "\n",
      "Bnp9YDqErNXHmTvvE The Slippery Slope from DALLE-2 to Deepfake Anarchy https://forum.effectivealtruism.org/posts/Bnp9YDqErNXHmTvvE/the-slippery-slope-from-dalle-2-to-deepfake-anarchy\n",
      "\n",
      "YnBwoNNqe6knBJH8p Modelling civilisation after a catastrophe https://forum.effectivealtruism.org/posts/YnBwoNNqe6knBJH8p/modelling-civilisation-after-a-catastrophe\n",
      "\n",
      "2hTDF62hfHAPpJDvk Simulation models could help prepare for the next pandemic https://forum.effectivealtruism.org/posts/2hTDF62hfHAPpJDvk/simulation-models-could-help-prepare-for-the-next-pandemic\n",
      "\n",
      "9BDzFqAXu7sqPvRn5 Reslab Request for Information: EA hardware projects https://forum.effectivealtruism.org/posts/9BDzFqAXu7sqPvRn5/reslab-request-for-information-ea-hardware-projects-1\n",
      "\n",
      "D3cZywurbzQnwaARx Crypto loves impact markets: Notes from Schelling Point Bogotá https://forum.effectivealtruism.org/posts/D3cZywurbzQnwaARx/crypto-loves-impact-markets-notes-from-schelling-point\n",
      "\n",
      "dPEKaRYNCE7fxAH8W Open Letter to EA https://forum.effectivealtruism.org/posts/dPEKaRYNCE7fxAH8W/open-letter-to-ea\n",
      "\n",
      "DTTADonxnDRoksp4E AI Safety Ideas: A collaborative AI safety research platform https://forum.effectivealtruism.org/posts/DTTADonxnDRoksp4E/ai-safety-ideas-a-collaborative-ai-safety-research-platform\n",
      "\n",
      "HsDMguLtdhFP46GQ8 How Open Source Machine Learning Software Shapes AI https://forum.effectivealtruism.org/posts/HsDMguLtdhFP46GQ8/how-open-source-machine-learning-software-shapes-ai\n",
      "\n",
      "PiFCF7dcAxBpc5dsN Civilization Recovery Kits https://forum.effectivealtruism.org/posts/PiFCF7dcAxBpc5dsN/civilization-recovery-kits\n",
      "\n",
      "W6gGKCm6yEXRW5nJu Quantified Intuitions: An epistemics training website including a new EA-themed calibration app https://forum.effectivealtruism.org/posts/W6gGKCm6yEXRW5nJu/quantified-intuitions-an-epistemics-training-website\n",
      "\n",
      "S7dhJR5TDwPb5jypG Levelling Up in AI Safety Research Engineering https://forum.effectivealtruism.org/posts/S7dhJR5TDwPb5jypG/levelling-up-in-ai-safety-research-engineering\n",
      "\n",
      "nWeF2WjEASoFmAsDG EA & LW Forums Weekly Summary (21 Aug - 27 Aug 22’) https://forum.effectivealtruism.org/posts/nWeF2WjEASoFmAsDG/ea-and-lw-forums-weekly-summary-21-aug-27-aug-22\n",
      "\n",
      "GfutYj4PCTavF9fcx First call for EA Data Science/ML/AI https://forum.effectivealtruism.org/posts/GfutYj4PCTavF9fcx/first-call-for-ea-data-science-ml-ai\n",
      "\n",
      "daP8D49DjzLRwdZoD The Future of Altruism is Sustainable Technology https://forum.effectivealtruism.org/posts/daP8D49DjzLRwdZoD/the-future-of-altruism-is-sustainable-technology\n",
      "\n",
      "vzDdcySKttgeB5KmB Request for feedback -- CA water data application for google dot org climate challenge https://forum.effectivealtruism.org/posts/vzDdcySKttgeB5KmB/request-for-feedback-ca-water-data-application-for-google\n",
      "\n",
      "NbkxLDECvdGuB95gW The community health team’s work on interpersonal harm in the community\n",
      " https://forum.effectivealtruism.org/posts/NbkxLDECvdGuB95gW/the-community-health-team-s-work-on-interpersonal-harm-in\n",
      "\n",
      "ue9qrxXPLfGxNssvX Cause Exploration: Governance Design & Formation https://forum.effectivealtruism.org/posts/ue9qrxXPLfGxNssvX/cause-exploration-governance-design-and-formation\n",
      "\n",
      "xZrvbwhSLmsGmHHSD Altruism is systems change, so why isn’t EA? Constructive criticism. https://forum.effectivealtruism.org/posts/xZrvbwhSLmsGmHHSD/altruism-is-systems-change-so-why-isn-t-ea-constructive\n",
      "\n",
      "x9towRLtvYidkXugk Reciprocity & the causes of diminishing returns: cause exploration submission https://forum.effectivealtruism.org/posts/x9towRLtvYidkXugk/reciprocity-and-the-causes-of-diminishing-returns-cause\n",
      "\n",
      "E2BghQq9pwPgtHgiH War Between the US and China: A case study for epistemic challenges around China-related catastrophic risk https://forum.effectivealtruism.org/posts/E2BghQq9pwPgtHgiH/war-between-the-us-and-china-a-case-study-for-epistemic\n",
      "\n",
      "mMaAcvNLQPC3aTqB6 Effective Altruism Criticisms https://forum.effectivealtruism.org/posts/mMaAcvNLQPC3aTqB6/effective-altruism-criticisms\n",
      "\n",
      "ax8fod4R7ihTxh3kv Persistent Democracy: request for early feedback https://forum.effectivealtruism.org/posts/ax8fod4R7ihTxh3kv/persistent-democracy-request-for-early-feedback\n",
      "\n",
      "gttFbbRgTqZtwxDto [Cause Exploration Prizes] Software Systems for Collective Intelligence https://forum.effectivealtruism.org/posts/gttFbbRgTqZtwxDto/cause-exploration-prizes-software-systems-for-collective\n",
      "\n",
      "cp6R26srno75WH2AD Cause Area Proposal: Paperwork Reduction https://forum.effectivealtruism.org/posts/cp6R26srno75WH2AD/cause-area-proposal-paperwork-reduction\n",
      "\n",
      "Qfo9kYrRrRywmf4hF Forecasting Newsletter: July 2022 https://forum.effectivealtruism.org/posts/Qfo9kYrRrRywmf4hF/forecasting-newsletter-july-2022\n",
      "\n",
      "meucAqs9niekiAc3f Cofounding team sought for WordSig.org https://forum.effectivealtruism.org/posts/meucAqs9niekiAc3f/cofounding-team-sought-for-wordsig-org\n",
      "\n",
      "EF2zJNLZuRNxk8KkJ What is EA not? https://forum.effectivealtruism.org/posts/EF2zJNLZuRNxk8KkJ/what-is-ea-not\n",
      "\n",
      "kZ77cifvvNcwG56sH Why EA needs Operations Research: the science of decision making https://forum.effectivealtruism.org/posts/kZ77cifvvNcwG56sH/why-ea-needs-operations-research-the-science-of-decision\n",
      "\n",
      "rS2zWRDxw5vZwdQAC A platform for on-demand vaccination https://forum.effectivealtruism.org/posts/rS2zWRDxw5vZwdQAC/a-platform-for-on-demand-vaccination\n",
      "\n",
      "9sraY9qrwuiKXJjhG Cause Exploration Prizes: Publishing Comprehensive Books Which Make the Case for Effective Corporate Animal Welfare Campaigns via a Writing Contest for Potential Authors https://forum.effectivealtruism.org/posts/9sraY9qrwuiKXJjhG/cause-exploration-prizes-publishing-comprehensive-books\n",
      "\n",
      "ujG8NkWtSEHR2qrbb Forecasting Newsletter: June 2022 https://forum.effectivealtruism.org/posts/ujG8NkWtSEHR2qrbb/forecasting-newsletter-june-2022\n",
      "\n",
      "TCBf4tK6J7bikKQJB How to start a blog in 5 seconds for $0 https://forum.effectivealtruism.org/posts/TCBf4tK6J7bikKQJB/how-to-start-a-blog-in-5-seconds-for-usd0\n",
      "\n",
      "s9HPpvMHgS5QYEM4C Open Climate Data as a possible cause area,  Open Philanthropy https://forum.effectivealtruism.org/posts/s9HPpvMHgS5QYEM4C/open-climate-data-as-a-possible-cause-area-open-philanthropy\n",
      "\n",
      "ycLhq4Bmep8ssr4wR Quantifying Uncertainty in GiveWell's GiveDirectly Cost-Effectiveness Analysis https://forum.effectivealtruism.org/posts/ycLhq4Bmep8ssr4wR/quantifying-uncertainty-in-givewell-s-givedirectly-cost\n",
      "\n",
      "zdA3ZpGZ5FxfaRgjb Key Papers in Language Model Safety https://forum.effectivealtruism.org/posts/zdA3ZpGZ5FxfaRgjb/key-papers-in-language-model-safety\n",
      "\n",
      "kB2DK6fpmbGCxe4ED Appendix to Bridging Demonstration https://forum.effectivealtruism.org/posts/kB2DK6fpmbGCxe4ED/appendix-to-bridging-demonstration\n",
      "\n",
      "9kcMNim6R2Lvh4FAf Optimizing Public Goods Funding with blockchain tech and clever incentive design (RETROX) https://forum.effectivealtruism.org/posts/9kcMNim6R2Lvh4FAf/optimizing-public-goods-funding-with-blockchain-tech-and\n",
      "\n",
      "waeDDnaQBTCNNu7hq EA Tours of Service https://forum.effectivealtruism.org/posts/waeDDnaQBTCNNu7hq/ea-tours-of-service\n",
      "\n",
      "4jhGirLsr4PGL6btL Manifold for Good: Bet on the future, for charity https://forum.effectivealtruism.org/posts/4jhGirLsr4PGL6btL/manifold-for-good-bet-on-the-future-for-charity\n",
      "\n",
      "nB778dXNsHqHthFC5 Metaforecast late 2022 update: GraphQL API, Charts, better infrastructure behind the scenes. https://forum.effectivealtruism.org/posts/nB778dXNsHqHthFC5/metaforecast-late-2022-update-graphql-api-charts-better\n",
      "\n",
      "W8dpCJGkwrwn7BfLk Nuclear Expert Comment on Samotsvety Nuclear Risk Forecast https://forum.effectivealtruism.org/posts/W8dpCJGkwrwn7BfLk/nuclear-expert-comment-on-samotsvety-nuclear-risk-forecast-2\n",
      "\n",
      "g7kDhcsHeRCpeJijb How To Become A Professional Software Developer https://forum.effectivealtruism.org/posts/g7kDhcsHeRCpeJijb/how-to-become-a-professional-software-developer\n",
      "\n",
      "MBDHjwDvhDnqisyW2 Awards for the Future Fund’s Project Ideas Competition https://forum.effectivealtruism.org/posts/MBDHjwDvhDnqisyW2/awards-for-the-future-fund-s-project-ideas-competition\n",
      "\n",
      "zjMeGcgWpvDcm3CkH Early-warning Forecasting Center: What it is, and why it'd be cool https://forum.effectivealtruism.org/posts/zjMeGcgWpvDcm3CkH/early-warning-forecasting-center-what-it-is-and-why-it-d-be\n",
      "\n",
      "o5hYrj5asR4jCBiZh Shortening & enlightening dark ages as a sub-area of catastrophic risk reduction https://forum.effectivealtruism.org/posts/o5hYrj5asR4jCBiZh/shortening-and-enlightening-dark-ages-as-a-sub-area-of\n",
      "\n",
      "JmzTk4GBzRQj4NeLb Credo AI is hiring! https://forum.effectivealtruism.org/posts/JmzTk4GBzRQj4NeLb/credo-ai-is-hiring\n",
      "\n",
      "Rtfvyoj5wfA3wYpsq Prototype of re-imagined social network for EA community https://forum.effectivealtruism.org/posts/Rtfvyoj5wfA3wYpsq/prototype-of-re-imagined-social-network-for-ea-community\n",
      "\n",
      "aWyFsYZuxkrraQdYk Bibliography of EA writings about fields and movements of interest to EA https://forum.effectivealtruism.org/posts/aWyFsYZuxkrraQdYk/bibliography-of-ea-writings-about-fields-and-movements-of\n",
      "\n",
      "oqFa8obfyEmvD79Jn We are giving $10k as forecasting micro-grants https://forum.effectivealtruism.org/posts/oqFa8obfyEmvD79Jn/we-are-giving-usd10k-as-forecasting-micro-grants\n",
      "\n",
      "n74RBx2jdoxuqoywm Forecasting Newsletter: January 2022 https://forum.effectivealtruism.org/posts/n74RBx2jdoxuqoywm/forecasting-newsletter-january-2022\n",
      "\n",
      "jkLDKfa2NXodAnA69 Effective Crypto | Future State https://forum.effectivealtruism.org/posts/jkLDKfa2NXodAnA69/effective-crypto-or-future-state\n",
      "\n",
      "J2scJHdZhGwPD4G5C Hear This Idea - Mike on Nuclear Winter and ensuring mid to long term food security https://forum.effectivealtruism.org/posts/J2scJHdZhGwPD4G5C/hear-this-idea-mike-on-nuclear-winter-and-ensuring-mid-to\n",
      "\n",
      "u5JesqQ3jdLENXBtB Concrete Biosecurity Projects (some of which could be big) https://forum.effectivealtruism.org/posts/u5JesqQ3jdLENXBtB/concrete-biosecurity-projects-some-of-which-could-be-big-1\n",
      "\n",
      "YrR6hAL79SdTkNp2f 'Tis The Season of Change https://forum.effectivealtruism.org/posts/YrR6hAL79SdTkNp2f/tis-the-season-of-change-1\n",
      "\n",
      "3itL9GJcxvQC5Pp5D EU AI Act now has a section on general purpose AI systems https://forum.effectivealtruism.org/posts/3itL9GJcxvQC5Pp5D/eu-ai-act-now-has-a-section-on-general-purpose-ai-systems\n",
      "\n",
      "kqjExMCGYrs7NduGZ 2021 ALLFED Highlights https://forum.effectivealtruism.org/posts/kqjExMCGYrs7NduGZ/2021-allfed-highlights\n",
      "\n",
      "rfpKuHt8CoBtjykyK How impactful is free and open source software development? https://forum.effectivealtruism.org/posts/rfpKuHt8CoBtjykyK/how-impactful-is-free-and-open-source-software-development\n",
      "\n",
      "9hQFfmbEiAoodstDA Simple comparison polling to create utility functions https://forum.effectivealtruism.org/posts/9hQFfmbEiAoodstDA/simple-comparison-polling-to-create-utility-functions\n",
      "\n",
      "CKfHDw5Lmoo6jahZD \n",
      "\n",
      "Nuclear Espionage and AI Governance https://forum.effectivealtruism.org/posts/CKfHDw5Lmoo6jahZD/nuclear-espionage-and-ai-governance-1\n",
      "\n",
      "jzWxsrJqcAcHmYM7r Beyond fire alarms: freeing the groupstruck https://forum.effectivealtruism.org/posts/jzWxsrJqcAcHmYM7r/beyond-fire-alarms-freeing-the-groupstruck\n",
      "\n",
      "vrixqjAR3uM5uipvd Funding public goods in identity-free systems https://forum.effectivealtruism.org/posts/vrixqjAR3uM5uipvd/funding-public-goods-in-identity-free-systems\n",
      "\n",
      "jfHPBbYFzCrbdEXXd How to succeed as an early-stage researcher: the “lean startup” approach https://forum.effectivealtruism.org/posts/jfHPBbYFzCrbdEXXd/how-to-succeed-as-an-early-stage-researcher-the-lean-startup\n",
      "\n",
      "7w95e9gh295ujACzm Learning, Knowledge, Intelligence, Mastery, Anki - TYHTL post 2 https://forum.effectivealtruism.org/posts/7w95e9gh295ujACzm/learning-knowledge-intelligence-mastery-anki-tyhtl-post-2\n",
      "\n",
      "pyvybGkGYaFAeNtGi Writing about my job: Software Engineer at Wave https://forum.effectivealtruism.org/posts/pyvybGkGYaFAeNtGi/writing-about-my-job-software-engineer-at-wave\n",
      "\n",
      "9tmvFFzFJGx4PsovJ Engineering the Apocalypse: Rob Reid and Sam Harris on engineered pandemics (transcript) https://forum.effectivealtruism.org/posts/9tmvFFzFJGx4PsovJ/engineering-the-apocalypse-rob-reid-and-sam-harris-on\n",
      "\n",
      "tjkTmc4vbFSPqJzCK Max Roser on building the world's first great source of COVID-19 data at Our World in Data https://forum.effectivealtruism.org/posts/tjkTmc4vbFSPqJzCK/max-roser-on-building-the-world-s-first-great-source-of\n",
      "\n",
      "8cr7godn8qN9wjQYj Decreasing populism and improving democracy, evidence-based policy, and rationality https://forum.effectivealtruism.org/posts/8cr7godn8qN9wjQYj/decreasing-populism-and-improving-democracy-evidence-based\n",
      "\n",
      "4d7NsFjwn4Nf6XcC9 Part 3: Comparing agency organisational models https://forum.effectivealtruism.org/posts/4d7NsFjwn4Nf6XcC9/part-3-comparing-agency-organisational-models\n",
      "\n",
      "oTJ5vMNwdWiHj2iKL Humanities Research Ideas for Longtermists https://forum.effectivealtruism.org/posts/oTJ5vMNwdWiHj2iKL/humanities-research-ideas-for-longtermists\n",
      "\n",
      "2pxGXYX2JrptvLpzZ AI Safety Career Bottlenecks Survey Responses Responses https://forum.effectivealtruism.org/posts/2pxGXYX2JrptvLpzZ/ai-safety-career-bottlenecks-survey-responses-responses\n",
      "\n",
      "X63mQHtLcS22DZbxc Opportunity for EA orgs: $5k/year in ETH (tech setup required) https://forum.effectivealtruism.org/posts/X63mQHtLcS22DZbxc/opportunity-for-ea-orgs-usd5k-year-in-eth-tech-setup\n",
      "\n",
      "HENDjaA37Euz9KqSp Ruth Grace Wong, Hayley Cashdollar, Glenn Matlin, Theresa Condor, & Diane Gillespie: Logistics at scale https://forum.effectivealtruism.org/posts/HENDjaA37Euz9KqSp/ruth-grace-wong-hayley-cashdollar-glenn-matlin-theresa\n",
      "\n",
      "kN3HgzDajBRAyS3sS The flaws that make today's AI architecture unsafe and a new approach that could fix it https://forum.effectivealtruism.org/posts/kN3HgzDajBRAyS3sS/the-flaws-that-make-today-s-ai-architecture-unsafe-and-a-new\n",
      "\n",
      "GqZwWikEvkCoeFnbg How to discuss topics that are emotionally loaded? https://forum.effectivealtruism.org/posts/GqZwWikEvkCoeFnbg/how-to-discuss-topics-that-are-emotionally-loaded\n",
      "\n",
      "6AWHK9RmsntANa4NJ What could a Biden Administration mean for farm animals? https://forum.effectivealtruism.org/posts/6AWHK9RmsntANa4NJ/what-could-a-biden-administration-mean-for-farm-animals\n",
      "\n",
      "ixLPyMNCLH2Jg7aBc EA Philly's Infodemics Event Part 1: Jeremy Blackburn https://forum.effectivealtruism.org/posts/ixLPyMNCLH2Jg7aBc/ea-philly-s-infodemics-event-part-1-jeremy-blackburn\n",
      "\n",
      "viRbHwAxDmnL9TL3M What organization could do the most good with a conversational AI assistant? https://forum.effectivealtruism.org/posts/viRbHwAxDmnL9TL3M/what-organization-could-do-the-most-good-with-a\n",
      "\n",
      "3sdxrWuNd4qCASWfQ Privacy as a Blind Spot: Are There Long Term Harms in Using Facebook, Google, Slack etc.? https://forum.effectivealtruism.org/posts/3sdxrWuNd4qCASWfQ/privacy-as-a-blind-spot-are-there-long-term-harms-in-using\n",
      "\n",
      "29mfRszEcpn6uLZAb ALLFED 2020 Highlights https://forum.effectivealtruism.org/posts/29mfRszEcpn6uLZAb/allfed-2020-highlights\n",
      "\n",
      "ziMZycDDeYD8ehfPk A beginner data scientist tries her hand at biosecurity https://forum.effectivealtruism.org/posts/ziMZycDDeYD8ehfPk/a-beginner-data-scientist-tries-her-hand-at-biosecurity\n",
      "\n",
      "tAcS34pGJ5RKSfsgy Calling on EA members to help fight infectious disease https://forum.effectivealtruism.org/posts/tAcS34pGJ5RKSfsgy/calling-on-ea-members-to-help-fight-infectious-disease\n",
      "\n",
      "sDtfchRXqKYACJqdm Effective Altruism Quest https://forum.effectivealtruism.org/posts/sDtfchRXqKYACJqdm/effective-altruism-quest\n",
      "\n",
      "Bb6bJBijEvRdgEXL3 EA in Germany: Insights about local groups https://forum.effectivealtruism.org/posts/Bb6bJBijEvRdgEXL3/ea-in-germany-insights-about-local-groups\n",
      "\n",
      "6aQtRkkq5CgYAYrsd EA Twitterbot https://forum.effectivealtruism.org/posts/6aQtRkkq5CgYAYrsd/ea-twitterbot\n",
      "\n",
      "Xjo23zhn6CPoijLSo A love letter to civilian OSINT, and possibilities as a tool in EA https://forum.effectivealtruism.org/posts/Xjo23zhn6CPoijLSo/a-love-letter-to-civilian-osint-and-possibilities-as-a-tool\n",
      "\n",
      "TDssNnJsZmiLkhzC4 Forecasting Newsletter: May 2020. https://forum.effectivealtruism.org/posts/TDssNnJsZmiLkhzC4/forecasting-newsletter-may-2020\n",
      "\n",
      "Mq59Cz37MFtpRR8jd Food Crisis - Cascading Events from COVID-19 & Locusts https://forum.effectivealtruism.org/posts/Mq59Cz37MFtpRR8jd/food-crisis-cascading-events-from-covid-19-and-locusts\n",
      "\n",
      "YPdP2RzSP3ADYTeBM [Cross Post] Why China could be a very important country. https://forum.effectivealtruism.org/posts/YPdP2RzSP3ADYTeBM/cross-post-why-china-could-be-a-very-important-country\n",
      "\n",
      "Ayu5im98u8FeMWoBZ My personal cruxes for working on AI safety https://forum.effectivealtruism.org/posts/Ayu5im98u8FeMWoBZ/my-personal-cruxes-for-working-on-ai-safety\n",
      "\n",
      "JbmZSrBWhZdbcS8hQ EA Hotel Fundraiser 8: Life at the EA Hotel, and Testimonials https://forum.effectivealtruism.org/posts/JbmZSrBWhZdbcS8hQ/ea-hotel-fundraiser-8-life-at-the-ea-hotel-and-testimonials\n",
      "\n",
      "XA8QSCL7wZ973i6vr AGI safety and losing electricity/industry resilience cost-effectiveness https://forum.effectivealtruism.org/posts/XA8QSCL7wZ973i6vr/agi-safety-and-losing-electricity-industry-resilience-cost\n",
      "\n",
      "f7Nqt7g229eF9nh6Q EA Updates for October 2019 https://forum.effectivealtruism.org/posts/f7Nqt7g229eF9nh6Q/ea-updates-for-october-2019\n",
      "\n",
      "5nCijr7A9MfZ48o6f Introducing Foretold.io: A New Open-Source Prediction Registry https://forum.effectivealtruism.org/posts/5nCijr7A9MfZ48o6f/introducing-foretold-io-a-new-open-source-prediction\n",
      "\n",
      "pLQw2ikeC9sBaAQoy Who runs the Forum?  https://forum.effectivealtruism.org/posts/pLQw2ikeC9sBaAQoy/who-runs-the-forum\n",
      "\n",
      "JmNpvABPS2iXvpBNY Russian x-risks newsletter, summer 2019  https://forum.effectivealtruism.org/posts/JmNpvABPS2iXvpBNY/russian-x-risks-newsletter-summer-2019\n",
      "\n",
      "ZKJeRWBEePvAbh793 How Effective Altruism can Transform the Internet https://forum.effectivealtruism.org/posts/ZKJeRWBEePvAbh793/how-effective-altruism-can-transform-the-internet\n",
      "\n",
      "2LpW22MpmAPuiraJt Announcing EA Hub 2.0 https://forum.effectivealtruism.org/posts/2LpW22MpmAPuiraJt/announcing-ea-hub-2-0\n",
      "\n",
      "izZssKwg9smCz5qrb What open source projects should effective altruists contribute to? https://forum.effectivealtruism.org/posts/izZssKwg9smCz5qrb/what-open-source-projects-should-effective-altruists\n",
      "\n",
      "HwBsTZEzGyAjQLoe7 Identifying Talent without Credentialing In EA https://forum.effectivealtruism.org/posts/HwBsTZEzGyAjQLoe7/identifying-talent-without-credentialing-in-ea\n",
      "\n",
      "Rkr2W8ADSGwWXfRBF Effective Impact Investing https://forum.effectivealtruism.org/posts/Rkr2W8ADSGwWXfRBF/effective-impact-investing\n",
      "\n",
      "j7xz4rQidfRgFo6KC EA Hotel Fundraiser 2: Current guests and their projects https://forum.effectivealtruism.org/posts/j7xz4rQidfRgFo6KC/ea-hotel-fundraiser-2-current-guests-and-their-projects\n",
      "\n",
      "CcNY4MrT5QstNh4r7 Cost-Effectiveness of Foods for Global Catastrophes: Even Better than Before? https://forum.effectivealtruism.org/posts/CcNY4MrT5QstNh4r7/cost-effectiveness-of-foods-for-global-catastrophes-even\n",
      "\n",
      "iSjttL9PPq9eiqrc3 EA Survey 2018 Series: Distribution and Analysis Methodology https://forum.effectivealtruism.org/posts/iSjttL9PPq9eiqrc3/ea-survey-2018-series-distribution-and-analysis-methodology\n",
      "\n",
      "JdqHvyy2Tjcj3nKoD EA Hotel with free accommodation and board for two years https://forum.effectivealtruism.org/posts/JdqHvyy2Tjcj3nKoD/ea-hotel-with-free-accommodation-and-board-for-two-years-1\n",
      "\n",
      "n6dtnP5babfNaz2bW 69 things that might be pretty effective to fund https://forum.effectivealtruism.org/posts/n6dtnP5babfNaz2bW/69-things-that-might-be-pretty-effective-to-fund\n",
      "\n",
      "7XRjb3Tx8j36AcBpb Should we be spending no less on alternate foods than AI now? https://forum.effectivealtruism.org/posts/7XRjb3Tx8j36AcBpb/should-we-be-spending-no-less-on-alternate-foods-than-ai-now\n",
      "\n",
      "TuzkYANf7tmQDF2Hk EA Survey 2017 Series: Distribution and Analysis Methodology https://forum.effectivealtruism.org/posts/TuzkYANf7tmQDF2Hk/ea-survey-2017-series-distribution-and-analysis-methodology\n",
      "\n",
      "xwqjjH7MGtPgyYDTS The map of organizations, sites and people involved in x-risks prevention https://forum.effectivealtruism.org/posts/xwqjjH7MGtPgyYDTS/the-map-of-organizations-sites-and-people-involved-in-x\n",
      "\n",
      "8sLJn2eRXHMGSiACW EA Interview Series, February 2016: John Salvatier https://forum.effectivealtruism.org/posts/8sLJn2eRXHMGSiACW/ea-interview-series-february-2016-john-salvatier\n",
      "\n",
      "F7hZ8co3L82nTdX4f Do EAs underestimate opportunities to create many small benefits? https://forum.effectivealtruism.org/posts/F7hZ8co3L82nTdX4f/do-eas-underestimate-opportunities-to-create-many-small\n",
      "\n",
      "Bt4nkCGHKBkDk97mn Guesstimate: An app for making decisions with confidence (intervals) https://forum.effectivealtruism.org/posts/Bt4nkCGHKBkDk97mn/guesstimate-an-app-for-making-decisions-with-confidence\n",
      "\n",
      "oAGsougkQtNbvdrdN EA projects update - November 2015 https://forum.effectivealtruism.org/posts/oAGsougkQtNbvdrdN/ea-projects-update-november-2015\n",
      "\n",
      "YvGntsuLXzff6Gbdg Peter's 2015 Q1 Personal Review https://forum.effectivealtruism.org/posts/YvGntsuLXzff6Gbdg/peter-s-2015-q1-personal-review\n",
      "\n",
      "hNW4fwpgmSERhSgxs Reintroducing .impact https://forum.effectivealtruism.org/posts/hNW4fwpgmSERhSgxs/reintroducing-impact\n",
      "\n",
      "9qqds7Z3Ykd9Kdeay Should you donate to the Wikimedia Foundation? https://forum.effectivealtruism.org/posts/9qqds7Z3Ykd9Kdeay/should-you-donate-to-the-wikimedia-foundation\n",
      "\n",
      "C9ocXigPfNndZqn8j We might be getting a lot of new EAs. What are we going to do when they arrive? https://forum.effectivealtruism.org/posts/C9ocXigPfNndZqn8j/we-might-be-getting-a-lot-of-new-eas-what-are-we-going-to-do\n",
      "\n",
      "6rSi8Mq6jf4Po5Huy Last month in EA projects (from .impact - next meeting on Sunday) https://forum.effectivealtruism.org/posts/6rSi8Mq6jf4Po5Huy/last-month-in-ea-projects-from-impact-next-meeting-on-sunday\n",
      "\n",
      "E4JJCbAh5KyHcbGym The Impact you can (and can't) Make in an Hour https://forum.effectivealtruism.org/posts/E4JJCbAh5KyHcbGym/the-impact-you-can-and-can-t-make-in-an-hour\n",
      "\n",
      "yNn2o3kEhixZHkRga Certificates of impact https://forum.effectivealtruism.org/posts/yNn2o3kEhixZHkRga/certificates-of-impact\n",
      "\n"
     ]
    }
   ],
   "source": [
    "for i, doc in enumerate(potential_projects):\n",
    "    print(doc[\"_id\"], doc['title'], doc[\"pageUrl\"])\n",
    "    print()"
   ]
  },
  {
   "cell_type": "code",
   "execution_count": 33,
   "id": "b737c0ce",
   "metadata": {},
   "outputs": [],
   "source": [
    "### Labeling notes: you need maybe the first two pargraphs to decide\n"
   ]
  },
  {
   "cell_type": "code",
   "execution_count": 12,
   "id": "2083fbc9",
   "metadata": {},
   "outputs": [
    {
     "name": "stdout",
     "output_type": "stream",
     "text": [
      "68 toDKgyu3HdzKyQHPb https://forum.effectivealtruism.org/events/toDKgyu3HdzKyQHPb/introduction-to-effective-altruism-houston-effective\n",
      "69 ipWNDXTdXgDfSw6fu https://forum.effectivealtruism.org/posts/ipWNDXTdXgDfSw6fu/introducing-generally-intelligent-an-ai-research-lab-focused\n",
      "70 DDsTgC59MER7cPiRh https://forum.effectivealtruism.org/posts/DDsTgC59MER7cPiRh/introducing-cause-innovation-bootcamp\n",
      "71 FxioucsYBENvp7KEH https://forum.effectivealtruism.org/posts/FxioucsYBENvp7KEH/introducing-the-basic-post-scarcity-map\n",
      "72 7xPfFQgL2gPPSygHd https://forum.effectivealtruism.org/posts/7xPfFQgL2gPPSygHd/introduction\n",
      "73 D5RdHgzeczrDKKywH https://forum.effectivealtruism.org/posts/D5RdHgzeczrDKKywH/introducing-school-of-thinking-1\n",
      "74 cpfgq84B8XHXPWLcM https://forum.effectivealtruism.org/posts/cpfgq84B8XHXPWLcM/introduction-to-fermi-estimates\n",
      "75 KrjyrsRky5JL4P5MF https://forum.effectivealtruism.org/posts/KrjyrsRky5JL4P5MF/introducing-the-existential-risks-introductory-course-eric-1\n",
      "76 JAyzCQbjbaa4FXhpR https://forum.effectivealtruism.org/posts/JAyzCQbjbaa4FXhpR/introduction-to-ea-or-ajeya-cotra-or-eagxberkeley-2016\n",
      "77 ZhNaizQgYY9dXdQkM https://forum.effectivealtruism.org/posts/ZhNaizQgYY9dXdQkM/introduction-to-effective-altruism-17\n",
      "78 gNHjEmLeKM47FDdqM https://forum.effectivealtruism.org/posts/gNHjEmLeKM47FDdqM/introducing-the-fund-for-alignment-research-we-re-hiring-1\n",
      "79 TT3gNbA534C7HNBCF https://forum.effectivealtruism.org/posts/TT3gNbA534C7HNBCF/introducing-the-ea-good-governance-project\n",
      "80 Ya8THw57ZPQTetv48 https://forum.effectivealtruism.org/posts/Ya8THw57ZPQTetv48/introducing-impactful-animal-advocacy-community-newsletter\n",
      "81 ZrN4MktmFnaBSqpEP https://forum.effectivealtruism.org/posts/ZrN4MktmFnaBSqpEP/introduction-to-non-ea-international-charity-orgs\n",
      "82 a4mFh3PySygwmWiAK https://forum.effectivealtruism.org/posts/a4mFh3PySygwmWiAK/introducing-spirit-hazards\n",
      "83 9gLtXR6KkZEYie8Au https://forum.effectivealtruism.org/posts/9gLtXR6KkZEYie8Au/introducing-eaecon-community-building-project\n",
      "84 Mts84Mv5cFHRYBBA8 https://forum.effectivealtruism.org/posts/Mts84Mv5cFHRYBBA8/introducing-asterisk\n",
      "85 MskKEsj8nWREoMjQK https://forum.effectivealtruism.org/posts/MskKEsj8nWREoMjQK/introduction-to-pragmatic-ai-safety-pragmatic-ai-safety-1\n",
      "86 9RYvJu2iNJMXgWCBn https://forum.effectivealtruism.org/posts/9RYvJu2iNJMXgWCBn/introducing-the-ml-safety-scholars-program\n",
      "87 jvs9HhcpW5pMdAXdB https://forum.effectivealtruism.org/posts/jvs9HhcpW5pMdAXdB/introducing-canopy-retreats\n",
      "88 YNP9MZj5qqr46zsj7 https://forum.effectivealtruism.org/posts/YNP9MZj5qqr46zsj7/introducing-ea-tech-network\n",
      "89 LtAxekypaye4bEphS https://forum.effectivealtruism.org/posts/LtAxekypaye4bEphS/introducing-a-new-ea-dating-app-updating\n",
      "90 W54QQSghCEioADCMt https://forum.effectivealtruism.org/posts/W54QQSghCEioADCMt/introducing-ea-nasir\n",
      "91 wHNt6XbbthLkKdLjN https://forum.effectivealtruism.org/posts/wHNt6XbbthLkKdLjN/introductory-video-on-safeguarding-the-long-term-future\n",
      "92 GCAbm8Mjg8jnK6gNb https://forum.effectivealtruism.org/posts/GCAbm8Mjg8jnK6gNb/introducing-80k-after-hours-2\n",
      "93 gqAzR4BjbrNjzgcDf https://forum.effectivealtruism.org/posts/gqAzR4BjbrNjzgcDf/introducing-animal-empathy-philippines\n",
      "94 i2Q3DTsQq9THhFEgR https://forum.effectivealtruism.org/posts/i2Q3DTsQq9THhFEgR/introducing-effective-self-help\n",
      "95 FJsk9i9c9zLC7eKLF https://forum.effectivealtruism.org/posts/FJsk9i9c9zLC7eKLF/introducing-a-new-course-on-the-economics-of-ai\n",
      "96 Ckont9EtqkenegLYv https://forum.effectivealtruism.org/posts/Ckont9EtqkenegLYv/introducing-the-principles-of-intelligent-behaviour-in\n",
      "97 QpGibphc3ECSwmZCC https://forum.effectivealtruism.org/posts/QpGibphc3ECSwmZCC/introducing-high-impact-medicine-hi-med\n",
      "98 z79ycP5jCDks4LPxA https://forum.effectivealtruism.org/posts/z79ycP5jCDks4LPxA/introducing-shrimp-welfare-project\n",
      "99 4QGhyXjXM4yJBvNap https://forum.effectivealtruism.org/posts/4QGhyXjXM4yJBvNap/introducing-healthier-hens\n",
      "100 M2KrWyG2X8iQaHGJv https://forum.effectivealtruism.org/posts/M2KrWyG2X8iQaHGJv/introducing-high-impact-professionals\n",
      "101 eKK2ryF9cDmvyAW33 https://forum.effectivealtruism.org/posts/eKK2ryF9cDmvyAW33/introducing-training-for-good-tfg\n",
      "102 kR8AiZwJ5SmiqysHA https://forum.effectivealtruism.org/posts/kR8AiZwJ5SmiqysHA/introducing-playpumps-productivity-system\n",
      "103 gkdwxkYt49z4ofyrF https://forum.effectivealtruism.org/posts/gkdwxkYt49z4ofyrF/introducing-ea-to-policymakers-researchers-at-the-ecb\n",
      "104 NnrHvJALEKH4Ykzyt https://forum.effectivealtruism.org/posts/NnrHvJALEKH4Ykzyt/introducing-teamwork-an-ea-coworking-space-in-berlin\n",
      "105 kK9WfSr52hwqhHXHp https://forum.effectivealtruism.org/posts/kK9WfSr52hwqhHXHp/introducing-the-existential-risk-observatory\n",
      "106 WXjtCF6yKWpBrmzt7 https://forum.effectivealtruism.org/posts/WXjtCF6yKWpBrmzt7/introducing-the-ea-public-interest-technologists-slack\n",
      "107 fDpvqSa6K3TjmxBr7 https://forum.effectivealtruism.org/posts/fDpvqSa6K3TjmxBr7/introducing-rational-animations\n",
      "108 fPser4Fppw2CEgent https://forum.effectivealtruism.org/posts/fPser4Fppw2CEgent/introducing-geeffektivt-se\n",
      "109 eKn7TDxMSSsoHhcap https://forum.effectivealtruism.org/posts/eKn7TDxMSSsoHhcap/introducing-the-simon-institute-for-longterm-governance-si\n",
      "110 5EqJozsDdHcF7dpPL https://forum.effectivealtruism.org/posts/5EqJozsDdHcF7dpPL/introduction-to-effective-altruism-ajeya-cotra\n",
      "111 fX8JsabQyRSd7zWiD https://forum.effectivealtruism.org/posts/fX8JsabQyRSd7zWiD/introducing-the-nonlinear-fund-ai-safety-research-incubation\n",
      "112 tEo5oXeSNcB3sYr8m https://forum.effectivealtruism.org/posts/tEo5oXeSNcB3sYr8m/introducing-metaforecast-a-forecast-aggregator-and-search\n",
      "113 ySwarSKFzxKLhCyo8 https://forum.effectivealtruism.org/posts/ySwarSKFzxKLhCyo8/introduction-to-longtermism\n",
      "114 cFfc2a7YWNYn33qr7 https://forum.effectivealtruism.org/posts/cFfc2a7YWNYn33qr7/introducing-a-project-on-accountability-in-governance-plus-a\n",
      "115 eMyDQZ53M9pTmJfMq https://forum.effectivealtruism.org/posts/eMyDQZ53M9pTmJfMq/introducing-family-empowerment-media\n",
      "116 acBujAbWrpCGaC75g https://forum.effectivealtruism.org/posts/acBujAbWrpCGaC75g/introducing-animal-advocacy-africa\n",
      "117 tZ9DkhNiDduSBqshZ https://forum.effectivealtruism.org/posts/tZ9DkhNiDduSBqshZ/introduction-to-the-philosophy-of-well-being\n",
      "118 Fm3HWDZKtwdkvBzGL https://forum.effectivealtruism.org/posts/Fm3HWDZKtwdkvBzGL/introducing-high-impact-athletes\n",
      "119 xnLwyRAAJjGRk6FSn https://forum.effectivealtruism.org/posts/xnLwyRAAJjGRk6FSn/introducing-ayuda-efectiva\n",
      "120 rq6rh7BfzGzKkb7MM https://forum.effectivealtruism.org/posts/rq6rh7BfzGzKkb7MM/introducing-animal-ask\n",
      "121 3QufK3jjQ5aqksaJu https://forum.effectivealtruism.org/posts/3QufK3jjQ5aqksaJu/introducing-probably-good-a-new-career-guidance-organization\n",
      "122 fd96FtLFACeAshqJP https://forum.effectivealtruism.org/posts/fd96FtLFACeAshqJP/introducing-leep-lead-exposure-elimination-project\n",
      "123 PvBLDPkqKvdHQkKPn https://forum.effectivealtruism.org/posts/PvBLDPkqKvdHQkKPn/introducing-the-legal-priorities-project\n",
      "124 ZHokSM6xL8pbrcYfQ https://forum.effectivealtruism.org/posts/ZHokSM6xL8pbrcYfQ/introducing-luke-freeman-as-head-of-giving-what-we-can\n",
      "125 sXbyKbm2kFSxH8ked https://forum.effectivealtruism.org/posts/sXbyKbm2kFSxH8ked/introduction-to-wild-animal-suffering-a-guide-to-the-issues\n",
      "126 oHQCPtyA5kSMu7o5p https://forum.effectivealtruism.org/posts/oHQCPtyA5kSMu7o5p/introducing-animal-advocacy-careers\n",
      "127 xAZ4pCFtYdkMi54JS https://forum.effectivealtruism.org/posts/xAZ4pCFtYdkMi54JS/introduction-a-primer-for-politics-policy-and-international\n",
      "128 HW2xZcPBmZ2upWjFt https://forum.effectivealtruism.org/posts/HW2xZcPBmZ2upWjFt/introducing-the-sentience-institute-podcast\n",
      "129 igjJ3LrgrfWNm5Zzq https://forum.effectivealtruism.org/posts/igjJ3LrgrfWNm5Zzq/introducing-good-policies-a-new-charity-promoting-behaviour\n",
      "130 5nCijr7A9MfZ48o6f https://forum.effectivealtruism.org/posts/5nCijr7A9MfZ48o6f/introducing-foretold-io-a-new-open-source-prediction\n",
      "131 iMofrSc86iSR7EiAG https://forum.effectivealtruism.org/posts/iMofrSc86iSR7EiAG/introducing-fish-welfare-initiative-1\n",
      "132 cpJRB7thJpESTquBK https://forum.effectivealtruism.org/posts/cpJRB7thJpESTquBK/introducing-gpi-s-new-research-agenda\n",
      "133 LLAffXYqtYdWJ4fwr https://forum.effectivealtruism.org/posts/LLAffXYqtYdWJ4fwr/introducing-the-life-you-can-save-mobile-app\n",
      "134 624k2Acbo5Tn9Swrt https://forum.effectivealtruism.org/posts/624k2Acbo5Tn9Swrt/introducing-ea-resources-by-lean\n",
      "135 KvLyxHcwCforffpkC https://forum.effectivealtruism.org/posts/KvLyxHcwCforffpkC/introduction-to-effective-altruism-reading-list\n",
      "136 k8adLKtEBJw7QWPK5 https://forum.effectivealtruism.org/posts/k8adLKtEBJw7QWPK5/introducing-charity-entrepreneurship-an-incubation-and\n",
      "137 E5uGZguvMhSuuga6M https://forum.effectivealtruism.org/posts/E5uGZguvMhSuuga6M/introducing-czech-association-for-effective-altruism-history\n",
      "138 9QHDQ2PwSnMEJ5Pzw https://forum.effectivealtruism.org/posts/9QHDQ2PwSnMEJ5Pzw/introducing-ea-work-club-high-impact-jobs-and-side-projects\n",
      "139 dq3m4ZukTHHYd2g4H https://forum.effectivealtruism.org/posts/dq3m4ZukTHHYd2g4H/introducing-canada-s-first-political-advocacy-group-on-ai\n",
      "140 soSph9SajQd5wWtnq https://forum.effectivealtruism.org/posts/soSph9SajQd5wWtnq/introducing-fortify-health-an-ea-aligned-charity-startup\n",
      "141 NkJv2F4zfrnnjTEtF https://forum.effectivealtruism.org/posts/NkJv2F4zfrnnjTEtF/introducing-improving-autonomy\n",
      "142 574d3ybRG3ZT4a74o https://forum.effectivealtruism.org/posts/574d3ybRG3ZT4a74o/introducing-the-ea-involvement-guide\n",
      "143 zkq8GY9PXmXRA3Bnh https://forum.effectivealtruism.org/posts/zkq8GY9PXmXRA3Bnh/introducing-sentience-institute\n",
      "144 Zxuksovf23qWgs37J https://forum.effectivealtruism.org/posts/Zxuksovf23qWgs37J/introducing-cea-s-guiding-principles\n",
      "145 a8eng4PbME85vdoep https://forum.effectivealtruism.org/posts/a8eng4PbME85vdoep/introducing-the-ea-funds\n",
      "146 nXWTbh6zzGQXfDM5D https://forum.effectivealtruism.org/posts/nXWTbh6zzGQXfDM5D/introducing-envision-a-new-ea-aligned-organization\n",
      "147 bH85uy2N9vnrM8vKp https://forum.effectivealtruism.org/posts/bH85uy2N9vnrM8vKp/introducing-the-ea-assembly\n",
      "148 MJjWntfSNiP5W4KDB https://forum.effectivealtruism.org/posts/MJjWntfSNiP5W4KDB/introducing-rebecca-raible-a-new-moderator\n",
      "149 nbjAuBFjEKaXbn4y4 https://forum.effectivealtruism.org/posts/nbjAuBFjEKaXbn4y4/introducing-moral-economics\n",
      "150 EwGRzxJQpoeirPs56 https://forum.effectivealtruism.org/posts/EwGRzxJQpoeirPs56/introducing-effective-altruism-policy-analytics-request-for\n",
      "151 pZqGSzFPkMCsnu5rv https://forum.effectivealtruism.org/posts/pZqGSzFPkMCsnu5rv/introducing-alison-our-new-forum-moderator\n",
      "152 mzD4XCgSXugrgMAw8 https://forum.effectivealtruism.org/posts/mzD4XCgSXugrgMAw8/introducing-the-impact-fund-paying-for-small-costs-and-va\n",
      "153 6KrsMimFJb3BiRFAp https://forum.effectivealtruism.org/posts/6KrsMimFJb3BiRFAp/introducing-a-website-for-local-ea-groups\n",
      "154 ktsPJuhvTvgG3nkKn https://forum.effectivealtruism.org/posts/ktsPJuhvTvgG3nkKn/introducing-an-ea-donation-registry\n",
      "155 5kFwcwDawAHZx6Tqd https://forum.effectivealtruism.org/posts/5kFwcwDawAHZx6Tqd/introducing-ea-profiles\n",
      "156 TYEt3ZN8KwcAqQ8Nf https://forum.effectivealtruism.org/posts/TYEt3ZN8KwcAqQ8Nf/introduce-yourself\n"
     ]
    }
   ],
   "source": [
    "for i, doc in enumerate(intro_docs):\n",
    "    print(i+68, doc[\"_id\"], doc[\"pageUrl\"])"
   ]
  },
  {
   "cell_type": "code",
   "execution_count": 10,
   "id": "449e5573",
   "metadata": {
    "scrolled": true
   },
   "outputs": [
    {
     "data": {
      "text/plain": [
       "133"
      ]
     },
     "execution_count": 10,
     "metadata": {},
     "output_type": "execute_result"
    }
   ],
   "source": [
    "len(announcing_docs)"
   ]
  },
  {
   "cell_type": "code",
   "execution_count": 11,
   "id": "6bf3aa43",
   "metadata": {
    "scrolled": false
   },
   "outputs": [
    {
     "data": {
      "text/plain": [
       "['Announcing: What Future World? - Growing the AI Governance Community',\n",
       " 'Announcing vodle, a web app for consensus-aiming collective decisions',\n",
       " 'Announcing The Most Important Century Writing Prize',\n",
       " 'Announcing EA Survey 2022',\n",
       " 'Announcing the Founders Pledge Global Catastrophic Risks Fund',\n",
       " \"Announcing Metaculus's 'Red Lines in Ukraine' Forecasting Project\",\n",
       " 'Announcing Squigglepy, a Python package for Squiggle',\n",
       " 'Announcing VIVID: A new EA organization aspiring to scale effective self-improvement & reflection',\n",
       " 'Announcing Amplify creative grants',\n",
       " 'Announcing the AI Safety Nudge Competition to Help Beat Procrastination',\n",
       " 'Announcing Charity Entrepreneurship’s 2023 ideas. Apply now. ',\n",
       " \"Announcing the Future Fund's AI Worldview Prize\",\n",
       " 'Announcing the Rethink Priorities Special Projects Program',\n",
       " 'Announcing Applications Now Open for Johns Hopkins Center for Health Security’s PhD Opportunities',\n",
       " 'Announcing “Effective Dropouts”',\n",
       " 'Announcing EA Pulse, large monthly US surveys on EA',\n",
       " 'Announcing the NYU Mind, Ethics, and Policy Program',\n",
       " 'Announcing an Empirical AI Safety Program',\n",
       " 'Announcing the Space Futures Initiative',\n",
       " 'Announcing a Philosophy Fellowship for AI Safety',\n",
       " 'Announcing the Change Our Mind Contest for critiques of our cost-effectiveness analyses',\n",
       " \"Announcing the winners of LPP's writing competition\",\n",
       " 'Announcing a new introduction to effective altruism',\n",
       " 'Announcing the Longtermism Fellowship of EA Munich - Apply!',\n",
       " 'Announcing Animal Advocacy Careers’ introductory course (2022 cohort)',\n",
       " 'Announcing the Distillation for Alignment Practicum (DAP)',\n",
       " 'Announcing Encultured AI: \\nBuilding a Video Game',\n",
       " 'Announcing the EA Gather Town Event Hall as a global hub for online events',\n",
       " 'Announcing the Longtermism Fund',\n",
       " 'Announcing: Mechanism Design for AI Safety - Reading Group',\n",
       " 'Announcing the Introduction to ML Safety Course',\n",
       " 'Announcing Squiggle: Early Access',\n",
       " 'Announcing the GovAI Policy Team',\n",
       " 'Announcing: the Prague Fall Season',\n",
       " 'Announcing the AI Safety Field Building Hub, a new effort to provide AISFB projects, mentorship, and funding',\n",
       " 'Announcing Non-trivial, an EA learning platform for teenagers',\n",
       " 'Announcing the Center for Space Governance',\n",
       " 'Announcing Future Forum - Apply Now',\n",
       " 'Announcing: EA Engineers',\n",
       " 'Announcing the Harvard AI Safety Team',\n",
       " 'Announcing the SPT Model Web App for AI Governance',\n",
       " 'Announcing Epoch: A research organization investigating the road to Transformative AI',\n",
       " 'Announcing giveffektivt.dk',\n",
       " 'Announcing the Clearer Thinking Regrants program',\n",
       " 'Announcing the New York Effective Altruism Hub: a coworking and event space (+AIS/longtermism office scoping)',\n",
       " \"Announcing the launch of Open Phil's new website\",\n",
       " 'Announcing the Legal Priorities Project Writing Competition: Improving Cost-Benefit Analysis to Account for Existential and Catastrophic Risks',\n",
       " 'Announcing a contest: EA Criticism and Red Teaming',\n",
       " 'Announcing: CE Career Coaching for Impact-focused Entrepreneurs ',\n",
       " 'Announcing the Nucleic Acid Observatory project for early detection of catastrophic biothreats',\n",
       " 'Announcing the Forecasting Wiki',\n",
       " 'Announcing What The Future Owes Us',\n",
       " 'Announcing the actual longtermist incubation program',\n",
       " 'Announcing Impact Island: A New EA Reality TV Show',\n",
       " 'Announcing: EAGxVRChat',\n",
       " 'Announcing What We Owe The Future',\n",
       " 'Announcing the EU Tech Policy Fellowship',\n",
       " 'Announce summer EA internships farther in advance',\n",
       " 'Announcing the CERI Summer Research Fellowship',\n",
       " 'Announcing the Future Fund',\n",
       " 'Announcing Alvea—An EA COVID Vaccine Project',\n",
       " 'Announcing the Reducetarian Fellowship!',\n",
       " 'Announcing a Student Essay Contest on The Precipice',\n",
       " 'Announcing EffectiveCrypto.org, powered by EA Funds',\n",
       " 'Announcing my retirement',\n",
       " 'Announcing our 2021 charity recommendations',\n",
       " 'Announcement: Calling for Applications for the Southeast Asia Farm Animal Welfare Fellowship Programme! [Deadline: 10 Nov 2021]',\n",
       " 'Announcing the Patient Philanthropy Fund',\n",
       " 'Announcing: Mind Ease acquires UpLift, two EA mental health apps merge',\n",
       " 'Announcing and seeking feedback on the READI philanthropy database project',\n",
       " 'Announcing the Vitalik Buterin Fellowships in AI Existential Safety!',\n",
       " 'Announcing riesgoscatastroficosglobales.com',\n",
       " 'Announcing the EA Behavioral Science Newsletter',\n",
       " 'Announcing the launch of EA Impact CoLabs (beta) + request for projects, volunteers and feedback',\n",
       " 'Announcing the Open Philanthropy Undergraduate Scholarship',\n",
       " 'Announcing our 2021 ACE Movement Grants',\n",
       " 'Announcing the Nuclear Risk Forecasting Tournament',\n",
       " 'Announcing the UK Covid-19 Crowd Forecasting Challenge',\n",
       " 'Announcing \"Naming What We Can\"!',\n",
       " 'Announcing AXRP, the AI X-risk Research Podcast',\n",
       " 'Announcement: applications for the 2021 Charity Entrepreneurship Incubation Program are now open!',\n",
       " 'Announcing AI Safety Support',\n",
       " 'Announcing the Forecasting Innovation Prize',\n",
       " 'Announcing the first International Effective Giving Day (November 30, 2020)',\n",
       " 'Announcing our Fall 2020 ACE Movement Grants',\n",
       " 'Announcing our summer 2020 ACE Movement Grants',\n",
       " 'Announcing: Progress Studies Reading Group',\n",
       " 'Announcing the EA Virtual Group*',\n",
       " 'Announcing altruisto 3.0 - app that lets you donate to EA-aligned charities while shopping online',\n",
       " 'Announcing Web-TAISU, May 13-17',\n",
       " 'Announcement: applications for the 2020 Charity Entrepreneurship Incubation Program are now open!',\n",
       " 'Announcing Li Wenliang Prize for forecasting the COVID-19 outbreak',\n",
       " 'Announcing EA for Christians Annual Conference in London',\n",
       " 'Announcing the Bentham Prize',\n",
       " 'Announcement: early applications for Charity Entrepreneurship’s 2020 Incubation Program are now open!',\n",
       " 'Announcing our 2019 top charities',\n",
       " 'Announcing our 2019 charity recommendations',\n",
       " 'Announcing the 2019-20 Donor Lottery',\n",
       " 'Announcing A Volunteer Research Team at EA Israel!',\n",
       " 'Announcing the launch of the German Effective Altruism Network: NEAD',\n",
       " 'Announcing plans for a German Effective Altruism Network focused on Community Building',\n",
       " 'Announcing the Buddhists in EA Group',\n",
       " 'Announcing the launch of the Happier Lives Institute',\n",
       " 'Announcing EA Hub 2.0',\n",
       " 'Announcement: Join the EA Careers Advising Network!',\n",
       " 'Announcing a call for grant applicants in Southeast Asia and Bangladesh',\n",
       " 'Announcing an updated drawing protocol for the EffectiveAltruism.org donor lotteries',\n",
       " 'Announcing Wild Animal Initiative',\n",
       " 'Announcing a predoctoral research programme in economics\\nat the Global Priorities Institute',\n",
       " 'Announcing EA Funds management AMAs: 20th December',\n",
       " 'Announcing the new Forethought Foundation for Global Priorities Research',\n",
       " 'Announcing the EA donation swap system',\n",
       " 'Announcing new EA Funds management teams',\n",
       " 'Announcing: \"Lets-Fund.org: High-Impact Crowdfunding campaigns\" & \"Let\\'s Fund #1: A (small) scientific Revolution\"',\n",
       " 'Announcing the EA Angel Group - Seeking EAs with the Time and Money to Evaluate and Fund Early-Stage Grants',\n",
       " \"Announcing WASR's Grants Competition\",\n",
       " 'Announcing PriorityWiki: A Cause Prioritization Wiki',\n",
       " 'Announcing the second AI Safety Camp',\n",
       " 'Announcing the Effective Altruism Handbook, 2nd edition',\n",
       " 'Announcing Rethink Priorities ',\n",
       " 'Announcing Effective Altruism Community Building Grants',\n",
       " 'Announcing the 2017 donor lottery',\n",
       " 'Announcing Effective Altruism Grants',\n",
       " 'Announcing \"Everyday Heroes of Effective Giving\" Series',\n",
       " 'Announcement: crowdsourcing argumentation at IARPA',\n",
       " 'Announcing the Good Technology Project',\n",
       " 'Announcing ImpactMatters: Auditing Charity Impact across Causes',\n",
       " 'Announcing the new EA Wiki!',\n",
       " 'Announcing the Doing Good Better Giveaway',\n",
       " 'Announcing the Effective Altruism Newsletter',\n",
       " 'Announcing Effective Altruism Ventures',\n",
       " 'Announcing EffectiveAltruism.org',\n",
       " 'Announcing a forthcoming book on effective altruism']"
      ]
     },
     "execution_count": 11,
     "metadata": {},
     "output_type": "execute_result"
    }
   ],
   "source": [
    "announcing_docs[\"title\"]"
   ]
  },
  {
   "cell_type": "code",
   "execution_count": 12,
   "id": "1a541f0c",
   "metadata": {},
   "outputs": [
    {
     "name": "stderr",
     "output_type": "stream",
     "text": [
      "Loading cached processed dataset at /home/justy/workspace/ea/ea-forum-announcements/data/posts/cache-b47c14b95d8ccbc8.arrow\n"
     ]
    }
   ],
   "source": [
    "cea = dataset.filter(lambda doc: \"cambridge effective altruism\" in doc['body'].lower())"
   ]
  },
  {
   "cell_type": "code",
   "execution_count": 13,
   "id": "cfd90614",
   "metadata": {},
   "outputs": [
    {
     "data": {
      "text/plain": [
       "['\\nMonthly Overload of EA - September 2022',\n",
       " 'The EAIF is discontinuing most university group funding',\n",
       " 'Animal Welfare Fund: April 2022 grant recommendations',\n",
       " 'Monthly Overload of EA - August 2022',\n",
       " 'EA Infrastructure Fund: September–December 2021 grant recommendations',\n",
       " 'Skilling-up in ML Engineering for Alignment: request for comments',\n",
       " 'Contribute by facilitating the AGI Safety Fundamentals Programme',\n",
       " 'Retrospective on Teaching Rationality Workshops']"
      ]
     },
     "execution_count": 13,
     "metadata": {},
     "output_type": "execute_result"
    }
   ],
   "source": [
    "cea[\"title\"]"
   ]
  },
  {
   "cell_type": "markdown",
   "id": "1c7a05df",
   "metadata": {},
   "source": [
    "### Labels"
   ]
  },
  {
   "cell_type": "code",
   "execution_count": 104,
   "id": "ea3d3738",
   "metadata": {},
   "outputs": [],
   "source": [
    "import pandas as pd\n",
    "from datasets import load_from_disk, Dataset\n",
    "\n",
    "import project_path\n",
    "from src.paths import datap"
   ]
  },
  {
   "cell_type": "code",
   "execution_count": 105,
   "id": "3cb025fd",
   "metadata": {},
   "outputs": [],
   "source": [
    "labels_path = \"/home/justy/workspace/ea/ea-forum-announcements/data/labels.csv\"\n",
    "labels = pd.read_csv(labels_path)"
   ]
  },
  {
   "cell_type": "code",
   "execution_count": 106,
   "id": "8fca9318",
   "metadata": {},
   "outputs": [],
   "source": [
    "dataset_path = \"/home/justy/workspace/ea/ea-forum-announcements/data/posts\"\n",
    "dataset = load_from_disk(dataset_path).to_pandas()"
   ]
  },
  {
   "cell_type": "code",
   "execution_count": 107,
   "id": "5582495a",
   "metadata": {},
   "outputs": [],
   "source": [
    "labels.label = labels.label.map({\"organization\": 0, \"project\": 1, \"other\": 2})"
   ]
  },
  {
   "cell_type": "markdown",
   "id": "bad0b1fb",
   "metadata": {},
   "source": [
    "### Augment the \"other\" class"
   ]
  },
  {
   "cell_type": "code",
   "execution_count": 108,
   "id": "cee04c0e",
   "metadata": {},
   "outputs": [],
   "source": [
    "random_others = dataset.sample(n=200, random_state=42)"
   ]
  },
  {
   "cell_type": "code",
   "execution_count": 109,
   "id": "053efa40",
   "metadata": {},
   "outputs": [
    {
     "name": "stdout",
     "output_type": "stream",
     "text": [
      "200\n",
      "Discarded: 6\n"
     ]
    }
   ],
   "source": [
    "initial = len(random_others)\n",
    "print(initial)\n",
    "random_others = random_others[~random_others.title.apply(lambda x: x.startswith(\"Announcing\"))]\n",
    "random_others = random_others[~random_others.title.apply(lambda x: x.startswith(\"Introducing\"))]\n",
    "print(f\"Discarded: {initial - len(random_others)}\")"
   ]
  },
  {
   "cell_type": "code",
   "execution_count": 110,
   "id": "1f87e132",
   "metadata": {},
   "outputs": [],
   "source": [
    "random_others = random_others._id\n",
    "random_others = random_others.to_frame()\n",
    "random_others[\"label\"] = 2\n",
    "labels = pd.concat((labels, random_others))\n",
    "labels = labels.reset_index()"
   ]
  },
  {
   "cell_type": "code",
   "execution_count": 111,
   "id": "1c338633",
   "metadata": {},
   "outputs": [
    {
     "data": {
      "text/plain": [
       "2    0.758017\n",
       "0    0.154519\n",
       "1    0.087464\n",
       "Name: label, dtype: float64"
      ]
     },
     "execution_count": 111,
     "metadata": {},
     "output_type": "execute_result"
    }
   ],
   "source": [
    "labels.label.value_counts(normalize=True)"
   ]
  },
  {
   "cell_type": "code",
   "execution_count": 112,
   "id": "3562761c",
   "metadata": {},
   "outputs": [],
   "source": [
    "dataset = pd.merge(dataset, labels, on=\"_id\", how=\"left\")"
   ]
  },
  {
   "cell_type": "code",
   "execution_count": 113,
   "id": "3d078225",
   "metadata": {},
   "outputs": [
    {
     "data": {
      "text/plain": [
       "(343, 18)"
      ]
     },
     "execution_count": 113,
     "metadata": {},
     "output_type": "execute_result"
    }
   ],
   "source": [
    "dataset = dataset[~dataset.label.isna()]\n",
    "dataset.shape"
   ]
  },
  {
   "cell_type": "code",
   "execution_count": 29,
   "id": "f88c5e0a",
   "metadata": {},
   "outputs": [],
   "source": [
    "# dataset = dataset.rename({\"body\": \"text\"}, axis=1)"
   ]
  },
  {
   "cell_type": "code",
   "execution_count": 114,
   "id": "b8896240",
   "metadata": {},
   "outputs": [],
   "source": [
    "dataset[[\"_id\", \"body\", \"label\"]].to_csv(datap(\"labeled_posts.csv\"), index=False)"
   ]
  },
  {
   "cell_type": "code",
   "execution_count": 115,
   "id": "6722e0ff",
   "metadata": {},
   "outputs": [],
   "source": [
    "dataset = Dataset.from_pandas(dataset)\n",
    "dataset.save_to_disk(datap(\"labeled_posts\"))\n",
    "# dataset = dataset.train_test_split(test_size=0.4)"
   ]
  },
  {
   "cell_type": "code",
   "execution_count": 132,
   "id": "1c5ca6e2",
   "metadata": {},
   "outputs": [
    {
     "data": {
      "application/vnd.jupyter.widget-view+json": {
       "model_id": "2b9ff624560f456bb44cf4d7237fa0bb",
       "version_major": 2,
       "version_minor": 0
      },
      "text/plain": [
       "Flattening the indices:   0%|          | 0/7 [00:00<?, ?ba/s]"
      ]
     },
     "metadata": {},
     "output_type": "display_data"
    }
   ],
   "source": [
    "# dataset['train'].save_to_disk(datap(\"all_paragraphs_labeled_only/train\"))"
   ]
  },
  {
   "cell_type": "code",
   "execution_count": 133,
   "id": "6888e0ae",
   "metadata": {},
   "outputs": [
    {
     "data": {
      "application/vnd.jupyter.widget-view+json": {
       "model_id": "6a12db41c5964c5299bb756f9320134c",
       "version_major": 2,
       "version_minor": 0
      },
      "text/plain": [
       "Flattening the indices:   0%|          | 0/5 [00:00<?, ?ba/s]"
      ]
     },
     "metadata": {},
     "output_type": "display_data"
    }
   ],
   "source": [
    "# dataset['test'].save_to_disk(datap(\"all_paragraphs_labeled_only/test\"))"
   ]
  }
 ],
 "metadata": {
  "kernelspec": {
   "display_name": "Python 3 (ipykernel)",
   "language": "python",
   "name": "python3"
  },
  "language_info": {
   "codemirror_mode": {
    "name": "ipython",
    "version": 3
   },
   "file_extension": ".py",
   "mimetype": "text/x-python",
   "name": "python",
   "nbconvert_exporter": "python",
   "pygments_lexer": "ipython3",
   "version": "3.8.10"
  }
 },
 "nbformat": 4,
 "nbformat_minor": 5
}
